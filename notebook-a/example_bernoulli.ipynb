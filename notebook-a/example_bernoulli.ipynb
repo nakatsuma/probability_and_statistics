{
 "cells": [
  {
   "cell_type": "markdown",
   "metadata": {},
   "source": [
    "## Bernoulli Distribution\n",
    "---\n",
    "\n",
    "Let us define a random variable $X_i$ $(i=1,\\dots,n)$ corresponding to tossing a coin such that\n",
    "$$\n",
    "X_i = \n",
    "\t\\begin{cases}\n",
    "\t1, & \\text{Head is obtained}; \\\\\n",
    "\t0, & \\text{Tail is obtained},\n",
    "\t\\end{cases}\n",
    "$$\n",
    "and \n",
    "$$\n",
    "\tP(X_i=1) = \\theta,\\quad P(X_i=0) = 1-\\theta.\n",
    "$$\n",
    "Then $X_i$ follows the <font color=red>Bernoulli distribution</font> and its p.m.f. is given by\n",
    "$$\n",
    "\tp(x_i|\\theta) = \\theta^{x_i}(1-\\theta)^{1-x_i},\\quad x_i=0,1.\n",
    "$$\n",
    "Then the joint p.f. of $D=(x_1,\\dots,x_n)$ is\n",
    "\\begin{align*}\n",
    "\tp(D|\\theta) &= \\prod_{i=1}^n p(x_i|\\theta) = \\prod_{i=1}^n \\theta^{x_i}(1-\\theta)^{1-x_i} \\\\\n",
    "\t&= \\theta^{y}(1-\\theta)^{n-y},\\quad y = \\sum_{i=1}^n x_i.\n",
    "\\end{align*}\n",
    "When we regard $p(D|\\theta)$ as a function of $\\theta$, it is called the <font color=red>likelihood</font> or <font color=red>likelihood function</font>."
   ]
  },
  {
   "cell_type": "markdown",
   "metadata": {},
   "source": [
    "## Likelihood of Bernoulli Probability\n",
    "---\n",
    "\n",
    "`import` literally imports a package named NumPy in Python. NumPy enable us to use vectors and matrices in Python. It also comes with numerous functions for mathematical computation. `as np` means that we use `np` as a abbreviation of `numpy`."
   ]
  },
  {
   "cell_type": "code",
   "execution_count": 1,
   "metadata": {},
   "outputs": [],
   "source": [
    "import numpy as np"
   ]
  },
  {
   "cell_type": "markdown",
   "metadata": {},
   "source": [
    "`scipy.stats` is a module in `SciPy`, a Python package for scientific computing. `scipy.stats` includes many functions for statistical analysis."
   ]
  },
  {
   "cell_type": "code",
   "execution_count": 2,
   "metadata": {},
   "outputs": [],
   "source": [
    "import scipy.stats as st"
   ]
  },
  {
   "cell_type": "markdown",
   "metadata": {},
   "source": [
    "We use `bokeh` (BTW, the name of this package originates from a Japanese word \"ボケ\" which means \"blurred\") to create interactive graphs."
   ]
  },
  {
   "cell_type": "code",
   "execution_count": 3,
   "metadata": {},
   "outputs": [],
   "source": [
    "from bokeh.io import show, output_notebook\n",
    "from bokeh.layouts import column, row\n",
    "from bokeh.models import ColumnDataSource, HoverTool, Slider, Span\n",
    "from bokeh.plotting import figure"
   ]
  },
  {
   "cell_type": "markdown",
   "metadata": {},
   "source": [
    "You need to run `output_notebook()` before you use `bokeh` in a Jupyter Notebook."
   ]
  },
  {
   "cell_type": "code",
   "execution_count": 4,
   "metadata": {},
   "outputs": [
    {
     "data": {
      "text/html": [
       "\n",
       "    <div class=\"bk-root\">\n",
       "        <a href=\"https://bokeh.org\" target=\"_blank\" class=\"bk-logo bk-logo-small bk-logo-notebook\"></a>\n",
       "        <span id=\"1002\">Loading BokehJS ...</span>\n",
       "    </div>"
      ]
     },
     "metadata": {},
     "output_type": "display_data"
    },
    {
     "data": {
      "application/javascript": [
       "\n",
       "(function(root) {\n",
       "  function now() {\n",
       "    return new Date();\n",
       "  }\n",
       "\n",
       "  var force = true;\n",
       "\n",
       "  if (typeof root._bokeh_onload_callbacks === \"undefined\" || force === true) {\n",
       "    root._bokeh_onload_callbacks = [];\n",
       "    root._bokeh_is_loading = undefined;\n",
       "  }\n",
       "\n",
       "  var JS_MIME_TYPE = 'application/javascript';\n",
       "  var HTML_MIME_TYPE = 'text/html';\n",
       "  var EXEC_MIME_TYPE = 'application/vnd.bokehjs_exec.v0+json';\n",
       "  var CLASS_NAME = 'output_bokeh rendered_html';\n",
       "\n",
       "  /**\n",
       "   * Render data to the DOM node\n",
       "   */\n",
       "  function render(props, node) {\n",
       "    var script = document.createElement(\"script\");\n",
       "    node.appendChild(script);\n",
       "  }\n",
       "\n",
       "  /**\n",
       "   * Handle when an output is cleared or removed\n",
       "   */\n",
       "  function handleClearOutput(event, handle) {\n",
       "    var cell = handle.cell;\n",
       "\n",
       "    var id = cell.output_area._bokeh_element_id;\n",
       "    var server_id = cell.output_area._bokeh_server_id;\n",
       "    // Clean up Bokeh references\n",
       "    if (id != null && id in Bokeh.index) {\n",
       "      Bokeh.index[id].model.document.clear();\n",
       "      delete Bokeh.index[id];\n",
       "    }\n",
       "\n",
       "    if (server_id !== undefined) {\n",
       "      // Clean up Bokeh references\n",
       "      var cmd = \"from bokeh.io.state import curstate; print(curstate().uuid_to_server['\" + server_id + \"'].get_sessions()[0].document.roots[0]._id)\";\n",
       "      cell.notebook.kernel.execute(cmd, {\n",
       "        iopub: {\n",
       "          output: function(msg) {\n",
       "            var id = msg.content.text.trim();\n",
       "            if (id in Bokeh.index) {\n",
       "              Bokeh.index[id].model.document.clear();\n",
       "              delete Bokeh.index[id];\n",
       "            }\n",
       "          }\n",
       "        }\n",
       "      });\n",
       "      // Destroy server and session\n",
       "      var cmd = \"import bokeh.io.notebook as ion; ion.destroy_server('\" + server_id + \"')\";\n",
       "      cell.notebook.kernel.execute(cmd);\n",
       "    }\n",
       "  }\n",
       "\n",
       "  /**\n",
       "   * Handle when a new output is added\n",
       "   */\n",
       "  function handleAddOutput(event, handle) {\n",
       "    var output_area = handle.output_area;\n",
       "    var output = handle.output;\n",
       "\n",
       "    // limit handleAddOutput to display_data with EXEC_MIME_TYPE content only\n",
       "    if ((output.output_type != \"display_data\") || (!Object.prototype.hasOwnProperty.call(output.data, EXEC_MIME_TYPE))) {\n",
       "      return\n",
       "    }\n",
       "\n",
       "    var toinsert = output_area.element.find(\".\" + CLASS_NAME.split(' ')[0]);\n",
       "\n",
       "    if (output.metadata[EXEC_MIME_TYPE][\"id\"] !== undefined) {\n",
       "      toinsert[toinsert.length - 1].firstChild.textContent = output.data[JS_MIME_TYPE];\n",
       "      // store reference to embed id on output_area\n",
       "      output_area._bokeh_element_id = output.metadata[EXEC_MIME_TYPE][\"id\"];\n",
       "    }\n",
       "    if (output.metadata[EXEC_MIME_TYPE][\"server_id\"] !== undefined) {\n",
       "      var bk_div = document.createElement(\"div\");\n",
       "      bk_div.innerHTML = output.data[HTML_MIME_TYPE];\n",
       "      var script_attrs = bk_div.children[0].attributes;\n",
       "      for (var i = 0; i < script_attrs.length; i++) {\n",
       "        toinsert[toinsert.length - 1].firstChild.setAttribute(script_attrs[i].name, script_attrs[i].value);\n",
       "        toinsert[toinsert.length - 1].firstChild.textContent = bk_div.children[0].textContent\n",
       "      }\n",
       "      // store reference to server id on output_area\n",
       "      output_area._bokeh_server_id = output.metadata[EXEC_MIME_TYPE][\"server_id\"];\n",
       "    }\n",
       "  }\n",
       "\n",
       "  function register_renderer(events, OutputArea) {\n",
       "\n",
       "    function append_mime(data, metadata, element) {\n",
       "      // create a DOM node to render to\n",
       "      var toinsert = this.create_output_subarea(\n",
       "        metadata,\n",
       "        CLASS_NAME,\n",
       "        EXEC_MIME_TYPE\n",
       "      );\n",
       "      this.keyboard_manager.register_events(toinsert);\n",
       "      // Render to node\n",
       "      var props = {data: data, metadata: metadata[EXEC_MIME_TYPE]};\n",
       "      render(props, toinsert[toinsert.length - 1]);\n",
       "      element.append(toinsert);\n",
       "      return toinsert\n",
       "    }\n",
       "\n",
       "    /* Handle when an output is cleared or removed */\n",
       "    events.on('clear_output.CodeCell', handleClearOutput);\n",
       "    events.on('delete.Cell', handleClearOutput);\n",
       "\n",
       "    /* Handle when a new output is added */\n",
       "    events.on('output_added.OutputArea', handleAddOutput);\n",
       "\n",
       "    /**\n",
       "     * Register the mime type and append_mime function with output_area\n",
       "     */\n",
       "    OutputArea.prototype.register_mime_type(EXEC_MIME_TYPE, append_mime, {\n",
       "      /* Is output safe? */\n",
       "      safe: true,\n",
       "      /* Index of renderer in `output_area.display_order` */\n",
       "      index: 0\n",
       "    });\n",
       "  }\n",
       "\n",
       "  // register the mime type if in Jupyter Notebook environment and previously unregistered\n",
       "  if (root.Jupyter !== undefined) {\n",
       "    var events = require('base/js/events');\n",
       "    var OutputArea = require('notebook/js/outputarea').OutputArea;\n",
       "\n",
       "    if (OutputArea.prototype.mime_types().indexOf(EXEC_MIME_TYPE) == -1) {\n",
       "      register_renderer(events, OutputArea);\n",
       "    }\n",
       "  }\n",
       "\n",
       "  \n",
       "  if (typeof (root._bokeh_timeout) === \"undefined\" || force === true) {\n",
       "    root._bokeh_timeout = Date.now() + 5000;\n",
       "    root._bokeh_failed_load = false;\n",
       "  }\n",
       "\n",
       "  var NB_LOAD_WARNING = {'data': {'text/html':\n",
       "     \"<div style='background-color: #fdd'>\\n\"+\n",
       "     \"<p>\\n\"+\n",
       "     \"BokehJS does not appear to have successfully loaded. If loading BokehJS from CDN, this \\n\"+\n",
       "     \"may be due to a slow or bad network connection. Possible fixes:\\n\"+\n",
       "     \"</p>\\n\"+\n",
       "     \"<ul>\\n\"+\n",
       "     \"<li>re-rerun `output_notebook()` to attempt to load from CDN again, or</li>\\n\"+\n",
       "     \"<li>use INLINE resources instead, as so:</li>\\n\"+\n",
       "     \"</ul>\\n\"+\n",
       "     \"<code>\\n\"+\n",
       "     \"from bokeh.resources import INLINE\\n\"+\n",
       "     \"output_notebook(resources=INLINE)\\n\"+\n",
       "     \"</code>\\n\"+\n",
       "     \"</div>\"}};\n",
       "\n",
       "  function display_loaded() {\n",
       "    var el = document.getElementById(\"1002\");\n",
       "    if (el != null) {\n",
       "      el.textContent = \"BokehJS is loading...\";\n",
       "    }\n",
       "    if (root.Bokeh !== undefined) {\n",
       "      if (el != null) {\n",
       "        el.textContent = \"BokehJS \" + root.Bokeh.version + \" successfully loaded.\";\n",
       "      }\n",
       "    } else if (Date.now() < root._bokeh_timeout) {\n",
       "      setTimeout(display_loaded, 100)\n",
       "    }\n",
       "  }\n",
       "\n",
       "\n",
       "  function run_callbacks() {\n",
       "    try {\n",
       "      root._bokeh_onload_callbacks.forEach(function(callback) {\n",
       "        if (callback != null)\n",
       "          callback();\n",
       "      });\n",
       "    } finally {\n",
       "      delete root._bokeh_onload_callbacks\n",
       "    }\n",
       "    console.debug(\"Bokeh: all callbacks have finished\");\n",
       "  }\n",
       "\n",
       "  function load_libs(css_urls, js_urls, callback) {\n",
       "    if (css_urls == null) css_urls = [];\n",
       "    if (js_urls == null) js_urls = [];\n",
       "\n",
       "    root._bokeh_onload_callbacks.push(callback);\n",
       "    if (root._bokeh_is_loading > 0) {\n",
       "      console.debug(\"Bokeh: BokehJS is being loaded, scheduling callback at\", now());\n",
       "      return null;\n",
       "    }\n",
       "    if (js_urls == null || js_urls.length === 0) {\n",
       "      run_callbacks();\n",
       "      return null;\n",
       "    }\n",
       "    console.debug(\"Bokeh: BokehJS not loaded, scheduling load and callback at\", now());\n",
       "    root._bokeh_is_loading = css_urls.length + js_urls.length;\n",
       "\n",
       "    function on_load() {\n",
       "      root._bokeh_is_loading--;\n",
       "      if (root._bokeh_is_loading === 0) {\n",
       "        console.debug(\"Bokeh: all BokehJS libraries/stylesheets loaded\");\n",
       "        run_callbacks()\n",
       "      }\n",
       "    }\n",
       "\n",
       "    function on_error(url) {\n",
       "      console.error(\"failed to load \" + url);\n",
       "    }\n",
       "\n",
       "    for (let i = 0; i < css_urls.length; i++) {\n",
       "      const url = css_urls[i];\n",
       "      const element = document.createElement(\"link\");\n",
       "      element.onload = on_load;\n",
       "      element.onerror = on_error.bind(null, url);\n",
       "      element.rel = \"stylesheet\";\n",
       "      element.type = \"text/css\";\n",
       "      element.href = url;\n",
       "      console.debug(\"Bokeh: injecting link tag for BokehJS stylesheet: \", url);\n",
       "      document.body.appendChild(element);\n",
       "    }\n",
       "\n",
       "    const hashes = {\"https://cdn.bokeh.org/bokeh/release/bokeh-2.3.2.min.js\": \"XypntL49z55iwGVUW4qsEu83zKL3XEcz0MjuGOQ9SlaaQ68X/g+k1FcioZi7oQAc\", \"https://cdn.bokeh.org/bokeh/release/bokeh-tables-2.3.2.min.js\": \"bEsM86IHGDTLCS0Zod8a8WM6Y4+lafAL/eSiyQcuPzinmWNgNO2/olUF0Z2Dkn5i\", \"https://cdn.bokeh.org/bokeh/release/bokeh-widgets-2.3.2.min.js\": \"TX0gSQTdXTTeScqxj6PVQxTiRW8DOoGVwinyi1D3kxv7wuxQ02XkOxv0xwiypcAH\"};\n",
       "\n",
       "    for (let i = 0; i < js_urls.length; i++) {\n",
       "      const url = js_urls[i];\n",
       "      const element = document.createElement('script');\n",
       "      element.onload = on_load;\n",
       "      element.onerror = on_error.bind(null, url);\n",
       "      element.async = false;\n",
       "      element.src = url;\n",
       "      if (url in hashes) {\n",
       "        element.crossOrigin = \"anonymous\";\n",
       "        element.integrity = \"sha384-\" + hashes[url];\n",
       "      }\n",
       "      console.debug(\"Bokeh: injecting script tag for BokehJS library: \", url);\n",
       "      document.head.appendChild(element);\n",
       "    }\n",
       "  };\n",
       "\n",
       "  function inject_raw_css(css) {\n",
       "    const element = document.createElement(\"style\");\n",
       "    element.appendChild(document.createTextNode(css));\n",
       "    document.body.appendChild(element);\n",
       "  }\n",
       "\n",
       "  \n",
       "  var js_urls = [\"https://cdn.bokeh.org/bokeh/release/bokeh-2.3.2.min.js\", \"https://cdn.bokeh.org/bokeh/release/bokeh-widgets-2.3.2.min.js\", \"https://cdn.bokeh.org/bokeh/release/bokeh-tables-2.3.2.min.js\"];\n",
       "  var css_urls = [];\n",
       "  \n",
       "\n",
       "  var inline_js = [\n",
       "    function(Bokeh) {\n",
       "      Bokeh.set_log_level(\"info\");\n",
       "    },\n",
       "    function(Bokeh) {\n",
       "    \n",
       "    \n",
       "    }\n",
       "  ];\n",
       "\n",
       "  function run_inline_js() {\n",
       "    \n",
       "    if (root.Bokeh !== undefined || force === true) {\n",
       "      \n",
       "    for (var i = 0; i < inline_js.length; i++) {\n",
       "      inline_js[i].call(root, root.Bokeh);\n",
       "    }\n",
       "    if (force === true) {\n",
       "        display_loaded();\n",
       "      }} else if (Date.now() < root._bokeh_timeout) {\n",
       "      setTimeout(run_inline_js, 100);\n",
       "    } else if (!root._bokeh_failed_load) {\n",
       "      console.log(\"Bokeh: BokehJS failed to load within specified timeout.\");\n",
       "      root._bokeh_failed_load = true;\n",
       "    } else if (force !== true) {\n",
       "      var cell = $(document.getElementById(\"1002\")).parents('.cell').data().cell;\n",
       "      cell.output_area.append_execute_result(NB_LOAD_WARNING)\n",
       "    }\n",
       "\n",
       "  }\n",
       "\n",
       "  if (root._bokeh_is_loading === 0) {\n",
       "    console.debug(\"Bokeh: BokehJS loaded, going straight to plotting\");\n",
       "    run_inline_js();\n",
       "  } else {\n",
       "    load_libs(css_urls, js_urls, function() {\n",
       "      console.debug(\"Bokeh: BokehJS plotting callback run at\", now());\n",
       "      run_inline_js();\n",
       "    });\n",
       "  }\n",
       "}(window));"
      ],
      "application/vnd.bokehjs_load.v0+json": "\n(function(root) {\n  function now() {\n    return new Date();\n  }\n\n  var force = true;\n\n  if (typeof root._bokeh_onload_callbacks === \"undefined\" || force === true) {\n    root._bokeh_onload_callbacks = [];\n    root._bokeh_is_loading = undefined;\n  }\n\n  \n\n  \n  if (typeof (root._bokeh_timeout) === \"undefined\" || force === true) {\n    root._bokeh_timeout = Date.now() + 5000;\n    root._bokeh_failed_load = false;\n  }\n\n  var NB_LOAD_WARNING = {'data': {'text/html':\n     \"<div style='background-color: #fdd'>\\n\"+\n     \"<p>\\n\"+\n     \"BokehJS does not appear to have successfully loaded. If loading BokehJS from CDN, this \\n\"+\n     \"may be due to a slow or bad network connection. Possible fixes:\\n\"+\n     \"</p>\\n\"+\n     \"<ul>\\n\"+\n     \"<li>re-rerun `output_notebook()` to attempt to load from CDN again, or</li>\\n\"+\n     \"<li>use INLINE resources instead, as so:</li>\\n\"+\n     \"</ul>\\n\"+\n     \"<code>\\n\"+\n     \"from bokeh.resources import INLINE\\n\"+\n     \"output_notebook(resources=INLINE)\\n\"+\n     \"</code>\\n\"+\n     \"</div>\"}};\n\n  function display_loaded() {\n    var el = document.getElementById(\"1002\");\n    if (el != null) {\n      el.textContent = \"BokehJS is loading...\";\n    }\n    if (root.Bokeh !== undefined) {\n      if (el != null) {\n        el.textContent = \"BokehJS \" + root.Bokeh.version + \" successfully loaded.\";\n      }\n    } else if (Date.now() < root._bokeh_timeout) {\n      setTimeout(display_loaded, 100)\n    }\n  }\n\n\n  function run_callbacks() {\n    try {\n      root._bokeh_onload_callbacks.forEach(function(callback) {\n        if (callback != null)\n          callback();\n      });\n    } finally {\n      delete root._bokeh_onload_callbacks\n    }\n    console.debug(\"Bokeh: all callbacks have finished\");\n  }\n\n  function load_libs(css_urls, js_urls, callback) {\n    if (css_urls == null) css_urls = [];\n    if (js_urls == null) js_urls = [];\n\n    root._bokeh_onload_callbacks.push(callback);\n    if (root._bokeh_is_loading > 0) {\n      console.debug(\"Bokeh: BokehJS is being loaded, scheduling callback at\", now());\n      return null;\n    }\n    if (js_urls == null || js_urls.length === 0) {\n      run_callbacks();\n      return null;\n    }\n    console.debug(\"Bokeh: BokehJS not loaded, scheduling load and callback at\", now());\n    root._bokeh_is_loading = css_urls.length + js_urls.length;\n\n    function on_load() {\n      root._bokeh_is_loading--;\n      if (root._bokeh_is_loading === 0) {\n        console.debug(\"Bokeh: all BokehJS libraries/stylesheets loaded\");\n        run_callbacks()\n      }\n    }\n\n    function on_error(url) {\n      console.error(\"failed to load \" + url);\n    }\n\n    for (let i = 0; i < css_urls.length; i++) {\n      const url = css_urls[i];\n      const element = document.createElement(\"link\");\n      element.onload = on_load;\n      element.onerror = on_error.bind(null, url);\n      element.rel = \"stylesheet\";\n      element.type = \"text/css\";\n      element.href = url;\n      console.debug(\"Bokeh: injecting link tag for BokehJS stylesheet: \", url);\n      document.body.appendChild(element);\n    }\n\n    const hashes = {\"https://cdn.bokeh.org/bokeh/release/bokeh-2.3.2.min.js\": \"XypntL49z55iwGVUW4qsEu83zKL3XEcz0MjuGOQ9SlaaQ68X/g+k1FcioZi7oQAc\", \"https://cdn.bokeh.org/bokeh/release/bokeh-tables-2.3.2.min.js\": \"bEsM86IHGDTLCS0Zod8a8WM6Y4+lafAL/eSiyQcuPzinmWNgNO2/olUF0Z2Dkn5i\", \"https://cdn.bokeh.org/bokeh/release/bokeh-widgets-2.3.2.min.js\": \"TX0gSQTdXTTeScqxj6PVQxTiRW8DOoGVwinyi1D3kxv7wuxQ02XkOxv0xwiypcAH\"};\n\n    for (let i = 0; i < js_urls.length; i++) {\n      const url = js_urls[i];\n      const element = document.createElement('script');\n      element.onload = on_load;\n      element.onerror = on_error.bind(null, url);\n      element.async = false;\n      element.src = url;\n      if (url in hashes) {\n        element.crossOrigin = \"anonymous\";\n        element.integrity = \"sha384-\" + hashes[url];\n      }\n      console.debug(\"Bokeh: injecting script tag for BokehJS library: \", url);\n      document.head.appendChild(element);\n    }\n  };\n\n  function inject_raw_css(css) {\n    const element = document.createElement(\"style\");\n    element.appendChild(document.createTextNode(css));\n    document.body.appendChild(element);\n  }\n\n  \n  var js_urls = [\"https://cdn.bokeh.org/bokeh/release/bokeh-2.3.2.min.js\", \"https://cdn.bokeh.org/bokeh/release/bokeh-widgets-2.3.2.min.js\", \"https://cdn.bokeh.org/bokeh/release/bokeh-tables-2.3.2.min.js\"];\n  var css_urls = [];\n  \n\n  var inline_js = [\n    function(Bokeh) {\n      Bokeh.set_log_level(\"info\");\n    },\n    function(Bokeh) {\n    \n    \n    }\n  ];\n\n  function run_inline_js() {\n    \n    if (root.Bokeh !== undefined || force === true) {\n      \n    for (var i = 0; i < inline_js.length; i++) {\n      inline_js[i].call(root, root.Bokeh);\n    }\n    if (force === true) {\n        display_loaded();\n      }} else if (Date.now() < root._bokeh_timeout) {\n      setTimeout(run_inline_js, 100);\n    } else if (!root._bokeh_failed_load) {\n      console.log(\"Bokeh: BokehJS failed to load within specified timeout.\");\n      root._bokeh_failed_load = true;\n    } else if (force !== true) {\n      var cell = $(document.getElementById(\"1002\")).parents('.cell').data().cell;\n      cell.output_area.append_execute_result(NB_LOAD_WARNING)\n    }\n\n  }\n\n  if (root._bokeh_is_loading === 0) {\n    console.debug(\"Bokeh: BokehJS loaded, going straight to plotting\");\n    run_inline_js();\n  } else {\n    load_libs(css_urls, js_urls, function() {\n      console.debug(\"Bokeh: BokehJS plotting callback run at\", now());\n      run_inline_js();\n    });\n  }\n}(window));"
     },
     "metadata": {},
     "output_type": "display_data"
    }
   ],
   "source": [
    "output_notebook()"
   ]
  },
  {
   "cell_type": "markdown",
   "metadata": {},
   "source": [
    "`q` is a 101 $\\times$ 1 vector that contains a grid, {0.0, 0.01, $\\ldots$, 1.0}. The first number in `linspace(0.0, 1.0, 101)` is the starting point, the second is the end point, and the third is the number of grid points."
   ]
  },
  {
   "cell_type": "code",
   "execution_count": 5,
   "metadata": {},
   "outputs": [],
   "source": [
    "q = np.linspace(0.0, 1.0, 101)"
   ]
  },
  {
   "cell_type": "markdown",
   "metadata": {},
   "source": [
    "`print` shows the content of `q`."
   ]
  },
  {
   "cell_type": "code",
   "execution_count": 6,
   "metadata": {},
   "outputs": [
    {
     "name": "stdout",
     "output_type": "stream",
     "text": [
      "[0.   0.01 0.02 0.03 0.04 0.05 0.06 0.07 0.08 0.09 0.1  0.11 0.12 0.13\n",
      " 0.14 0.15 0.16 0.17 0.18 0.19 0.2  0.21 0.22 0.23 0.24 0.25 0.26 0.27\n",
      " 0.28 0.29 0.3  0.31 0.32 0.33 0.34 0.35 0.36 0.37 0.38 0.39 0.4  0.41\n",
      " 0.42 0.43 0.44 0.45 0.46 0.47 0.48 0.49 0.5  0.51 0.52 0.53 0.54 0.55\n",
      " 0.56 0.57 0.58 0.59 0.6  0.61 0.62 0.63 0.64 0.65 0.66 0.67 0.68 0.69\n",
      " 0.7  0.71 0.72 0.73 0.74 0.75 0.76 0.77 0.78 0.79 0.8  0.81 0.82 0.83\n",
      " 0.84 0.85 0.86 0.87 0.88 0.89 0.9  0.91 0.92 0.93 0.94 0.95 0.96 0.97\n",
      " 0.98 0.99 1.  ]\n"
     ]
    }
   ],
   "source": [
    "print(q)"
   ]
  },
  {
   "cell_type": "markdown",
   "metadata": {},
   "source": [
    "`x` is the data set."
   ]
  },
  {
   "cell_type": "code",
   "execution_count": 7,
   "metadata": {},
   "outputs": [],
   "source": [
    "x = np.array([1, 0, 1, 1, 1])"
   ]
  },
  {
   "cell_type": "markdown",
   "metadata": {},
   "source": [
    "`def` is used to define a new function. In the following cell, the likelihood function of a Bernoulli distribution is defined."
   ]
  },
  {
   "cell_type": "code",
   "execution_count": 8,
   "metadata": {},
   "outputs": [],
   "source": [
    "def bernoulli_likelihood(x, q):\n",
    "    n = len(x)\n",
    "    y = np.sum(x)\n",
    "    return q ** y * (1.0 - q) ** (n - y)"
   ]
  },
  {
   "cell_type": "markdown",
   "metadata": {},
   "source": [
    "The following cell creates a graph of the likelihood."
   ]
  },
  {
   "cell_type": "code",
   "execution_count": 9,
   "metadata": {},
   "outputs": [
    {
     "data": {
      "text/html": [
       "\n",
       "\n",
       "\n",
       "\n",
       "\n",
       "\n",
       "  <div class=\"bk-root\" id=\"26d6c1ef-433a-4c37-9f91-ac1822bc1f47\" data-root-id=\"1005\"></div>\n"
      ]
     },
     "metadata": {},
     "output_type": "display_data"
    },
    {
     "data": {
      "application/javascript": [
       "(function(root) {\n",
       "  function embed_document(root) {\n",
       "    \n",
       "  var docs_json = {\"f0c72f23-d52d-45f6-8262-b72be7bd36bb\":{\"defs\":[],\"roots\":{\"references\":[{\"attributes\":{\"below\":[{\"id\":\"1016\"}],\"center\":[{\"id\":\"1019\"},{\"id\":\"1023\"}],\"height\":300,\"left\":[{\"id\":\"1020\"}],\"outline_line_color\":null,\"renderers\":[{\"id\":\"1029\"}],\"title\":{\"id\":\"1006\"},\"toolbar\":{\"id\":\"1024\"},\"toolbar_location\":null,\"width\":400,\"x_range\":{\"id\":\"1008\"},\"x_scale\":{\"id\":\"1012\"},\"y_range\":{\"id\":\"1010\"},\"y_scale\":{\"id\":\"1014\"}},\"id\":\"1005\",\"subtype\":\"Figure\",\"type\":\"Plot\"},{\"attributes\":{},\"id\":\"1034\",\"type\":\"BasicTickFormatter\"},{\"attributes\":{\"axis\":{\"id\":\"1020\"},\"dimension\":1,\"grid_line_color\":null,\"ticker\":null},\"id\":\"1023\",\"type\":\"Grid\"},{\"attributes\":{\"axis_label\":\"Likelihood\",\"formatter\":{\"id\":\"1034\"},\"major_label_policy\":{\"id\":\"1033\"},\"ticker\":{\"id\":\"1021\"}},\"id\":\"1020\",\"type\":\"LinearAxis\"},{\"attributes\":{},\"id\":\"1038\",\"type\":\"UnionRenderers\"},{\"attributes\":{\"data\":{\"l\":{\"__ndarray__\":\"AAAAAAAAAAC+3HwilUJFPkMtyWKbC4U+LzNnkhxdqj5MzmHjp53EPp8MjpJX59g+5vSITmCM6T6tcdfP+Wn3Pl8Qk+TAwQM/IA+AnXtNDz8Q1v85zJcXP5iRaZFOFCE/VXjMxufqJz8qjO160EgwP/O4wfzQpjU/3c1THXIzPD+ClPXm8glCP2ThQNkvt0Y/pDrQy/A0TD8J0Q76gUtRP/Jo44i1+FQ/RLC91CAsWT9BcvWf0e9dPwDGLGXkpmE/Mn9Tt/anZD8AAAAAAABoP3OHsbPGs2s/TQGREPHHbz9+R5ZWfyByPz2ImQOhkXQ/ttYXCW05dz/oriLj1Rl6P5Y5ddetNH0/Vghp3tFFgD/ggTDhHxCCP0Vuhhvw+YM/rJFwKNsDhj/L8TN6YS6IPxm4A77peYo/EhSwP7/mjD9qHVVNEHWPPyzbhE12EpE/4TZH0yF7kj/HMH6NcfSTP2MQOpo6fpU/8kbmkT8Ylz+G4CC5L8KYPyP1kTKme5o/2RnDMClEnD/00fYnKRuePwAAAAAAAKA/fKsMI/j4oD+yZV4vEvihPzeCvdvW/KI/hWZp/MEGpD+GQgQcQhWlPyjJfhS4J6Y/5ugDqHY9pz9XhOQZwlWoP88qg8fPb6k/0NA/wcWKqj+tiGNjuqWrPxc7DO+zv6w/qF8YI6jXrT9ytRLVe+yuP5X7HYoC/a8/4VTwB/+DsD9rVLgKDwaxP7KFH+L/g7E/IeOBrBb9sT+OtFTejnCyP39rnA6a3bI/d39iw19Dsz81Sis+/aCzPwXka0iF9bM/AAAAAABAtD9WyJ+jan+0P5e6VV+3srQ//IP0GM3YtD+m3Yw8h/C0P/Bo44i1+LQ/tIvm2xvwtD+LTCT/cdW0Px8vQHRjp7Q/bBBpQY9ktD8IA8+9hwu0P24rGV7SmrM/Q5zbgOcQsz+eMg07MmyyP01yfSQQq7E/I2JKJNHLsD900Kx6bpmvP3RMfLXsV60/TqucOGjPqj8/SPNFD/ynP1ofnbry2aQ/FIbapwVloT9ex/XXOTKbPxHUkJbd45I/8jfPI0qsgz8AAAAAAAAAAA==\",\"dtype\":\"float64\",\"order\":\"little\",\"shape\":[101]},\"q\":{\"__ndarray__\":\"AAAAAAAAAAB7FK5H4XqEP3sUrkfhepQ/uB6F61G4nj97FK5H4XqkP5qZmZmZmak/uB6F61G4rj/sUbgeheuxP3sUrkfherQ/CtejcD0Ktz+amZmZmZm5Pylcj8L1KLw/uB6F61G4vj+kcD0K16PAP+xRuB6F68E/MzMzMzMzwz97FK5H4XrEP8P1KFyPwsU/CtejcD0Kxz9SuB6F61HIP5qZmZmZmck/4XoUrkfhyj8pXI/C9SjMP3E9CtejcM0/uB6F61G4zj8AAAAAAADQP6RwPQrXo9A/SOF6FK5H0T/sUbgehevRP4/C9Shcj9I/MzMzMzMz0z/Xo3A9CtfTP3sUrkfhetQ/H4XrUbge1T/D9Shcj8LVP2dmZmZmZtY/CtejcD0K1z+uR+F6FK7XP1K4HoXrUdg/9ihcj8L12D+amZmZmZnZPz4K16NwPdo/4XoUrkfh2j+F61G4HoXbPylcj8L1KNw/zczMzMzM3D9xPQrXo3DdPxWuR+F6FN4/uB6F61G43j9cj8L1KFzfPwAAAAAAAOA/UrgehetR4D+kcD0K16PgP/YoXI/C9eA/SOF6FK5H4T+amZmZmZnhP+xRuB6F6+E/PgrXo3A94j+PwvUoXI/iP+F6FK5H4eI/MzMzMzMz4z+F61G4HoXjP9ejcD0K1+M/KVyPwvUo5D97FK5H4XrkP83MzMzMzOQ/H4XrUbge5T9xPQrXo3DlP8P1KFyPwuU/Fa5H4XoU5j9nZmZmZmbmP7gehetRuOY/CtejcD0K5z9cj8L1KFznP65H4XoUruc/AAAAAAAA6D9SuB6F61HoP6RwPQrXo+g/9ihcj8L16D9I4XoUrkfpP5qZmZmZmek/7FG4HoXr6T8+CtejcD3qP5DC9Shcj+o/4XoUrkfh6j8zMzMzMzPrP4XrUbgehes/16NwPQrX6z8pXI/C9SjsP3sUrkfheuw/zczMzMzM7D8fhetRuB7tP3E9CtejcO0/w/UoXI/C7T8VrkfhehTuP2dmZmZmZu4/uB6F61G47j8K16NwPQrvP1yPwvUoXO8/rkfhehSu7z8AAAAAAADwPw==\",\"dtype\":\"float64\",\"order\":\"little\",\"shape\":[101]}},\"selected\":{\"id\":\"1039\"},\"selection_policy\":{\"id\":\"1038\"}},\"id\":\"1003\",\"type\":\"ColumnDataSource\"},{\"attributes\":{},\"id\":\"1039\",\"type\":\"Selection\"},{\"attributes\":{},\"id\":\"1033\",\"type\":\"AllLabels\"},{\"attributes\":{\"line_color\":\"navy\",\"line_width\":2,\"x\":{\"field\":\"q\"},\"y\":{\"field\":\"l\"}},\"id\":\"1027\",\"type\":\"Line\"},{\"attributes\":{},\"id\":\"1017\",\"type\":\"BasicTicker\"},{\"attributes\":{},\"id\":\"1021\",\"type\":\"BasicTicker\"},{\"attributes\":{\"text\":\"Likelihood (Bernoulli Distribution)\"},\"id\":\"1006\",\"type\":\"Title\"},{\"attributes\":{\"active_multi\":null,\"tools\":[{\"id\":\"1004\"}]},\"id\":\"1024\",\"type\":\"Toolbar\"},{\"attributes\":{\"data_source\":{\"id\":\"1003\"},\"glyph\":{\"id\":\"1027\"},\"hover_glyph\":null,\"muted_glyph\":null,\"nonselection_glyph\":{\"id\":\"1028\"},\"view\":{\"id\":\"1030\"}},\"id\":\"1029\",\"type\":\"GlyphRenderer\"},{\"attributes\":{},\"id\":\"1036\",\"type\":\"AllLabels\"},{\"attributes\":{},\"id\":\"1037\",\"type\":\"BasicTickFormatter\"},{\"attributes\":{\"axis\":{\"id\":\"1016\"},\"grid_line_color\":null,\"ticker\":null},\"id\":\"1019\",\"type\":\"Grid\"},{\"attributes\":{\"line_alpha\":0.1,\"line_color\":\"navy\",\"line_width\":2,\"x\":{\"field\":\"q\"},\"y\":{\"field\":\"l\"}},\"id\":\"1028\",\"type\":\"Line\"},{\"attributes\":{},\"id\":\"1008\",\"type\":\"Range1d\"},{\"attributes\":{\"end\":0.1},\"id\":\"1010\",\"type\":\"Range1d\"},{\"attributes\":{\"source\":{\"id\":\"1003\"}},\"id\":\"1030\",\"type\":\"CDSView\"},{\"attributes\":{\"axis_label\":\"\\u03b8\",\"formatter\":{\"id\":\"1037\"},\"major_label_policy\":{\"id\":\"1036\"},\"ticker\":{\"id\":\"1017\"}},\"id\":\"1016\",\"type\":\"LinearAxis\"},{\"attributes\":{},\"id\":\"1012\",\"type\":\"LinearScale\"},{\"attributes\":{\"callback\":null,\"tooltips\":[[\"\\u03b8\",\"@q{0.0000}\"],[\"likelihood\",\"@l{0.0000}\"]]},\"id\":\"1004\",\"type\":\"HoverTool\"},{\"attributes\":{},\"id\":\"1014\",\"type\":\"LinearScale\"}],\"root_ids\":[\"1005\"]},\"title\":\"Bokeh Application\",\"version\":\"2.3.2\"}};\n",
       "  var render_items = [{\"docid\":\"f0c72f23-d52d-45f6-8262-b72be7bd36bb\",\"root_ids\":[\"1005\"],\"roots\":{\"1005\":\"26d6c1ef-433a-4c37-9f91-ac1822bc1f47\"}}];\n",
       "  root.Bokeh.embed.embed_items_notebook(docs_json, render_items);\n",
       "\n",
       "  }\n",
       "  if (root.Bokeh !== undefined) {\n",
       "    embed_document(root);\n",
       "  } else {\n",
       "    var attempts = 0;\n",
       "    var timer = setInterval(function(root) {\n",
       "      if (root.Bokeh !== undefined) {\n",
       "        clearInterval(timer);\n",
       "        embed_document(root);\n",
       "      } else {\n",
       "        attempts++;\n",
       "        if (attempts > 100) {\n",
       "          clearInterval(timer);\n",
       "          console.log(\"Bokeh: ERROR: Unable to run BokehJS code because BokehJS library is missing\");\n",
       "        }\n",
       "      }\n",
       "    }, 10, root)\n",
       "  }\n",
       "})(window);"
      ],
      "application/vnd.bokehjs_exec.v0+json": ""
     },
     "metadata": {
      "application/vnd.bokehjs_exec.v0+json": {
       "id": "1005"
      }
     },
     "output_type": "display_data"
    }
   ],
   "source": [
    "source = ColumnDataSource(\n",
    "    data=dict(\n",
    "        q = q,\n",
    "        l = bernoulli_likelihood(x, q)\n",
    "    )\n",
    ")\n",
    "hover = HoverTool(\n",
    "    tooltips=[\n",
    "        ('\\u03B8', '@q{0.0000}'), \n",
    "        ('likelihood', '@l{0.0000}')\n",
    "    ]\n",
    ")\n",
    "p = figure(plot_width=400, plot_height=300, x_range=(0, 1), y_range=(0, 0.1),\n",
    "           tools=[hover], toolbar_location=None, title='Likelihood (Bernoulli Distribution)')\n",
    "p.line('q', 'l', source=source, line_color='navy', line_width=2)\n",
    "p.xaxis.axis_label = '\\u03B8'\n",
    "p.yaxis.axis_label = 'Likelihood'\n",
    "p.xgrid.grid_line_color = p.ygrid.grid_line_color = p.outline_line_color = None\n",
    "show(p)"
   ]
  },
  {
   "cell_type": "markdown",
   "metadata": {},
   "source": [
    "The following cell draws a plot to illustrate two kinds of prior distribution for the probability of sucess in the Bernoulli distribution."
   ]
  },
  {
   "cell_type": "code",
   "execution_count": 10,
   "metadata": {},
   "outputs": [
    {
     "data": {
      "text/html": [
       "\n",
       "\n",
       "\n",
       "\n",
       "\n",
       "\n",
       "  <div class=\"bk-root\" id=\"e351978c-20aa-4cbc-bcd7-36e27f962ccf\" data-root-id=\"1087\"></div>\n"
      ]
     },
     "metadata": {},
     "output_type": "display_data"
    },
    {
     "data": {
      "application/javascript": [
       "(function(root) {\n",
       "  function embed_document(root) {\n",
       "    \n",
       "  var docs_json = {\"85f2e678-936a-4a39-ad25-9447a52a0676\":{\"defs\":[],\"roots\":{\"references\":[{\"attributes\":{\"below\":[{\"id\":\"1098\"}],\"center\":[{\"id\":\"1101\"},{\"id\":\"1105\"},{\"id\":\"1122\"}],\"height\":300,\"left\":[{\"id\":\"1102\"}],\"outline_line_color\":null,\"renderers\":[{\"id\":\"1111\"},{\"id\":\"1127\"}],\"title\":{\"id\":\"1088\"},\"toolbar\":{\"id\":\"1106\"},\"toolbar_location\":null,\"width\":400,\"x_range\":{\"id\":\"1090\"},\"x_scale\":{\"id\":\"1094\"},\"y_range\":{\"id\":\"1092\"},\"y_scale\":{\"id\":\"1096\"}},\"id\":\"1087\",\"subtype\":\"Figure\",\"type\":\"Plot\"},{\"attributes\":{\"border_line_color\":null,\"click_policy\":\"hide\",\"items\":[{\"id\":\"1123\"},{\"id\":\"1138\"}],\"location\":\"bottom_center\"},\"id\":\"1122\",\"type\":\"Legend\"},{\"attributes\":{\"label\":{\"value\":\"Beta distribution\"},\"renderers\":[{\"id\":\"1127\"}]},\"id\":\"1138\",\"type\":\"LegendItem\"},{\"attributes\":{\"data_source\":{\"id\":\"1085\"},\"glyph\":{\"id\":\"1109\"},\"hover_glyph\":null,\"muted_glyph\":null,\"nonselection_glyph\":{\"id\":\"1110\"},\"view\":{\"id\":\"1112\"}},\"id\":\"1111\",\"type\":\"GlyphRenderer\"},{\"attributes\":{\"line_color\":\"navy\",\"line_width\":2,\"x\":{\"field\":\"q\"},\"y\":{\"field\":\"uniform_pdf\"}},\"id\":\"1109\",\"type\":\"Line\"},{\"attributes\":{\"axis_label\":\"Probability density\",\"formatter\":{\"id\":\"1116\"},\"major_label_policy\":{\"id\":\"1115\"},\"ticker\":{\"id\":\"1103\"}},\"id\":\"1102\",\"type\":\"LinearAxis\"},{\"attributes\":{\"line_alpha\":0.1,\"line_color\":\"navy\",\"line_width\":2,\"x\":{\"field\":\"q\"},\"y\":{\"field\":\"uniform_pdf\"}},\"id\":\"1110\",\"type\":\"Line\"},{\"attributes\":{},\"id\":\"1115\",\"type\":\"AllLabels\"},{\"attributes\":{\"source\":{\"id\":\"1085\"}},\"id\":\"1112\",\"type\":\"CDSView\"},{\"attributes\":{},\"id\":\"1116\",\"type\":\"BasicTickFormatter\"},{\"attributes\":{\"axis\":{\"id\":\"1102\"},\"dimension\":1,\"grid_line_color\":null,\"ticker\":null},\"id\":\"1105\",\"type\":\"Grid\"},{\"attributes\":{\"data\":{\"beta_pdf\":{\"__ndarray__\":\"AAAAAAAAAAB+V4CT3LCRPoXhTKO00OA+KCQOCbBTDj/1Qr57CFYuP2QmdPTH9kU/9kLhNB7rWT+hi4JNK41qP7kkTE9vhXg/ag+OKUnrhD9u9EGT38KQP6YW7ugDh5k/6eG7eiWjoj/KGCtP0kOqP6JuT0dF9LE/wDQXIwbptz+CINAbiR6/P8Tb+Hgr2MM/nGnE2jDbyD992v2NK6LOPyVBLX5CmtI/ngWeOX1L1j/0cHLjtWXaP/CAR9hb6N4/1pIdhKno4T8FAAAAeI7kP/leWlr9Yuc/TWFm6tti6j/djmYl/IntPzfR9aLLafA/l7b1TiId8j/ZW+OoBNzzP3y7Yho1o/U/ueWRvT9v9z8lYjz5hDz5P+8AfrdEB/s/n5l1DarL/D+CHH8q14X+P7qq2rL4GABARuyXoBbmAEDc9MQdbagBQGBs2iQ3XgJAbi5yasgFA0BEhD+Nkp0DQMOKMOcpJARAuMoy8UmYBEBpU4Us2fgEQK/aDIbsRAVAdxO/Kcp7BUCoF+6965wFQAEAAAAAqAVAqBfuveucBUB3E78pynsFQK/aDIbsRAVAaVOFLNn4BEC4yjLxSZgEQL6KMOcpJARARIQ/jZKdA0BuLnJqyAUDQGBs2iQ3XgJA3PTEHW2oAUBG7JegFuYAQLqq2rL4GABAghx/KteF/j+fmXUNqsv8P+gAfrdEB/s/GWI8+YQ8+T+55ZG9P2/3P3e7Yho1o/U/z1vjqATc8z+ctvVOIh3yPzvR9aLLafA/3Y5mJfyJ7T9NYWbq22LqP/leWlr9Yuc/BQAAAHiO5D/Wkh2EqejhP/CAR9hb6N4/9HBy47Vl2j+eBZ45fUvWPy9BLX5CmtI/btr9jSuizj+QacTaMNvIP7rb+Hgr2MM/kiDQG4kevz/MNBcjBum3P6JuT0dF9LE/yhgrT9JDqj/p4bt6JaOiP5oW7ugDh5k/XfRBk9/CkD9qD44pSeuEP6wkTE9vhXg/houCTSuNaj/PQuE0HutZPzgmdPTH9kU/E0O+ewhWLj9kJA4JsFMOP5XhTKO00OA+fleAk9ywkT4AAAAAAAAAAA==\",\"dtype\":\"float64\",\"order\":\"little\",\"shape\":[101]},\"q\":{\"__ndarray__\":\"AAAAAAAAAAB7FK5H4XqEP3sUrkfhepQ/uB6F61G4nj97FK5H4XqkP5qZmZmZmak/uB6F61G4rj/sUbgeheuxP3sUrkfherQ/CtejcD0Ktz+amZmZmZm5Pylcj8L1KLw/uB6F61G4vj+kcD0K16PAP+xRuB6F68E/MzMzMzMzwz97FK5H4XrEP8P1KFyPwsU/CtejcD0Kxz9SuB6F61HIP5qZmZmZmck/4XoUrkfhyj8pXI/C9SjMP3E9CtejcM0/uB6F61G4zj8AAAAAAADQP6RwPQrXo9A/SOF6FK5H0T/sUbgehevRP4/C9Shcj9I/MzMzMzMz0z/Xo3A9CtfTP3sUrkfhetQ/H4XrUbge1T/D9Shcj8LVP2dmZmZmZtY/CtejcD0K1z+uR+F6FK7XP1K4HoXrUdg/9ihcj8L12D+amZmZmZnZPz4K16NwPdo/4XoUrkfh2j+F61G4HoXbPylcj8L1KNw/zczMzMzM3D9xPQrXo3DdPxWuR+F6FN4/uB6F61G43j9cj8L1KFzfPwAAAAAAAOA/UrgehetR4D+kcD0K16PgP/YoXI/C9eA/SOF6FK5H4T+amZmZmZnhP+xRuB6F6+E/PgrXo3A94j+PwvUoXI/iP+F6FK5H4eI/MzMzMzMz4z+F61G4HoXjP9ejcD0K1+M/KVyPwvUo5D97FK5H4XrkP83MzMzMzOQ/H4XrUbge5T9xPQrXo3DlP8P1KFyPwuU/Fa5H4XoU5j9nZmZmZmbmP7gehetRuOY/CtejcD0K5z9cj8L1KFznP65H4XoUruc/AAAAAAAA6D9SuB6F61HoP6RwPQrXo+g/9ihcj8L16D9I4XoUrkfpP5qZmZmZmek/7FG4HoXr6T8+CtejcD3qP5DC9Shcj+o/4XoUrkfh6j8zMzMzMzPrP4XrUbgehes/16NwPQrX6z8pXI/C9SjsP3sUrkfheuw/zczMzMzM7D8fhetRuB7tP3E9CtejcO0/w/UoXI/C7T8VrkfhehTuP2dmZmZmZu4/uB6F61G47j8K16NwPQrvP1yPwvUoXO8/rkfhehSu7z8AAAAAAADwPw==\",\"dtype\":\"float64\",\"order\":\"little\",\"shape\":[101]},\"uniform_pdf\":{\"__ndarray__\":\"AAAAAAAA8D8AAAAAAADwPwAAAAAAAPA/AAAAAAAA8D8AAAAAAADwPwAAAAAAAPA/AAAAAAAA8D8AAAAAAADwPwAAAAAAAPA/AAAAAAAA8D8AAAAAAADwPwAAAAAAAPA/AAAAAAAA8D8AAAAAAADwPwAAAAAAAPA/AAAAAAAA8D8AAAAAAADwPwAAAAAAAPA/AAAAAAAA8D8AAAAAAADwPwAAAAAAAPA/AAAAAAAA8D8AAAAAAADwPwAAAAAAAPA/AAAAAAAA8D8AAAAAAADwPwAAAAAAAPA/AAAAAAAA8D8AAAAAAADwPwAAAAAAAPA/AAAAAAAA8D8AAAAAAADwPwAAAAAAAPA/AAAAAAAA8D8AAAAAAADwPwAAAAAAAPA/AAAAAAAA8D8AAAAAAADwPwAAAAAAAPA/AAAAAAAA8D8AAAAAAADwPwAAAAAAAPA/AAAAAAAA8D8AAAAAAADwPwAAAAAAAPA/AAAAAAAA8D8AAAAAAADwPwAAAAAAAPA/AAAAAAAA8D8AAAAAAADwPwAAAAAAAPA/AAAAAAAA8D8AAAAAAADwPwAAAAAAAPA/AAAAAAAA8D8AAAAAAADwPwAAAAAAAPA/AAAAAAAA8D8AAAAAAADwPwAAAAAAAPA/AAAAAAAA8D8AAAAAAADwPwAAAAAAAPA/AAAAAAAA8D8AAAAAAADwPwAAAAAAAPA/AAAAAAAA8D8AAAAAAADwPwAAAAAAAPA/AAAAAAAA8D8AAAAAAADwPwAAAAAAAPA/AAAAAAAA8D8AAAAAAADwPwAAAAAAAPA/AAAAAAAA8D8AAAAAAADwPwAAAAAAAPA/AAAAAAAA8D8AAAAAAADwPwAAAAAAAPA/AAAAAAAA8D8AAAAAAADwPwAAAAAAAPA/AAAAAAAA8D8AAAAAAADwPwAAAAAAAPA/AAAAAAAA8D8AAAAAAADwPwAAAAAAAPA/AAAAAAAA8D8AAAAAAADwPwAAAAAAAPA/AAAAAAAA8D8AAAAAAADwPwAAAAAAAPA/AAAAAAAA8D8AAAAAAADwPwAAAAAAAPA/AAAAAAAA8D8AAAAAAADwPw==\",\"dtype\":\"float64\",\"order\":\"little\",\"shape\":[101]}},\"selected\":{\"id\":\"1121\"},\"selection_policy\":{\"id\":\"1120\"}},\"id\":\"1085\",\"type\":\"ColumnDataSource\"},{\"attributes\":{},\"id\":\"1103\",\"type\":\"BasicTicker\"},{\"attributes\":{},\"id\":\"1118\",\"type\":\"AllLabels\"},{\"attributes\":{},\"id\":\"1119\",\"type\":\"BasicTickFormatter\"},{\"attributes\":{},\"id\":\"1099\",\"type\":\"BasicTicker\"},{\"attributes\":{\"line_color\":\"firebrick\",\"line_dash\":[6],\"line_width\":2,\"x\":{\"field\":\"q\"},\"y\":{\"field\":\"beta_pdf\"}},\"id\":\"1125\",\"type\":\"Line\"},{\"attributes\":{\"axis_label\":\"\\u03b8\",\"formatter\":{\"id\":\"1119\"},\"major_label_policy\":{\"id\":\"1118\"},\"ticker\":{\"id\":\"1099\"}},\"id\":\"1098\",\"type\":\"LinearAxis\"},{\"attributes\":{\"axis\":{\"id\":\"1098\"},\"grid_line_color\":null,\"ticker\":null},\"id\":\"1101\",\"type\":\"Grid\"},{\"attributes\":{},\"id\":\"1120\",\"type\":\"UnionRenderers\"},{\"attributes\":{},\"id\":\"1121\",\"type\":\"Selection\"},{\"attributes\":{\"label\":{\"value\":\"Uniform distribution\"},\"renderers\":[{\"id\":\"1111\"}]},\"id\":\"1123\",\"type\":\"LegendItem\"},{\"attributes\":{\"callback\":null,\"tooltips\":[[\"\\u03b8\",\"@q{0.0000}\"],[\"uniform\",\"@uniform_pdf{0.0000}\"],[\"beta\",\"@beta_pdf{0.0000}\"]]},\"id\":\"1086\",\"type\":\"HoverTool\"},{\"attributes\":{\"end\":2.8},\"id\":\"1092\",\"type\":\"Range1d\"},{\"attributes\":{\"source\":{\"id\":\"1085\"}},\"id\":\"1128\",\"type\":\"CDSView\"},{\"attributes\":{\"line_alpha\":0.1,\"line_color\":\"firebrick\",\"line_dash\":[6],\"line_width\":2,\"x\":{\"field\":\"q\"},\"y\":{\"field\":\"beta_pdf\"}},\"id\":\"1126\",\"type\":\"Line\"},{\"attributes\":{\"active_multi\":null,\"tools\":[{\"id\":\"1086\"}]},\"id\":\"1106\",\"type\":\"Toolbar\"},{\"attributes\":{\"text\":\"Prior Distribution\"},\"id\":\"1088\",\"type\":\"Title\"},{\"attributes\":{\"data_source\":{\"id\":\"1085\"},\"glyph\":{\"id\":\"1125\"},\"hover_glyph\":null,\"muted_glyph\":null,\"nonselection_glyph\":{\"id\":\"1126\"},\"view\":{\"id\":\"1128\"}},\"id\":\"1127\",\"type\":\"GlyphRenderer\"},{\"attributes\":{},\"id\":\"1096\",\"type\":\"LinearScale\"},{\"attributes\":{},\"id\":\"1090\",\"type\":\"Range1d\"},{\"attributes\":{},\"id\":\"1094\",\"type\":\"LinearScale\"}],\"root_ids\":[\"1087\"]},\"title\":\"Bokeh Application\",\"version\":\"2.3.2\"}};\n",
       "  var render_items = [{\"docid\":\"85f2e678-936a-4a39-ad25-9447a52a0676\",\"root_ids\":[\"1087\"],\"roots\":{\"1087\":\"e351978c-20aa-4cbc-bcd7-36e27f962ccf\"}}];\n",
       "  root.Bokeh.embed.embed_items_notebook(docs_json, render_items);\n",
       "\n",
       "  }\n",
       "  if (root.Bokeh !== undefined) {\n",
       "    embed_document(root);\n",
       "  } else {\n",
       "    var attempts = 0;\n",
       "    var timer = setInterval(function(root) {\n",
       "      if (root.Bokeh !== undefined) {\n",
       "        clearInterval(timer);\n",
       "        embed_document(root);\n",
       "      } else {\n",
       "        attempts++;\n",
       "        if (attempts > 100) {\n",
       "          clearInterval(timer);\n",
       "          console.log(\"Bokeh: ERROR: Unable to run BokehJS code because BokehJS library is missing\");\n",
       "        }\n",
       "      }\n",
       "    }, 10, root)\n",
       "  }\n",
       "})(window);"
      ],
      "application/vnd.bokehjs_exec.v0+json": ""
     },
     "metadata": {
      "application/vnd.bokehjs_exec.v0+json": {
       "id": "1087"
      }
     },
     "output_type": "display_data"
    }
   ],
   "source": [
    "source = ColumnDataSource(\n",
    "    data=dict(\n",
    "        q = q,\n",
    "        uniform_pdf = st.uniform.pdf(q),\n",
    "        beta_pdf = st.beta.pdf(q, 6, 6)\n",
    "    )\n",
    ")\n",
    "hover = HoverTool(\n",
    "    tooltips=[\n",
    "        ('\\u03B8', '@q{0.0000}'), \n",
    "        ('uniform', '@uniform_pdf{0.0000}'),\n",
    "        ('beta', '@beta_pdf{0.0000}')\n",
    "    ]\n",
    ")\n",
    "p = figure(plot_width=400, plot_height=300, x_range=(0, 1), y_range=(0, 2.8),\n",
    "           tools=[hover], toolbar_location=None, title='Prior Distribution')\n",
    "p.line('q', 'uniform_pdf', source=source, line_color='navy', line_width=2,\n",
    "       legend_label='Uniform distribution')\n",
    "p.line('q', 'beta_pdf', source=source, line_color='firebrick', line_width=2, line_dash='dashed',\n",
    "       legend_label='Beta distribution')\n",
    "p.xaxis.axis_label = '\\u03B8'\n",
    "p.yaxis.axis_label = 'Probability density'\n",
    "p.legend.location = 'bottom_center'\n",
    "p.legend.click_policy = 'hide'\n",
    "p.legend.border_line_color = p.xgrid.grid_line_color = p.ygrid.grid_line_color = p.outline_line_color = None\n",
    "show(p)"
   ]
  },
  {
   "cell_type": "markdown",
   "metadata": {},
   "source": [
    "The <font color=red>uniform distribution</font> $\\text{Uniform}(a, b)$ is \n",
    "\n",
    "$$\n",
    " p(x|a,b) = \n",
    " \\begin{cases}\n",
    " \\frac1{b-a}, & (a\\leqq x \\leqq b); \\\\\n",
    " 0, & (\\text{otherwise}).\n",
    " \\end{cases}\n",
    "$$\n",
    "\n",
    "In the above figure, we set $a=0$ and $b=1$. `st.uniform.pdf(x, loc=a, scale=b-a)` in `scipy.stats` computes the pdf of the uniform distribution $\\text{Uniform}(a, b)$.\n",
    "\n",
    "The <font color=red>beta distribution</font> $\\text{Beta}(\\alpha, \\beta)$ is \n",
    "\n",
    "$$\n",
    " p(x|\\alpha,\\beta) = \\frac{x^{\\alpha-1}(1-x)^{\\beta-1}}{B(\\alpha,\\beta)},\\ 0\\leqq x\\leqq 1,\n",
    "$$\n",
    "\n",
    "where $B(\\alpha,\\beta)$ is the beta function:\n",
    "\n",
    "$$\n",
    " B(\\alpha,\\beta) = \\int_0^1x^{\\alpha-1}(1-x)^{\\beta-1}dx.\n",
    "$$\n",
    "\n",
    "`st.beta.pdf(x, a, b)` in `scipy.stats` computes the pdf of the beta distribution $\\text{Beta}(a, b)$.\n",
    "\n",
    "## Beta Distribution\n",
    "---\n",
    "\n",
    "The shape of a beta distribution depends on two parameters: $\\alpha$ and $\\beta$. The following cell creates a Bokeh interactive plot in which you may play around with various parameter settings. Use two sliders labeled \"$\\alpha$\" and \"$\\beta$\" to see how these parameters affect the shape of the distribution."
   ]
  },
  {
   "cell_type": "code",
   "execution_count": 11,
   "metadata": {},
   "outputs": [
    {
     "data": {
      "application/vnd.bokehjs_exec.v0+json": "",
      "text/html": [
       "\n",
       "<script id=\"1202\">\n",
       "  var xhr = new XMLHttpRequest()\n",
       "  xhr.responseType = 'blob';\n",
       "  xhr.open('GET', \"http://localhost:49833/autoload.js?bokeh-autoload-element=1202&bokeh-absolute-url=http://localhost:49833&resources=none\", true);\n",
       "  \n",
       "  xhr.onload = function (event) {\n",
       "    var script = document.createElement('script'),\n",
       "    src = URL.createObjectURL(event.target.response);\n",
       "    script.src = src;\n",
       "    document.body.appendChild(script);\n",
       "  };\n",
       "xhr.send();\n",
       "</script>"
      ]
     },
     "metadata": {
      "application/vnd.bokehjs_exec.v0+json": {
       "server_id": "ae5c9fb43e37491a9ac37cfa8e249132"
      }
     },
     "output_type": "display_data"
    }
   ],
   "source": [
    "def beta_pdf_plot(doc):\n",
    "    slider_a = Slider(value=1.0, start=0.0, end=10.0, step=0.1, title='\\u03B1')\n",
    "    slider_b = Slider(value=1.0, start=0.0, end=10.0, step=0.1, title='\\u03B2')\n",
    "    \n",
    "    x = np.linspace(0.0, 1.0, 1001)\n",
    "    source = ColumnDataSource(data=dict(x=x, y=st.beta.pdf(x, 1.0, 1.0)))\n",
    "    hover = HoverTool(tooltips=[('x', '@x{0.0000}'), ('density', '@y{0.0000}')])\n",
    "    p = figure(plot_width=400, plot_height=300, x_range=(0, 1), y_range=(0, 5),\n",
    "               tools=[hover], toolbar_location=None)\n",
    "    p.line('x', 'y', source=source, line_color='navy', line_width=2)\n",
    "    p.xaxis.axis_label = 'Beta distribution'\n",
    "    p.yaxis.axis_label = 'Probability density'\n",
    "    p.xgrid.grid_line_color = p.ygrid.grid_line_color = p.outline_line_color = None   \n",
    "\n",
    "    def update_pdf(attr, old, new):\n",
    "        a = slider_a.value\n",
    "        b = slider_b.value\n",
    "        source.data['y'] = st.beta.pdf(x, a, b)\n",
    "\n",
    "    for params in [slider_a, slider_b]:\n",
    "        params.on_change('value', update_pdf)\n",
    "    \n",
    "    doc.add_root(column(row(slider_a, slider_b, width=400), p))\n",
    "\n",
    "# Your local jupyter server must be 'http://localhost:8888/'\n",
    "show(beta_pdf_plot)"
   ]
  },
  {
   "cell_type": "markdown",
   "metadata": {},
   "source": [
    "## Derivation of the Posterior Distribution of $\\theta$\n",
    "---\n",
    "\n",
    "Suppose the prior distribution is $\\text{Beta}(\\alpha_0,\\beta_0)$.\n",
    "\n",
    "The posterior distribution of $\\theta$ is given by\n",
    "\n",
    "\\begin{align*}\n",
    " p(\\theta|D) &\\propto p(D|\\theta)p(\\theta) \\\\\n",
    " &\\propto \\theta^{y}(1-\\theta)^{n-y} \\times \\theta^{\\alpha_0-1}(1-\\theta)^{\\beta_0-1} \\\\\n",
    " &\\propto \\theta^{y+\\alpha_0-1}(1-\\theta)^{n-y+\\beta_0-1} \\\\\n",
    " &\\propto \\theta^{\\alpha_\\star-1}(1-\\theta)^{\\beta_\\star-1},\\\\\n",
    " \\alpha_\\star &=y+\\alpha_0,\\quad \\beta_\\star=n-y+\\beta_0.\n",
    "\\end{align*}\n",
    "\n",
    "This is the beta distribution $\\text{Beta}(\\alpha_\\star,\\beta_\\star)$.\n",
    "\n",
    "As you may notice, the posterior distribution belongs to the same family of distribution as the prior. This type of prior distribution is called the <font color=red>natural conjugate prior distribution</font>.\n",
    "\n",
    "## A Numerical Example of the Posterior Distribution\n",
    "---\n",
    "\n",
    "Here we generate pseudo-random numbers from the Bernoulli distribution with $\\theta=\\frac12$. `st.bernoulli.rvs(prob0, size=n)` generate `n` pseudo-random numbers from the Bernoulli distribution with probability of success `prob0`."
   ]
  },
  {
   "cell_type": "code",
   "execution_count": 12,
   "metadata": {},
   "outputs": [
    {
     "name": "stdout",
     "output_type": "stream",
     "text": [
      "[1 0 1 0 1 1 0 0 1 0]\n"
     ]
    }
   ],
   "source": [
    "prob0 = 0.5\n",
    "n = 10\n",
    "np.random.seed(99)\n",
    "data = st.bernoulli.rvs(prob0, size=n)\n",
    "print(data)"
   ]
  },
  {
   "cell_type": "markdown",
   "metadata": {},
   "source": [
    "Next, let us see how the hyper-parameters $(\\alpha_0, \\beta_0)$ and the sample sizes $n$ affect the shape of the posterior distribution. `bernoulli_posterior_plot` creates an interactive plot with two sliders for tuning the hyper-parameters. `a_0` and `b_0` in `bernoulli_posterior_plot` are  $\\alpha_0$ and $\\beta_0$ respectively."
   ]
  },
  {
   "cell_type": "code",
   "execution_count": 13,
   "metadata": {
    "scrolled": false
   },
   "outputs": [
    {
     "data": {
      "application/vnd.bokehjs_exec.v0+json": "",
      "text/html": [
       "\n",
       "<script id=\"1203\">\n",
       "  var xhr = new XMLHttpRequest()\n",
       "  xhr.responseType = 'blob';\n",
       "  xhr.open('GET', \"http://localhost:49835/autoload.js?bokeh-autoload-element=1203&bokeh-absolute-url=http://localhost:49835&resources=none\", true);\n",
       "  \n",
       "  xhr.onload = function (event) {\n",
       "    var script = document.createElement('script'),\n",
       "    src = URL.createObjectURL(event.target.response);\n",
       "    script.src = src;\n",
       "    document.body.appendChild(script);\n",
       "  };\n",
       "xhr.send();\n",
       "</script>"
      ]
     },
     "metadata": {
      "application/vnd.bokehjs_exec.v0+json": {
       "server_id": "2d0d97b1d54c4c378a42f18f29a733d5"
      }
     },
     "output_type": "display_data"
    }
   ],
   "source": [
    "def bernoulli_posterior_plot(doc):\n",
    "    slider_a = Slider(value=1.0, start=0.1, end=10.0, step=0.1, title='\\u03B1_0')\n",
    "    slider_b = Slider(value=1.0, start=0.1, end=10.0, step=0.1, title='\\u03B2_0')\n",
    "    slider_n = Slider(value=10, start=1, end=250, step=1, title='Sample size')\n",
    "    \n",
    "    prob0 = 0.5\n",
    "    a0 = slider_a.value\n",
    "    b0 = slider_b.value\n",
    "    n = slider_n.value\n",
    "    x = np.linspace(0.0, 1.0, 1001)\n",
    "    np.random.seed(99)\n",
    "    data = st.bernoulli.rvs(prob0, size=250)\n",
    "    y = data[:n].sum()\n",
    "    a_star = y + a0\n",
    "    b_star = n - y + b0\n",
    "    source = ColumnDataSource(\n",
    "        data = dict(\n",
    "            x = x,\n",
    "            prior = st.beta.pdf(x, a0, b0),\n",
    "            posterior = st.beta.pdf(x, a_star, b_star)\n",
    "        )\n",
    "    )\n",
    "    \n",
    "    hover = HoverTool(\n",
    "        tooltips = [\n",
    "            ('\\u03B8', '@x{0.0000}'), \n",
    "            ('prior', '@prior{0.0000}'),\n",
    "            ('posterior', '@posterior{0.0000}')\n",
    "        ]\n",
    "    )\n",
    "    p = figure(plot_width=600, plot_height=300, x_range=(0, 1),\n",
    "               tools=[hover], toolbar_location=None)\n",
    "    p.line('x', 'posterior', source=source, line_color='navy', line_width=2,\n",
    "          legend_label='Posterior distribution')\n",
    "    p.line('x', 'prior', source=source, line_color='firebrick', line_width=2, line_dash='dashed',\n",
    "          legend_label='Prior distribution')\n",
    "    p.xaxis.axis_label = '\\u03B8'\n",
    "    p.yaxis.axis_label = 'Probability density'\n",
    "    p.add_layout(p.legend[0], 'right')\n",
    "    p.legend.click_policy = 'hide'\n",
    "    p.legend.border_line_color = p.xgrid.grid_line_color = p.ygrid.grid_line_color = p.outline_line_color = None\n",
    "\n",
    "    def update_pdf(attr, old, new):\n",
    "        a0 = slider_a.value\n",
    "        b0 = slider_b.value\n",
    "        n = slider_n.value\n",
    "        y = data[:n].sum()\n",
    "        a_star = y + a0\n",
    "        b_star = n - y + b0\n",
    "        source.data['prior'] = st.beta.pdf(x, a0, b0)\n",
    "        source.data['posterior'] = st.beta.pdf(x, a_star, b_star)\n",
    "\n",
    "    for params in [slider_a, slider_b, slider_n]:\n",
    "        params.on_change('value', update_pdf)\n",
    "    \n",
    "    doc.add_root(column(row(slider_a, slider_b, slider_n, width=500), p))\n",
    "\n",
    "# Your local jupyter server must be 'http://localhost:8888/'\n",
    "show(bernoulli_posterior_plot)"
   ]
  },
  {
   "cell_type": "markdown",
   "metadata": {},
   "source": [
    "Bayes' theorem is rearranged as\n",
    "\n",
    "\\begin{equation*}\n",
    " \\frac{p(\\theta|D)}{p(\\theta)} = \\frac{p(D|\\theta)}{p(D)}.\n",
    "\\end{equation*}\n",
    "\n",
    "Therefore\n",
    "\n",
    "\\begin{equation*}\n",
    "\\frac{p(\\theta|D)}{p(\\theta)} \\gtreqqless 1\\quad \\text{if and only if}\\quad \\frac{p(D|\\theta)}{p(D)} \\gtreqqless 1.\n",
    "\\end{equation*}\n",
    "\n",
    "Since\n",
    "\n",
    "\\begin{equation*}\n",
    "\\begin{cases}\n",
    " \\displaystyle\n",
    " \\frac{p(\\theta|D)}{p(\\theta)} > 1, & \\text{plausibility of $\\theta$ is increased}; \\\\\n",
    " \\\\\n",
    " \\displaystyle\n",
    " \\frac{p(\\theta|D)}{p(\\theta)} < 1, & \\text{plausibility of $\\theta$ is decreased},\n",
    "\\end{cases}\n",
    "\\end{equation*}\n",
    "\n",
    "The plausibility of a specific value of $\\theta$ depends on whether its likelihood $p(D|\\theta)$ is higher the marginal likelihood $p(D)$."
   ]
  },
  {
   "cell_type": "markdown",
   "metadata": {},
   "source": [
    "## Beysian Inferernce with the Posterior Distribution\n",
    "----\n",
    "\n",
    "The posterior distribution $p(\\theta|D)$ embodies all available information about unknown parameter(s), $\\theta$. When the number of parameters to be analyzed is relatively small, displaying graphs of all (marginal) posterior distributions may be sufficient to convey useful insights on the parameters to readers.\n",
    "\n",
    "However, when we need to analyze many parameters, it is impractical and pointless to show all graphs on the parameters in an article or report. In practice, we calculate and report several \"summary statistics\" that show us key characteristics of the posterior distribution. We call them the <font color=red>posterior statistics</font>.\n",
    "\n",
    "## Point Estimation\n",
    "---\n",
    "\n",
    "On many occasions, we need to report one particular value of the parameter we regard as the most plausible guess. This type of value is called an  <font color=red>estimate</font> and a procedure to obtain an estimate is called  <font color=red>point estimation</font>.\n",
    "\n",
    "In Bayesian statistics, an estimate of the parameter is defined as a value that minimize the expected loss.\n",
    "\n",
    "\\begin{align*}\n",
    " \\delta_\\star\n",
    " &= \\arg\\min_{\\delta}\\mathrm{E}_{\\theta}[L(\\theta,\\delta)|D] \\\\\n",
    " &= \\arg\\min_{\\delta}\\int_{\\Theta}L(\\theta,\\delta)p(\\theta|D)d\\theta,\n",
    "\\end{align*}\n",
    "\n",
    "where $L$ is the <font color=red>loss function</font> and $\\Theta$ is a set of all possible values of $\\theta$ (<font color=red>parameter space</font>).\n",
    "\n",
    "| loss function  | $L(\\theta,\\delta)$        | point estimate\n",
    "|:---------------|:-------------------------:|:------------------|\n",
    "| quadratic loss | $(\\theta-\\delta)^2$       | posterior mean\n",
    "| absolute loss  | $|\\theta-\\delta|$         | posterior median\n",
    "| 0-1 loss       | $1-\\mathbf{1}_\\theta(\\delta)$ | posterior mode\n",
    "\n",
    "Let us make a figure of three loss functions where the ture valeu of $\\theta$ is $\\frac12$."
   ]
  },
  {
   "cell_type": "code",
   "execution_count": 14,
   "metadata": {
    "scrolled": true
   },
   "outputs": [
    {
     "data": {
      "text/html": [
       "\n",
       "\n",
       "\n",
       "\n",
       "\n",
       "\n",
       "  <div class=\"bk-root\" id=\"7b1fa4da-16ba-4eaa-86c2-6ee70cfccefb\" data-root-id=\"1205\"></div>\n"
      ]
     },
     "metadata": {},
     "output_type": "display_data"
    },
    {
     "data": {
      "application/javascript": [
       "(function(root) {\n",
       "  function embed_document(root) {\n",
       "    \n",
       "  var docs_json = {\"9e3c9309-8383-4c00-8c1c-4b8eeaa6366b\":{\"defs\":[],\"roots\":{\"references\":[{\"attributes\":{\"below\":[{\"id\":\"1216\"}],\"center\":[{\"id\":\"1219\"},{\"id\":\"1223\"},{\"id\":\"1253\"}],\"height\":300,\"left\":[{\"id\":\"1220\"}],\"outline_line_color\":null,\"renderers\":[{\"id\":\"1241\"},{\"id\":\"1258\"},{\"id\":\"1274\"},{\"id\":\"1290\"},{\"id\":\"1295\"},{\"id\":\"1300\"}],\"title\":{\"id\":\"1206\"},\"toolbar\":{\"id\":\"1231\"},\"toolbar_location\":null,\"width\":400,\"x_range\":{\"id\":\"1208\"},\"x_scale\":{\"id\":\"1212\"},\"y_range\":{\"id\":\"1210\"},\"y_scale\":{\"id\":\"1214\"}},\"id\":\"1205\",\"subtype\":\"Figure\",\"type\":\"Plot\"},{\"attributes\":{\"axis_label\":\"Loss\",\"formatter\":{\"id\":\"1246\"},\"major_label_policy\":{\"id\":\"1245\"},\"ticker\":{\"id\":\"1221\"}},\"id\":\"1220\",\"type\":\"LinearAxis\"},{\"attributes\":{\"line_color\":\"green\",\"line_dash\":[2,4],\"x\":{\"field\":\"x\"},\"y\":{\"field\":\"y\"}},\"id\":\"1288\",\"type\":\"Line\"},{\"attributes\":{\"text\":\"Loss Function\"},\"id\":\"1206\",\"type\":\"Title\"},{\"attributes\":{\"source\":{\"id\":\"1204\"}},\"id\":\"1275\",\"type\":\"CDSView\"},{\"attributes\":{\"line_color\":\"navy\",\"line_width\":2,\"x\":{\"field\":\"q\"},\"y\":{\"field\":\"loss_L2\"}},\"id\":\"1239\",\"type\":\"Line\"},{\"attributes\":{\"data\":{},\"selected\":{\"id\":\"1334\"},\"selection_policy\":{\"id\":\"1333\"}},\"id\":\"1297\",\"type\":\"ColumnDataSource\"},{\"attributes\":{\"source\":{\"id\":\"1287\"}},\"id\":\"1291\",\"type\":\"CDSView\"},{\"attributes\":{\"source\":{\"id\":\"1292\"}},\"id\":\"1296\",\"type\":\"CDSView\"},{\"attributes\":{},\"id\":\"1221\",\"type\":\"BasicTicker\"},{\"attributes\":{},\"id\":\"1210\",\"type\":\"DataRange1d\"},{\"attributes\":{\"data_source\":{\"id\":\"1204\"},\"glyph\":{\"id\":\"1272\"},\"hover_glyph\":null,\"muted_glyph\":null,\"nonselection_glyph\":{\"id\":\"1273\"},\"view\":{\"id\":\"1275\"}},\"id\":\"1274\",\"type\":\"GlyphRenderer\"},{\"attributes\":{\"fill_alpha\":{\"value\":0.1},\"fill_color\":{\"value\":\"white\"},\"line_alpha\":{\"value\":0.1},\"line_color\":{\"value\":\"green\"},\"size\":{\"value\":8},\"x\":{\"value\":0.5},\"y\":{\"value\":1.0}},\"id\":\"1294\",\"type\":\"Circle\"},{\"attributes\":{\"label\":{\"value\":\"0-1 loss\"},\"renderers\":[{\"id\":\"1274\"}]},\"id\":\"1286\",\"type\":\"LegendItem\"},{\"attributes\":{},\"id\":\"1334\",\"type\":\"Selection\"},{\"attributes\":{},\"id\":\"1225\",\"type\":\"WheelZoomTool\"},{\"attributes\":{\"fill_color\":{\"value\":\"green\"},\"line_color\":{\"value\":\"green\"},\"size\":{\"value\":8},\"x\":{\"value\":0.5},\"y\":{\"value\":0.0}},\"id\":\"1298\",\"type\":\"Circle\"},{\"attributes\":{},\"id\":\"1229\",\"type\":\"HelpTool\"},{\"attributes\":{},\"id\":\"1224\",\"type\":\"PanTool\"},{\"attributes\":{\"axis_label\":\"Point estimate \\u03b4\",\"formatter\":{\"id\":\"1249\"},\"major_label_policy\":{\"id\":\"1248\"},\"ticker\":{\"id\":\"1217\"}},\"id\":\"1216\",\"type\":\"LinearAxis\"},{\"attributes\":{},\"id\":\"1251\",\"type\":\"Selection\"},{\"attributes\":{\"data\":{\"loss_01\":{\"__ndarray__\":\"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\",\"dtype\":\"float64\",\"order\":\"little\",\"shape\":[250]},\"loss_L1\":{\"__ndarray__\":\"AAAAAAAA4D8h4NZnM77fP0LArc9mfN8/Y6CEN5o63z+EgFufzfjeP6RgMgcBt94/xUAJbzR13j/mIODWZzPePwcBtz6b8d0/KOGNps6v3T9JwWQOAm7dP2qhO3Y1LN0/i4ES3mjq3D+sYelFnKjcP81BwK3PZtw/7iGXFQMl3D8OAm59NuPbPzDiROVpods/UMIbTZ1f2z9xovK00B3bP5KCyRwE3No/s2KghDea2j/UQnfsaljaP/UiTlSeFto/FgMlvNHU2T834/sjBZPZP1jD0os4Udk/eKOp82sP2T+ag4Bbn83YP7pjV8PSi9g/20MuKwZK2D/8IwWTOQjYPx0E3Ppsxtc/PuSyYqCE1z9fxInK00LXP4CkYDIHAdc/oIQ3mjq/1j/CZA4Cbn3WP+JE5WmhO9Y/BCW80dT51T8kBZM5CLjVP0XlaaE7dtU/ZsVACW801T+HpRdxovLUP6iF7tjVsNQ/yWXFQAlv1D/qRZyoPC3UPwomcxBw69M/LAZKeKOp0z9M5iDg1mfTP27G90cKJtM/jqbOrz3k0j+vhqUXcaLSP9BmfH+kYNI/8UZT59ce0j8SJypPC93RPzMHAbc+m9E/VOfXHnJZ0T90x66GpRfRP5anhe7Y1dA/todcVgyU0D/YZzO+P1LQP/hHCiZzENA/MlDCG02dzz90EHDrsxnPP7bQHbsals4/+JDLioESzj86UXla6I7NP3wRJypPC80/vtHU+bWHzD/+kYLJHATMP0BSMJmDgMs/ghLeaOr8yj/E0os4UXnKPwaTOQi49ck/SFPn1x5yyT+KE5Wnhe7IP8zTQnfsasg/DpTwRlPnxz9QVJ4WumPHP5AUTOYg4MY/0tT5tYdcxj8UlaeF7tjFP1ZVVVVVVcU/mBUDJbzRxD/a1bD0Ik7EPxyWXsSJysM/XlYMlPBGwz+gFrpjV8PCP+LWZzO+P8I/JJcVAyW8wT9kV8PSizjBP6YXcaLytMA/6NceclkxwD9UMJmDgFu/P9iw9CJOVL4/XDFQwhtNvT/gsath6UW8P2QyBwG3Prs/6LJioIQ3uj9sM74/UjC5P/CzGd8fKbg/cDR1fu0htz/0tNAduxq2P3g1LL2IE7U//LWHXFYMtD+ANuP7IwWzPwS3Ppvx/bE/iDeaOr/2sD8YcOuzGd+vPyBxovK00K0/KHJZMVDCqz8wcxBw67OpPzB0x66Gpac/OHV+7SGXpT9AdjUsvYijP0h37GpYeqE/oPBGU+fXnj+w8rTQHbuaP8D0Ik5UnpY/0PaQy4qBkj/A8f2RgsmMP+D12Yzvj4Q/wPNrD7mseD8A+EcKJnNgPwD3Rwomc2A/gPNrD7mseD+A9dmM74+EP4Dx/ZGCyYw/wPaQy4qBkj+g9CJOVJ6WP6DytNAdu5o/gPBGU+fXnj9Ad+xqWHqhPzB2NSy9iKM/MHV+7SGXpT8gdMeuhqWnPyBzEHDrs6k/EHJZMVDCqz8QcaLytNCtPxBw67MZ368/gDeaOr/2sD8Atz6b8f2xP3g24/sjBbM/+LWHXFYMtD9wNSy9iBO1P/C00B27GrY/aDR1fu0htz/osxnfHym4P2Azvj9SMLk/4LJioIQ3uj9gMgcBtz67P9ixq2HpRbw/WDFQwhtNvT/QsPQiTlS+P1AwmYOAW78/5NceclkxwD+kF3Gi8rTAP2BXw9KLOME/IJcVAyW8wT/g1mczvj/CP5wWumNXw8I/XFYMlPBGwz8Yll7EicrDP9jVsPQiTsQ/lBUDJbzRxD9UVVVVVVXFPxCVp4Xu2MU/0NT5tYdcxj+MFEzmIODGP0xUnha6Y8c/DJTwRlPnxz/I00J37GrIP4gTlaeF7sg/RFPn1x5yyT8EkzkIuPXJP8DSizhReco/gBLeaOr8yj88UjCZg4DLP/yRgskcBMw/uNHU+bWHzD94EScqTwvNPzhReVrojs0/9JDLioESzj+00B27GpbOP3AQcOuzGc8/MFDCG02dzz/2RwomcxDQP9ZnM74/UtA/tIdcVgyU0D+Up4Xu2NXQP3LHroalF9E/UufXHnJZ0T8yBwG3PpvRPxAnKk8L3dE/8EZT59ce0j/OZnx/pGDSP66GpRdxotI/jKbOrz3k0j9sxvdHCibTP0rmIODWZ9M/KgZKeKOp0z8IJnMQcOvTP+hFnKg8LdQ/yGXFQAlv1D+mhe7Y1bDUP4alF3Gi8tQ/ZMVACW801T9E5WmhO3bVPyIFkzkIuNU/AiW80dT51T/gROVpoTvWP8BkDgJufdY/noQ3mjq/1j9+pGAyBwHXP17EicrTQtc/POSyYqCE1z8cBNz6bMbXP/ojBZM5CNg/2kMuKwZK2D+4Y1fD0ovYP5iDgFufzdg/dqOp82sP2T9Ww9KLOFHZPzTj+yMFk9k/FAMlvNHU2T/0Ik5UnhbaP9JCd+xqWNo/smKghDea2j+QgskcBNzaP3Ci8rTQHds/TsIbTZ1f2z8u4kTlaaHbPwwCbn0249s/7CGXFQMl3D/MQcCtz2bcP6ph6UWcqNw/ioES3mjq3D9ooTt2NSzdP0jBZA4Cbt0/JuGNps6v3T8GAbc+m/HdP+Qg4NZnM94/xEAJbzR13j+iYDIHAbfeP4KAW5/N+N4/YqCEN5o63z9AwK3PZnzfPyDg1mczvt8/AAAAAAAA4D8=\",\"dtype\":\"float64\",\"order\":\"little\",\"shape\":[250]},\"loss_L2\":{\"__ndarray__\":\"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\",\"dtype\":\"float64\",\"order\":\"little\",\"shape\":[250]},\"q\":{\"__ndarray__\":\"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\",\"dtype\":\"float64\",\"order\":\"little\",\"shape\":[250]}},\"selected\":{\"id\":\"1251\"},\"selection_policy\":{\"id\":\"1250\"}},\"id\":\"1204\",\"type\":\"ColumnDataSource\"},{\"attributes\":{\"border_line_color\":null,\"click_policy\":\"hide\",\"items\":[{\"id\":\"1254\"},{\"id\":\"1270\"},{\"id\":\"1286\"}],\"location\":[20,130]},\"id\":\"1253\",\"type\":\"Legend\"},{\"attributes\":{\"overlay\":{\"id\":\"1230\"}},\"id\":\"1226\",\"type\":\"BoxZoomTool\"},{\"attributes\":{\"line_color\":\"green\",\"line_dash\":[6,4,2,4],\"line_width\":2,\"x\":{\"field\":\"q\"},\"y\":{\"field\":\"loss_01\"}},\"id\":\"1272\",\"type\":\"Line\"},{\"attributes\":{},\"id\":\"1227\",\"type\":\"SaveTool\"},{\"attributes\":{},\"id\":\"1250\",\"type\":\"UnionRenderers\"},{\"attributes\":{},\"id\":\"1228\",\"type\":\"ResetTool\"},{\"attributes\":{\"bottom_units\":\"screen\",\"fill_alpha\":0.5,\"fill_color\":\"lightgrey\",\"left_units\":\"screen\",\"level\":\"overlay\",\"line_alpha\":1.0,\"line_color\":\"black\",\"line_dash\":[4,4],\"line_width\":2,\"right_units\":\"screen\",\"syncable\":false,\"top_units\":\"screen\"},\"id\":\"1230\",\"type\":\"BoxAnnotation\"},{\"attributes\":{\"label\":{\"value\":\"Quadratic loss\"},\"renderers\":[{\"id\":\"1241\"}]},\"id\":\"1254\",\"type\":\"LegendItem\"},{\"attributes\":{},\"id\":\"1208\",\"type\":\"Range1d\"},{\"attributes\":{\"source\":{\"id\":\"1204\"}},\"id\":\"1259\",\"type\":\"CDSView\"},{\"attributes\":{},\"id\":\"1329\",\"type\":\"UnionRenderers\"},{\"attributes\":{},\"id\":\"1330\",\"type\":\"Selection\"},{\"attributes\":{\"data_source\":{\"id\":\"1292\"},\"glyph\":{\"id\":\"1293\"},\"hover_glyph\":null,\"muted_glyph\":null,\"nonselection_glyph\":{\"id\":\"1294\"},\"view\":{\"id\":\"1296\"}},\"id\":\"1295\",\"type\":\"GlyphRenderer\"},{\"attributes\":{\"line_alpha\":0.1,\"line_color\":\"green\",\"line_dash\":[6,4,2,4],\"line_width\":2,\"x\":{\"field\":\"q\"},\"y\":{\"field\":\"loss_01\"}},\"id\":\"1273\",\"type\":\"Line\"},{\"attributes\":{},\"id\":\"1214\",\"type\":\"LinearScale\"},{\"attributes\":{},\"id\":\"1333\",\"type\":\"UnionRenderers\"},{\"attributes\":{},\"id\":\"1245\",\"type\":\"AllLabels\"},{\"attributes\":{\"line_alpha\":0.1,\"line_color\":\"firebrick\",\"line_dash\":[6],\"line_width\":2,\"x\":{\"field\":\"q\"},\"y\":{\"field\":\"loss_L1\"}},\"id\":\"1257\",\"type\":\"Line\"},{\"attributes\":{\"data_source\":{\"id\":\"1204\"},\"glyph\":{\"id\":\"1256\"},\"hover_glyph\":null,\"muted_glyph\":null,\"nonselection_glyph\":{\"id\":\"1257\"},\"view\":{\"id\":\"1259\"}},\"id\":\"1258\",\"type\":\"GlyphRenderer\"},{\"attributes\":{\"line_alpha\":0.1,\"line_color\":\"navy\",\"line_width\":2,\"x\":{\"field\":\"q\"},\"y\":{\"field\":\"loss_L2\"}},\"id\":\"1240\",\"type\":\"Line\"},{\"attributes\":{\"label\":{\"value\":\"Absolute loss\"},\"renderers\":[{\"id\":\"1258\"}]},\"id\":\"1270\",\"type\":\"LegendItem\"},{\"attributes\":{\"source\":{\"id\":\"1204\"}},\"id\":\"1242\",\"type\":\"CDSView\"},{\"attributes\":{\"data\":{\"x\":[0.5,0.5],\"y\":[0.0,1.0]},\"selected\":{\"id\":\"1330\"},\"selection_policy\":{\"id\":\"1329\"}},\"id\":\"1287\",\"type\":\"ColumnDataSource\"},{\"attributes\":{},\"id\":\"1246\",\"type\":\"BasicTickFormatter\"},{\"attributes\":{\"fill_color\":{\"value\":\"white\"},\"line_color\":{\"value\":\"green\"},\"size\":{\"value\":8},\"x\":{\"value\":0.5},\"y\":{\"value\":1.0}},\"id\":\"1293\",\"type\":\"Circle\"},{\"attributes\":{\"line_color\":\"firebrick\",\"line_dash\":[6],\"line_width\":2,\"x\":{\"field\":\"q\"},\"y\":{\"field\":\"loss_L1\"}},\"id\":\"1256\",\"type\":\"Line\"},{\"attributes\":{\"data_source\":{\"id\":\"1204\"},\"glyph\":{\"id\":\"1239\"},\"hover_glyph\":null,\"muted_glyph\":null,\"nonselection_glyph\":{\"id\":\"1240\"},\"view\":{\"id\":\"1242\"}},\"id\":\"1241\",\"type\":\"GlyphRenderer\"},{\"attributes\":{\"fill_alpha\":{\"value\":0.1},\"fill_color\":{\"value\":\"green\"},\"line_alpha\":{\"value\":0.1},\"line_color\":{\"value\":\"green\"},\"size\":{\"value\":8},\"x\":{\"value\":0.5},\"y\":{\"value\":0.0}},\"id\":\"1299\",\"type\":\"Circle\"},{\"attributes\":{\"axis\":{\"id\":\"1216\"},\"grid_line_color\":null,\"ticker\":null},\"id\":\"1219\",\"type\":\"Grid\"},{\"attributes\":{\"data\":{},\"selected\":{\"id\":\"1332\"},\"selection_policy\":{\"id\":\"1331\"}},\"id\":\"1292\",\"type\":\"ColumnDataSource\"},{\"attributes\":{\"data_source\":{\"id\":\"1287\"},\"glyph\":{\"id\":\"1288\"},\"hover_glyph\":null,\"muted_glyph\":null,\"nonselection_glyph\":{\"id\":\"1289\"},\"view\":{\"id\":\"1291\"}},\"id\":\"1290\",\"type\":\"GlyphRenderer\"},{\"attributes\":{},\"id\":\"1217\",\"type\":\"BasicTicker\"},{\"attributes\":{\"line_alpha\":0.1,\"line_color\":\"green\",\"line_dash\":[2,4],\"x\":{\"field\":\"x\"},\"y\":{\"field\":\"y\"}},\"id\":\"1289\",\"type\":\"Line\"},{\"attributes\":{},\"id\":\"1332\",\"type\":\"Selection\"},{\"attributes\":{\"source\":{\"id\":\"1297\"}},\"id\":\"1301\",\"type\":\"CDSView\"},{\"attributes\":{},\"id\":\"1331\",\"type\":\"UnionRenderers\"},{\"attributes\":{},\"id\":\"1248\",\"type\":\"AllLabels\"},{\"attributes\":{},\"id\":\"1249\",\"type\":\"BasicTickFormatter\"},{\"attributes\":{\"data_source\":{\"id\":\"1297\"},\"glyph\":{\"id\":\"1298\"},\"hover_glyph\":null,\"muted_glyph\":null,\"nonselection_glyph\":{\"id\":\"1299\"},\"view\":{\"id\":\"1301\"}},\"id\":\"1300\",\"type\":\"GlyphRenderer\"},{\"attributes\":{\"active_multi\":null,\"tools\":[{\"id\":\"1224\"},{\"id\":\"1225\"},{\"id\":\"1226\"},{\"id\":\"1227\"},{\"id\":\"1228\"},{\"id\":\"1229\"}]},\"id\":\"1231\",\"type\":\"Toolbar\"},{\"attributes\":{},\"id\":\"1212\",\"type\":\"LinearScale\"},{\"attributes\":{\"axis\":{\"id\":\"1220\"},\"dimension\":1,\"grid_line_color\":null,\"ticker\":null},\"id\":\"1223\",\"type\":\"Grid\"}],\"root_ids\":[\"1205\"]},\"title\":\"Bokeh Application\",\"version\":\"2.3.2\"}};\n",
       "  var render_items = [{\"docid\":\"9e3c9309-8383-4c00-8c1c-4b8eeaa6366b\",\"root_ids\":[\"1205\"],\"roots\":{\"1205\":\"7b1fa4da-16ba-4eaa-86c2-6ee70cfccefb\"}}];\n",
       "  root.Bokeh.embed.embed_items_notebook(docs_json, render_items);\n",
       "\n",
       "  }\n",
       "  if (root.Bokeh !== undefined) {\n",
       "    embed_document(root);\n",
       "  } else {\n",
       "    var attempts = 0;\n",
       "    var timer = setInterval(function(root) {\n",
       "      if (root.Bokeh !== undefined) {\n",
       "        clearInterval(timer);\n",
       "        embed_document(root);\n",
       "      } else {\n",
       "        attempts++;\n",
       "        if (attempts > 100) {\n",
       "          clearInterval(timer);\n",
       "          console.log(\"Bokeh: ERROR: Unable to run BokehJS code because BokehJS library is missing\");\n",
       "        }\n",
       "      }\n",
       "    }, 10, root)\n",
       "  }\n",
       "})(window);"
      ],
      "application/vnd.bokehjs_exec.v0+json": ""
     },
     "metadata": {
      "application/vnd.bokehjs_exec.v0+json": {
       "id": "1205"
      }
     },
     "output_type": "display_data"
    }
   ],
   "source": [
    "q = np.linspace(0, 1, 250)\n",
    "source = ColumnDataSource(\n",
    "    data = dict(\n",
    "        q = q,\n",
    "        loss_L2 = (q - 0.5)**2,\n",
    "        loss_L1 = np.abs(q - 0.5),\n",
    "        loss_01 = np.ones(q.shape),\n",
    "    )\n",
    ")\n",
    "p = figure(plot_width=400, plot_height=300, x_range=(0, 1), title='Loss Function',\n",
    "           toolbar_location=None)\n",
    "p.line('q', 'loss_L2', source=source, line_color='navy', line_width=2,\n",
    "       legend_label='Quadratic loss')\n",
    "p.line('q', 'loss_L1', source=source, line_color='firebrick', line_width=2, line_dash='dashed',\n",
    "       legend_label='Absolute loss')\n",
    "p.line('q', 'loss_01', source=source, line_color='green', line_width=2, line_dash='dashdot',\n",
    "       legend_label='0-1 loss')\n",
    "p.line([0.5, 0.5], [0.0, 1.0], line_color='green', line_dash='dotted')\n",
    "p.circle(0.5, 1.0, size=8, line_color='green', fill_color='white')\n",
    "p.circle(0.5, 0.0, size=8, line_color='green', fill_color='green')\n",
    "p.xaxis.axis_label = 'Point estimate \\u03B4'\n",
    "p.yaxis.axis_label = 'Loss'\n",
    "p.legend.location = (20, 130)\n",
    "p.legend.click_policy = 'hide'\n",
    "p.legend.border_line_color = p.xgrid.grid_line_color = p.ygrid.grid_line_color = p.outline_line_color = None\n",
    "show(p)"
   ]
  },
  {
   "cell_type": "markdown",
   "metadata": {},
   "source": [
    "## Interval Estimation\n",
    "---\n",
    "\n",
    "1. <font color=red>Credible Interval (CI)</font> <br>\n",
    "The credible interval of $\\theta$ is an interval $[a_c, b_c]$ such that\n",
    "\n",
    "  * $P(a_c \\leqq \\theta \\leqq b_c|D) = 1-c$,\n",
    "  * $P(\\theta < a_c|D) = \\frac{c}2$ and $P(\\theta > b_c|D\\} = \\frac{c}2$.\n",
    "\n",
    "2. <font color=red>Highest Posterior Density interval (HPDI)</font>\n",
    "\n",
    "   The highest posterior density interval of $\\theta$ is an interval $[a_c, b_c]$ such that\n",
    "\n",
    "  * $P(a_c \\leqq \\theta \\leqq b_c|D) = 1-c$,\n",
    "  * for any pair $(\\theta,\\theta^{\\prime})$ such that $\\theta\\in[a_c, b_c]$ and $\\theta^{\\prime}\\notin [a_c, b_c]$, $p(\\theta|D) > p(\\theta^{\\prime}|D)$ must hold.\n",
    "\n",
    "   In particular, if the distribution is unimodal (it has the unique mode), the HPDI must satisfy\n",
    "\n",
    "\\begin{align*}\n",
    " P(a_c \\leqq \\theta \\leqq b_c|D) &= 1-c, \\\\\n",
    " p(a_c|D) &= p(b_c|D).\n",
    "\\end{align*}\n",
    "\n",
    "Here we import a module called `scipy.optimize`. It includes functions for numerical optimization."
   ]
  },
  {
   "cell_type": "code",
   "execution_count": 15,
   "metadata": {},
   "outputs": [],
   "source": [
    "import scipy.optimize as opt"
   ]
  },
  {
   "cell_type": "markdown",
   "metadata": {},
   "source": [
    "`pandas` is a Python package for data analysis. `display` is used to show a Pandas dataframe in the Jupyter Notebook."
   ]
  },
  {
   "cell_type": "code",
   "execution_count": 16,
   "metadata": {},
   "outputs": [],
   "source": [
    "import pandas as pd\n",
    "from IPython.display import display"
   ]
  },
  {
   "cell_type": "markdown",
   "metadata": {},
   "source": [
    "The function `beta_hpdi` returns the HPD interval of the beta distribution. The nested function `hdpi_conditions` returns a vector such that\n",
    "\n",
    "$$\n",
    " \\begin{bmatrix}\n",
    " P(\\theta\\leqq b|D) - P(\\theta \\leqq a|D) - p \\\\\n",
    " p(b|D) - p(a|D)\n",
    " \\end{bmatrix},\n",
    "$$\n",
    "\n",
    "where $p=1-c$ and $P(\\theta\\leqq b|D) - P(\\theta \\leqq a|D) = P(a \\leqq \\theta \\leqq b|D)$.\n",
    "\n",
    "So if we find a pair $[a, b]$ that makes the above vector equal to zero, such a pair is regarded as the 100p% HPDI. This is done by the function `root` in `scipy.optimize`.\n",
    "\n",
    "A general syntax of `root` is as follows.\n",
    "```Python\n",
    "root(f, initial_value, arg=(arguments_of_f))\n",
    "```\n",
    "`root` finds a solution of `f`, i.e., a vector $x$ such that $f(x)=0$, by using a seach algorithm. `initial_value` is the starting point of the search algorithm. `arg` is a tuple containing arguments to be passed to `f`."
   ]
  },
  {
   "cell_type": "code",
   "execution_count": 17,
   "metadata": {},
   "outputs": [],
   "source": [
    "def beta_hpdi(ci0, alpha, beta, prob):\n",
    "    def hpdi_conditions(v, a, b, p):\n",
    "        eq1 = st.beta.cdf(v[1], a, b) - st.beta.cdf(v[0], a, b) - p\n",
    "        eq2 = st.beta.pdf(v[1], a, b) - st.beta.pdf(v[0], a, b)\n",
    "        return np.hstack((eq1, eq2))\n",
    "    return opt.root(hpdi_conditions, ci0, args=(alpha, beta, prob)).x"
   ]
  },
  {
   "cell_type": "markdown",
   "metadata": {},
   "source": [
    "The following cell computes the 90% confidence interval `ci` and the 90% highest posterior density interval `hpdi` of $\\text{Beta}(2,5)$ as an illustration. `interval` is a method to compute the credible interval, which is already included in `scipy.stats`."
   ]
  },
  {
   "cell_type": "code",
   "execution_count": 18,
   "metadata": {},
   "outputs": [],
   "source": [
    "a = 2.0\n",
    "b = 5.0\n",
    "prob = 0.9\n",
    "ci = st.beta.interval(prob, a, b)\n",
    "hpdi = beta_hpdi(ci, a, b, prob)"
   ]
  },
  {
   "cell_type": "markdown",
   "metadata": {},
   "source": [
    "Then we create a figure for comparison betweem `ci` and `hdpi`."
   ]
  },
  {
   "cell_type": "code",
   "execution_count": 19,
   "metadata": {
    "scrolled": true
   },
   "outputs": [
    {
     "data": {
      "text/html": [
       "\n",
       "\n",
       "\n",
       "\n",
       "\n",
       "\n",
       "  <div class=\"bk-root\" id=\"1bab766a-1774-4516-b300-2aaf2c6b34b8\" data-root-id=\"1482\"></div>\n"
      ]
     },
     "metadata": {},
     "output_type": "display_data"
    },
    {
     "data": {
      "application/javascript": [
       "(function(root) {\n",
       "  function embed_document(root) {\n",
       "    \n",
       "  var docs_json = {\"ffcd2193-2d48-48a2-bd70-617f07ea4e27\":{\"defs\":[],\"roots\":{\"references\":[{\"attributes\":{\"children\":[{\"id\":\"1418\"},{\"id\":\"1450\"}]},\"id\":\"1482\",\"type\":\"Row\"},{\"attributes\":{\"axis\":{\"id\":\"1433\"},\"dimension\":1,\"grid_line_color\":null,\"ticker\":null},\"id\":\"1436\",\"type\":\"Grid\"},{\"attributes\":{\"axis_label\":\"\\u03b8\",\"formatter\":{\"id\":\"1530\"},\"major_label_policy\":{\"id\":\"1529\"},\"ticker\":{\"id\":\"1462\"}},\"id\":\"1461\",\"type\":\"LinearAxis\"},{\"attributes\":{\"line_color\":\"navy\",\"line_width\":2,\"x\":{\"field\":\"x\"},\"y\":{\"field\":\"posterior\"}},\"id\":\"1440\",\"type\":\"Line\"},{\"attributes\":{},\"id\":\"1531\",\"type\":\"UnionRenderers\"},{\"attributes\":{},\"id\":\"1459\",\"type\":\"LinearScale\"},{\"attributes\":{\"fill_alpha\":0.5,\"fill_color\":\"#9ecae1\",\"x\":{\"field\":\"ci_x\"},\"y1\":{\"field\":\"ci_y1\"},\"y2\":{\"field\":\"ci_y2\"}},\"id\":\"1445\",\"type\":\"VArea\"},{\"attributes\":{\"fill_alpha\":0.1,\"fill_color\":\"#9ecae1\",\"x\":{\"field\":\"hpdi_x\"},\"y1\":{\"field\":\"hpdi_y1\"},\"y2\":{\"field\":\"hpdi_y2\"}},\"id\":\"1478\",\"type\":\"VArea\"},{\"attributes\":{},\"id\":\"1532\",\"type\":\"Selection\"},{\"attributes\":{},\"id\":\"1524\",\"type\":\"BasicTickFormatter\"},{\"attributes\":{\"below\":[{\"id\":\"1461\"}],\"center\":[{\"id\":\"1464\"},{\"id\":\"1468\"},{\"id\":\"1481\"}],\"height\":300,\"left\":[{\"id\":\"1465\"}],\"outline_line_color\":null,\"renderers\":[{\"id\":\"1474\"},{\"id\":\"1479\"}],\"title\":{\"id\":\"1451\"},\"toolbar\":{\"id\":\"1469\"},\"toolbar_location\":null,\"width\":400,\"x_range\":{\"id\":\"1453\"},\"x_scale\":{\"id\":\"1457\"},\"y_range\":{\"id\":\"1455\"},\"y_scale\":{\"id\":\"1459\"}},\"id\":\"1450\",\"subtype\":\"Figure\",\"type\":\"Plot\"},{\"attributes\":{\"line_color\":\"navy\",\"line_width\":2,\"x\":{\"field\":\"x\"},\"y\":{\"field\":\"posterior\"}},\"id\":\"1472\",\"type\":\"Line\"},{\"attributes\":{\"fill_alpha\":0.5,\"fill_color\":\"#9ecae1\",\"x\":{\"field\":\"hpdi_x\"},\"y1\":{\"field\":\"hpdi_y1\"},\"y2\":{\"field\":\"hpdi_y2\"}},\"id\":\"1477\",\"type\":\"VArea\"},{\"attributes\":{\"data_source\":{\"id\":\"1416\"},\"glyph\":{\"id\":\"1445\"},\"hover_glyph\":null,\"muted_glyph\":null,\"nonselection_glyph\":{\"id\":\"1446\"},\"view\":{\"id\":\"1448\"}},\"id\":\"1447\",\"type\":\"GlyphRenderer\"},{\"attributes\":{},\"id\":\"1520\",\"type\":\"AllLabels\"},{\"attributes\":{\"data_source\":{\"id\":\"1416\"},\"glyph\":{\"id\":\"1472\"},\"hover_glyph\":null,\"muted_glyph\":null,\"nonselection_glyph\":{\"id\":\"1473\"},\"view\":{\"id\":\"1475\"}},\"id\":\"1474\",\"type\":\"GlyphRenderer\"},{\"attributes\":{\"source\":{\"id\":\"1416\"}},\"id\":\"1448\",\"type\":\"CDSView\"},{\"attributes\":{\"line_color\":\"firebrick\",\"location\":0.8002722440152972},\"id\":\"1449\",\"type\":\"Span\"},{\"attributes\":{\"data_source\":{\"id\":\"1416\"},\"glyph\":{\"id\":\"1477\"},\"hover_glyph\":null,\"muted_glyph\":null,\"nonselection_glyph\":{\"id\":\"1478\"},\"view\":{\"id\":\"1480\"}},\"id\":\"1479\",\"type\":\"GlyphRenderer\"},{\"attributes\":{\"end\":2.8},\"id\":\"1423\",\"type\":\"Range1d\"},{\"attributes\":{\"fill_alpha\":0.1,\"fill_color\":\"#9ecae1\",\"x\":{\"field\":\"ci_x\"},\"y1\":{\"field\":\"ci_y1\"},\"y2\":{\"field\":\"ci_y2\"}},\"id\":\"1446\",\"type\":\"VArea\"},{\"attributes\":{\"data_source\":{\"id\":\"1416\"},\"glyph\":{\"id\":\"1440\"},\"hover_glyph\":null,\"muted_glyph\":null,\"nonselection_glyph\":{\"id\":\"1441\"},\"view\":{\"id\":\"1443\"}},\"id\":\"1442\",\"type\":\"GlyphRenderer\"},{\"attributes\":{},\"id\":\"1430\",\"type\":\"BasicTicker\"},{\"attributes\":{},\"id\":\"1425\",\"type\":\"LinearScale\"},{\"attributes\":{\"source\":{\"id\":\"1416\"}},\"id\":\"1475\",\"type\":\"CDSView\"},{\"attributes\":{\"active_multi\":null,\"tools\":[{\"id\":\"1417\"}]},\"id\":\"1469\",\"type\":\"Toolbar\"},{\"attributes\":{},\"id\":\"1523\",\"type\":\"AllLabels\"},{\"attributes\":{},\"id\":\"1427\",\"type\":\"LinearScale\"},{\"attributes\":{\"active_multi\":null,\"tools\":[{\"id\":\"1417\"}]},\"id\":\"1437\",\"type\":\"Toolbar\"},{\"attributes\":{\"source\":{\"id\":\"1416\"}},\"id\":\"1443\",\"type\":\"CDSView\"},{\"attributes\":{},\"id\":\"1421\",\"type\":\"Range1d\"},{\"attributes\":{\"line_alpha\":0.1,\"line_color\":\"navy\",\"line_width\":2,\"x\":{\"field\":\"x\"},\"y\":{\"field\":\"posterior\"}},\"id\":\"1473\",\"type\":\"Line\"},{\"attributes\":{\"line_alpha\":0.1,\"line_color\":\"navy\",\"line_width\":2,\"x\":{\"field\":\"x\"},\"y\":{\"field\":\"posterior\"}},\"id\":\"1441\",\"type\":\"Line\"},{\"attributes\":{\"data\":{\"ci_x\":{\"__ndarray__\":\"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\",\"dtype\":\"float64\",\"order\":\"little\",\"shape\":[250]},\"ci_y1\":{\"__ndarray__\":\"AAAAAAAAAAAAAAAAAAAAAAAAAAAAAAAAAAAAAAAAAAAAAAAAAAAAAAAAAAAAAAAAAAAAAAAAAAAAAAAAAAAAAAAAAAAAAAAAAAAAAAAAAAAAAAAAAAAAAAAAAAAAAAAAAAAAAAAAAAAAAAAAAAAAAAAAAAAAAAAAAAAAAAAAAAAAAAAAAAAAAAAAAAAAAAAAAAAAAAAAAAAAAAAAAAAAAAAAAAAAAAAAAAAAAAAAAAAAAAAAAAAAAAAAAAAAAAAAAAAAAAAAAAAAAAAAAAAAAAAAAAAAAAAAAAAAAAAAAAAAAAAAAAAAAAAAAAAAAAAAAAAAAAAAAAAAAAAAAAAAAAAAAAAAAAAAAAAAAAAAAAAAAAAAAAAAAAAAAAAAAAAAAAAAAAAAAAAAAAAAAAAAAAAAAAAAAAAAAAAAAAAAAAAAAAAAAAAAAAAAAAAAAAAAAAAAAAAAAAAAAAAAAAAAAAAAAAAAAAAAAAAAAAAAAAAAAAAAAAAAAAAAAAAAAAAAAAAAAAAAAAAAAAAAAAAAAAAAAAAAAAAAAAAAAAAAAAAAAAAAAAAAAAAAAAAAAAAAAAAAAAAAAAAAAAAAAAAAAAAAAAAAAAAAAAAAAAAAAAAAAAAAAAAAAAAAAAAAAAAAAAAAAAAAAAAAAAAAAAAAAAAAAAAAAAAAAAAAAAAAAAAAAAAAAAAAAAAAAAAAAAAAAAAAAAAAAAAAAAAAAAAAAAAAAAAAAAAAAAAAAAAAAAAAAAAAAAAAAAAAAAAAAAAAAAAAAAAAAAAAAAAAAAAAAAAAAAAAAAAAAAAAAAAAAAAAAAAAAAAAAAAAAAAAAAAAAAAAAAAAAAAAAAAAAAAAAAAAAAAAAAAAAAAAAAAAAAAAAAAAAAAAAAAAAAAAAAAAAAAAAAAAAAAAAAAAAAAAAAAAAAAAAAAAAAAAAAAAAAAAAAAAAAAAAAAAAAAAAAAAAAAAAAAAAAAAAAAAAAAAAAAAAAAAAAAAAAAAAAAAAAAAAAAAAAAAAAAAAAAAAAAAAAAAAAAAAAAAAAAAAAAAAAAAAAAAAAAAAAAAAAAAAAAAAAAAAAAAAAAAAAAAAAAAAAAAAAAAAAAAAAAAAAAAAAAAAAAAAAAAAAAAAAAAAAAAAAAAAAAAAAAAAAAAAAAAAAAAAAAAAAAAAAAAAAAAAAAAAAAAAAAAAAAAAAAAAAAAAAAAAAAAAAAAAAAAAAAAAAAAAAAAAAAAAAAAAAAAAAAAAAAAAAAAAAAAAAAAAAAAAAAAAAAAAAAAAAAAAAAAAAAAAAAAAAAAAAAAAAAAAAAAAAAAAAAAAAAAAAAAAAAAAAAAAAAAAAAAAAAAAAAAAAAAAAAAAAAAAAAAAAAAAAAAAAAAAAAAAAAAAAAAAAAAAAAAAAAAAAAAAAAAAAAAAAAAAAAAAAAAAAAAAAAAAAAAAAAAAAAAAAAAAAAAAAAAAAAAAAAAAAAAAAAAAAAAAAAAAAAAAAAAAAAAAAAAAAAAAAAAAAAAAAAAAAAAAAAAAAAAAAAAAAAAAAAAAAAAAAAAAAAAAAAAAAAAAAAAAAAAAAAAAAAAAAAAAAAAAAAAAAAAAAAAAAAAAAAAAAAAAAAAAAAAAAAAAAAAAAAAAAAAAAAAAAAAAAAAAAAAAAAAAAAAAAAAAAAAAAAAAAAAAAAAAAAAAAAAAAAAAAAAAAAAAAAAAAAAAAAAAAAAAAAAAAAAAAAAAAAAAAAAAAAAAAAAAAAAAAAAAAAAAAAAAAAAAAAAAAAAAAAAAAAAAAAAAAAAAAAAAAAAAAAAAAAAAAAAAAAAAAAAAAAAAAAAAAAAAAAAAAAAAAAAAAAAAAAAAAAAAAAAAAAAAAAAAAAAAAAAAAAAAAAAAAAAAAAAAAAAAAAAAAAAAAAAAAAAAAAAAAAAAAAAAAAAAAAAAAAAAAAAAAAAAAAAAAAAAAAAAAAAAAAAAAAAAAAAAAAAAAAAAAAAAAAAAAAAAAAAAAAAAAAAAAAAAAAAAAAAAAAAAAAAAAAAAAAAAAAAAAAAAAAAAAAAAAAAAAAAAAAAAAAAAAAAAAAAAAAAAAAAAAAAAAAAAAAAAAAAAAAAAAAAAAAAAAAAAAAAAAAAAAAAAAAAAAAAAAAAAAAAAAAAAAAAAAAAAAAAAAAAAAAAAAAAAAAAAAAAAAAAAAAAAAAAAAAAAAAAAAAAAAAAAAAAAAAAAAAAAAAAAAAAAAAAAAAAAAAAAAAAAAAAAAAAAAAAAAAAAAAAAAAAAAAAAAAAAAAAAAAAAAAAAAAAAAAAAAAAAAAAAAAAAAAAAAAAAAAAAAAAAAAAAAAAAAAAAAAAAAAAAAAAAAAAAAAAAAAAAAAAAAAAAAAAAAAAAAAAAAAAAAAAAAAAAAAAAAAAAAAAAAAAAAAAAAAAAAAAAAAAAAAAAAAAAAAAAAAAAAAAAAAAAAAAAAAAAAAAAAAAAAAAAAAAAAAAAAAAAAAAAAAAAAAAAAAAAAAAAAAAAAAAAAAAAAAAAAAAAAAAAAAAAAAAAAAAAAAAAAAAAAAAAAAAAAAAAAAAAAAAAAAAAAAAAAAAAAAAAAAAAAAAAAAAAAAAAAAAAAAAAAAAAAAAAAAAAAAAAAAAAAAAAAAAAAAAAAAAAAAAAAAAAAAAAAAAAAAAAAAAAAAAAAAAAAAAAAAAAAAAAAA=\",\"dtype\":\"float64\",\"order\":\"little\",\"shape\":[250]},\"ci_y2\":{\"__ndarray__\":\"UCREp+1E9z+oaJQV5tP3P8fiHeW9X/g/QAWzm33o+D8e9MixLW75P2A/gZLW8Pk/Up2zm4Bw+j/tpPcdNO36P0SIrlz5Zvs/3s4Mjtjd+z80ECTb2VH8P++t7F8Fw/w/cY5PK2Mx/T8c1y8/+5z9P9WmdJDVBf4/RdASB/pr/j9jlBZ+cM/+P7ZcrcNAMP8/2HUvmXKO/z/AySmzDer/PxzNs9yMIQBAoh1+I89MAEC1ZiZ10XYAQCf8jJKXnwBAZdJENiXHAEDRW5gUfu0AQNlljtulEgFAMfbuMqA2AUAKKEi8cFkBQEAJ8xIbewFAh3cYzKKbAUCt/bV2C7sBQL2woptY2QFANg2UvY32AUBC1CJZrhICQN7oz+S9LQJAHS0J0b9HAkBCXy6It2ACQA33lW6oeAJA3gKS4pWPAkDeBHU8g6UCQE/Qls5zugJAn2ZZ5WrOAkCx1C3Ha+ECQAAQmbR58wJA1tM46JcEA0CGfsiWyRQDQJTuJe8RJANA6V9WGnQyA0APSYs78z8DQFU4J3CSTANACrHCz1RYA0CwCDFsPWMDQCREhVFPbQNA4vQWho12A0AkFocK+34DQCfqxNmahgNATtcS6W+NA0BbRQsofZMDQJ96pYDFmANAMnk610udA0Ab3IkKE6EDQI+0vvMdpANAGWd0Zm+mA0DOiLswCqgDQIe8HhvxqANABpCn6CapA0A6WeNWrqgDQFsT6B2KpwNANDxZ8LylA0A+sWx7SaMDQOiM72YyoANAvgNLVXqcA0CWQYnjI5gDQMtGWqkxkwNAdMUYOaaNA0CM/s4fhIcDQCGfO+XNgANAlJ3WC4Z5A0DEFtYQr3EDQEMrM2xLaQNAetyukF1gA0D46dbr51YDQIWuCubsTANAbv1/4m5CA0Ci/0c/cDcDQPcQVFXzKwNAUp16ePofA0DU/Xv3hxMDQB5WBxyeBgNAbnG/Kj/5AkDpnz9jbesCQLCTIAAr3QJAMT79NnrOAkA/rXc4Xb8CQFroPTDWrwJA0c0OReefAkAA8L6Yko8CQHRyPUjafgJAMueYa8BtAkDTKwQWR1wCQMdG21VwSgJAf0SoND44AkCkFCi3siUCQEJnT93PEgJABYpPopf/AUBeRZv8C+wBQMG5690u2AFA1jxFMwLEAUCjNvzkh68BQMX+udbBmgFAormB57GFAUCWNbXxWXABQC/IGcu7WgFAVyvdRNlEAUCKWportC4BQAVwXkdOGAFA/IGtW6kBAUDMf4cnx+oAQC0PbWWp0wBAXGlky1G8AEBfOP4KwqQAQCd0WtH7jABAxz8txwB1AECrxsOQ0lwAQM0ZCc5yRABA0QyLGuMrAEBVE38NJRMAQCg8jnN09P8/JPDsW0jC/z/ER63oyI//P4Nx2CX5XP8/xH/3Ftwp/z8HIx23dPb+P29k7/jFwv4/JmCxxtKO/j+o/0wCnlr+P0W0XIUqJv4/bDE1IXvx/T8oJ++ekrz9P3X8cL9zh/0/ool4OyFS/T/H0qTDnRz9PxTCfwDs5vw/RuKHkg6x/D8EGToSCHv8P0hhGxDbRPw/toXCFIoO/D8g2+GgF9j7P8H6UC2Gofs/v3wWK9hq+z+KsnEDEDT7Pz1h5Bcw/fo/AXw8wjrG+j9w3p1UMo/6PwYHjBkZWPo/d9HzU/Eg+j8fMTU/ven5P1/rLA9/svk//FE+8Dh7+T+a/VwH7UP5PwSIFnKdDPk/rUacRkzV+D/6BM2T+534P7e+PmGtZvg/elpIr2Mv+D8EZAt3IPj3P6PGfarlwPc/nodzNLWJ9z+VgKj4kFL3P+MZytN6G/c/CwWBm3Tk9j8W93oegK32P/lidCSfdvY/+TNCbtM/9j8SiNu1Hgn2P1JqY66C0vU/Vo0yBAGc9T+PBeFcm2X1P7sDUFdTL/U/RY+ziyr59D+rQJyLIsP0P9b7AOI8jfQ/l6pIE3tX9D/69lOd3iH0P6IFh/do7PM/UDDTkhu38z8YwMDZ94HzP/OneDD/TPM/CD/O9DIY8z8Y+0h+lOPyP+EqLh4lr/I/jLCKH+Z68j8BvDzH2EbyP1iF/VP+EvI/PQdr/lff8T9KuRH55qvxP35KdnCsePE/jlsfi6lF8T9cOZ9p3xLxP0KXnSZP4PA/mEnh1vmt8D/6/1mJ4HvwP8X/KUcESvA/a96vE2YY8D+ydyDZDc7vP9L5fpPPa+8/ZQsXOxMK7z8K6Eqp2qjuP2yzVqwnSO4/Mu5jB/zn7T+86pxyWYjtP9FBQJtBKe0/l0e0I7bK7D89gJqjuGzsP8YU46dKD+w/5Efgsm2y6z+m6lk8I1brP1rRoLFs+uo/VkiidUuf6j+eiPvgwETqP94sDULO6uk/DqYO3XSR6T9VsCHstTjpP8DHZZ+S4Og/EJ0LHQyJ6D+OimiBIzLoP7QICt/Z2+c/LSPJPjCG5z9s7d2fJzHnP4P38vfA3OY/AMM4M/2I5j+dN3k03TXmPxUYK9Vh4+U/6HaF5YuR5T8sK5MsXEDlP1NFRmjT7+Q/8YOLTfKf5D+EyF2IuVDkP0GM2bspAuQ/3lRQgkO04z9cKVxtB2fjP8sG8wV2GuM/E1V6zI/O4j/GW9o4VYPiP922kbrGOOI/isvIuOTu4T8EPWWSr6XhP0NhHZ4nXeE/1LWLKk0V4T8=\",\"dtype\":\"float64\",\"order\":\"little\",\"shape\":[250]},\"hpdi_x\":{\"__ndarray__\":\"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\",\"dtype\":\"float64\",\"order\":\"little\",\"shape\":[250]},\"hpdi_y1\":{\"__ndarray__\":\"AAAAAAAAAAAAAAAAAAAAAAAAAAAAAAAAAAAAAAAAAAAAAAAAAAAAAAAAAAAAAAAAAAAAAAAAAAAAAAAAAAAAAAAAAAAAAAAAAAAAAAAAAAAAAAAAAAAAAAAAAAAAAAAAAAAAAAAAAAAAAAAAAAAAAAAAAAAAAAAAAAAAAAAAAAAAAAAAAAAAAAAAAAAAAAAAAAAAAAAAAAAAAAAAAAAAAAAAAAAAAAAAAAAAAAAAAAAAAAAAAAAAAAAAAAAAAAAAAAAAAAAAAAAAAAAAAAAAAAAAAAAAAAAAAAAAAAAAAAAAAAAAAAAAAAAAAAAAAAAAAAAAAAAAAAAAAAAAAAAAAAAAAAAAAAAAAAAAAAAAAAAAAAAAAAAAAAAAAAAAAAAAAAAAAAAAAAAAAAAAAAAAAAAAAAAAAAAAAAAAAAAAAAAAAAAAAAAAAAAAAAAAAAAAAAAAAAAAAAAAAAAAAAAAAAAAAAAAAAAAAAAAAAAAAAAAAAAAAAAAAAAAAAAAAAAAAAAAAAAAAAAAAAAAAAAAAAAAAAAAAAAAAAAAAAAAAAAAAAAAAAAAAAAAAAAAAAAAAAAAAAAAAAAAAAAAAAAAAAAAAAAAAAAAAAAAAAAAAAAAAAAAAAAAAAAAAAAAAAAAAAAAAAAAAAAAAAAAAAAAAAAAAAAAAAAAAAAAAAAAAAAAAAAAAAAAAAAAAAAAAAAAAAAAAAAAAAAAAAAAAAAAAAAAAAAAAAAAAAAAAAAAAAAAAAAAAAAAAAAAAAAAAAAAAAAAAAAAAAAAAAAAAAAAAAAAAAAAAAAAAAAAAAAAAAAAAAAAAAAAAAAAAAAAAAAAAAAAAAAAAAAAAAAAAAAAAAAAAAAAAAAAAAAAAAAAAAAAAAAAAAAAAAAAAAAAAAAAAAAAAAAAAAAAAAAAAAAAAAAAAAAAAAAAAAAAAAAAAAAAAAAAAAAAAAAAAAAAAAAAAAAAAAAAAAAAAAAAAAAAAAAAAAAAAAAAAAAAAAAAAAAAAAAAAAAAAAAAAAAAAAAAAAAAAAAAAAAAAAAAAAAAAAAAAAAAAAAAAAAAAAAAAAAAAAAAAAAAAAAAAAAAAAAAAAAAAAAAAAAAAAAAAAAAAAAAAAAAAAAAAAAAAAAAAAAAAAAAAAAAAAAAAAAAAAAAAAAAAAAAAAAAAAAAAAAAAAAAAAAAAAAAAAAAAAAAAAAAAAAAAAAAAAAAAAAAAAAAAAAAAAAAAAAAAAAAAAAAAAAAAAAAAAAAAAAAAAAAAAAAAAAAAAAAAAAAAAAAAAAAAAAAAAAAAAAAAAAAAAAAAAAAAAAAAAAAAAAAAAAAAAAAAAAAAAAAAAAAAAAAAAAAAAAAAAAAAAAAAAAAAAAAAAAAAAAAAAAAAAAAAAAAAAAAAAAAAAAAAAAAAAAAAAAAAAAAAAAAAAAAAAAAAAAAAAAAAAAAAAAAAAAAAAAAAAAAAAAAAAAAAAAAAAAAAAAAAAAAAAAAAAAAAAAAAAAAAAAAAAAAAAAAAAAAAAAAAAAAAAAAAAAAAAAAAAAAAAAAAAAAAAAAAAAAAAAAAAAAAAAAAAAAAAAAAAAAAAAAAAAAAAAAAAAAAAAAAAAAAAAAAAAAAAAAAAAAAAAAAAAAAAAAAAAAAAAAAAAAAAAAAAAAAAAAAAAAAAAAAAAAAAAAAAAAAAAAAAAAAAAAAAAAAAAAAAAAAAAAAAAAAAAAAAAAAAAAAAAAAAAAAAAAAAAAAAAAAAAAAAAAAAAAAAAAAAAAAAAAAAAAAAAAAAAAAAAAAAAAAAAAAAAAAAAAAAAAAAAAAAAAAAAAAAAAAAAAAAAAAAAAAAAAAAAAAAAAAAAAAAAAAAAAAAAAAAAAAAAAAAAAAAAAAAAAAAAAAAAAAAAAAAAAAAAAAAAAAAAAAAAAAAAAAAAAAAAAAAAAAAAAAAAAAAAAAAAAAAAAAAAAAAAAAAAAAAAAAAAAAAAAAAAAAAAAAAAAAAAAAAAAAAAAAAAAAAAAAAAAAAAAAAAAAAAAAAAAAAAAAAAAAAAAAAAAAAAAAAAAAAAAAAAAAAAAAAAAAAAAAAAAAAAAAAAAAAAAAAAAAAAAAAAAAAAAAAAAAAAAAAAAAAAAAAAAAAAAAAAAAAAAAAAAAAAAAAAAAAAAAAAAAAAAAAAAAAAAAAAAAAAAAAAAAAAAAAAAAAAAAAAAAAAAAAAAAAAAAAAAAAAAAAAAAAAAAAAAAAAAAAAAAAAAAAAAAAAAAAAAAAAAAAAAAAAAAAAAAAAAAAAAAAAAAAAAAAAAAAAAAAAAAAAAAAAAAAAAAAAAAAAAAAAAAAAAAAAAAAAAAAAAAAAAAAAAAAAAAAAAAAAAAAAAAAAAAAAAAAAAAAAAAAAAAAAAAAAAAAAAAAAAAAAAAAAAAAAAAAAAAAAAAAAAAAAAAAAAAAAAAAAAAAAAAAAAAAAAAAAAAAAAAAAAAAAAAAAAAAAAAAAAAAAAAAAAAAAAAAAAAAAAAAAAAAAAAAAAAAAAAAAAAAAAAAAAAAAAAAAAAAAAAAAAAAAAAAAAAAAAAAAAAAAAAAAAAAAAAAAAAAAAAAAAAAAAAAAAAAAAAAAAAAAAAAAAAAAAAAAAAAAAAAAAAAAAAAAAAAAAAAAAAAAAAAAAAAAAAAAAAAAAAAAAAAAAAAAAAAAAAAAAAAAAAAA=\",\"dtype\":\"float64\",\"order\":\"little\",\"shape\":[250]},\"hpdi_y2\":{\"__ndarray__\":\"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\",\"dtype\":\"float64\",\"order\":\"little\",\"shape\":[250]},\"posterior\":{\"__ndarray__\":\"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\",\"dtype\":\"float64\",\"order\":\"little\",\"shape\":[250]},\"x\":{\"__ndarray__\":\"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\",\"dtype\":\"float64\",\"order\":\"little\",\"shape\":[250]}},\"selected\":{\"id\":\"1532\"},\"selection_policy\":{\"id\":\"1531\"}},\"id\":\"1416\",\"type\":\"ColumnDataSource\"},{\"attributes\":{},\"id\":\"1529\",\"type\":\"AllLabels\"},{\"attributes\":{},\"id\":\"1527\",\"type\":\"BasicTickFormatter\"},{\"attributes\":{\"source\":{\"id\":\"1416\"}},\"id\":\"1480\",\"type\":\"CDSView\"},{\"attributes\":{},\"id\":\"1530\",\"type\":\"BasicTickFormatter\"},{\"attributes\":{\"axis_label\":\"Probability density\",\"formatter\":{\"id\":\"1527\"},\"major_label_policy\":{\"id\":\"1526\"},\"ticker\":{\"id\":\"1466\"}},\"id\":\"1465\",\"type\":\"LinearAxis\"},{\"attributes\":{\"text\":\"Credible Interval\"},\"id\":\"1419\",\"type\":\"Title\"},{\"attributes\":{\"axis\":{\"id\":\"1461\"},\"grid_line_color\":null,\"ticker\":null},\"id\":\"1464\",\"type\":\"Grid\"},{\"attributes\":{},\"id\":\"1457\",\"type\":\"LinearScale\"},{\"attributes\":{},\"id\":\"1521\",\"type\":\"BasicTickFormatter\"},{\"attributes\":{\"axis\":{\"id\":\"1465\"},\"dimension\":1,\"grid_line_color\":null,\"ticker\":null},\"id\":\"1468\",\"type\":\"Grid\"},{\"attributes\":{\"below\":[{\"id\":\"1429\"}],\"center\":[{\"id\":\"1432\"},{\"id\":\"1436\"},{\"id\":\"1449\"}],\"height\":300,\"left\":[{\"id\":\"1433\"}],\"outline_line_color\":null,\"renderers\":[{\"id\":\"1442\"},{\"id\":\"1447\"}],\"title\":{\"id\":\"1419\"},\"toolbar\":{\"id\":\"1437\"},\"toolbar_location\":null,\"width\":400,\"x_range\":{\"id\":\"1421\"},\"x_scale\":{\"id\":\"1425\"},\"y_range\":{\"id\":\"1423\"},\"y_scale\":{\"id\":\"1427\"}},\"id\":\"1418\",\"subtype\":\"Figure\",\"type\":\"Plot\"},{\"attributes\":{\"callback\":null,\"tooltips\":[[\"\\u03b8\",\"@x{0.0000}\"],[\"posterior\",\"@posterior{0.0000}\"]]},\"id\":\"1417\",\"type\":\"HoverTool\"},{\"attributes\":{},\"id\":\"1466\",\"type\":\"BasicTicker\"},{\"attributes\":{},\"id\":\"1434\",\"type\":\"BasicTicker\"},{\"attributes\":{\"line_color\":\"firebrick\",\"location\":0.8002722440152972},\"id\":\"1481\",\"type\":\"Span\"},{\"attributes\":{},\"id\":\"1526\",\"type\":\"AllLabels\"},{\"attributes\":{\"axis_label\":\"Probability density\",\"formatter\":{\"id\":\"1521\"},\"major_label_policy\":{\"id\":\"1520\"},\"ticker\":{\"id\":\"1434\"}},\"id\":\"1433\",\"type\":\"LinearAxis\"},{\"attributes\":{\"end\":2.8},\"id\":\"1455\",\"type\":\"Range1d\"},{\"attributes\":{},\"id\":\"1462\",\"type\":\"BasicTicker\"},{\"attributes\":{\"text\":\"Highest Posterior Density Interval\"},\"id\":\"1451\",\"type\":\"Title\"},{\"attributes\":{\"axis\":{\"id\":\"1429\"},\"grid_line_color\":null,\"ticker\":null},\"id\":\"1432\",\"type\":\"Grid\"},{\"attributes\":{\"axis_label\":\"\\u03b8\",\"formatter\":{\"id\":\"1524\"},\"major_label_policy\":{\"id\":\"1523\"},\"ticker\":{\"id\":\"1430\"}},\"id\":\"1429\",\"type\":\"LinearAxis\"},{\"attributes\":{},\"id\":\"1453\",\"type\":\"Range1d\"}],\"root_ids\":[\"1482\"]},\"title\":\"Bokeh Application\",\"version\":\"2.3.2\"}};\n",
       "  var render_items = [{\"docid\":\"ffcd2193-2d48-48a2-bd70-617f07ea4e27\",\"root_ids\":[\"1482\"],\"roots\":{\"1482\":\"1bab766a-1774-4516-b300-2aaf2c6b34b8\"}}];\n",
       "  root.Bokeh.embed.embed_items_notebook(docs_json, render_items);\n",
       "\n",
       "  }\n",
       "  if (root.Bokeh !== undefined) {\n",
       "    embed_document(root);\n",
       "  } else {\n",
       "    var attempts = 0;\n",
       "    var timer = setInterval(function(root) {\n",
       "      if (root.Bokeh !== undefined) {\n",
       "        clearInterval(timer);\n",
       "        embed_document(root);\n",
       "      } else {\n",
       "        attempts++;\n",
       "        if (attempts > 100) {\n",
       "          clearInterval(timer);\n",
       "          console.log(\"Bokeh: ERROR: Unable to run BokehJS code because BokehJS library is missing\");\n",
       "        }\n",
       "      }\n",
       "    }, 10, root)\n",
       "  }\n",
       "})(window);"
      ],
      "application/vnd.bokehjs_exec.v0+json": ""
     },
     "metadata": {
      "application/vnd.bokehjs_exec.v0+json": {
       "id": "1482"
      }
     },
     "output_type": "display_data"
    }
   ],
   "source": [
    "x = np.linspace(0.0, 1.0, 250)\n",
    "ci_x =  np.linspace(ci[0], ci[1], 250)\n",
    "hpdi_x = np.linspace(hpdi[0], hpdi[1], 250)\n",
    "hpdi_height = st.beta.pdf(hpdi[0], a, b)\n",
    "source = ColumnDataSource(\n",
    "    data = dict(\n",
    "        x = x,\n",
    "        posterior = st.beta.pdf(x, a, b),\n",
    "        ci_x = ci_x,\n",
    "        ci_y1 = np.zeros(ci_x.shape),\n",
    "        ci_y2 = st.beta.pdf(ci_x, a, b),\n",
    "        hpdi_x = hpdi_x,\n",
    "        hpdi_y1 = np.zeros(hpdi_x.shape),\n",
    "        hpdi_y2 = st.beta.pdf(hpdi_x, a, b)\n",
    "    )\n",
    ")\n",
    "hover = HoverTool(\n",
    "    tooltips = [\n",
    "        ('\\u03B8', '@x{0.0000}'),\n",
    "        ('posterior', '@posterior{0.0000}')\n",
    "    ]\n",
    ")\n",
    "\n",
    "# Credible Interval (CI)\n",
    "ci_plot = figure(plot_width=400, plot_height=300, x_range=(0, 1), y_range=(0, 2.8),\n",
    "                 title='Credible Interval', tools=[hover], toolbar_location=None)\n",
    "ci_plot.line('x', 'posterior', source=source, line_color='navy', line_width=2)\n",
    "ci_plot.varea('ci_x', 'ci_y1', 'ci_y2', source=source, fill_color='#9ecae1', fill_alpha=0.5)\n",
    "ci_plot.add_layout(Span(location=hpdi_height, dimension='width', line_color='firebrick'))\n",
    "ci_plot.xaxis.axis_label = '\\u03B8'\n",
    "ci_plot.yaxis.axis_label = 'Probability density'\n",
    "ci_plot.xgrid.grid_line_color = ci_plot.ygrid.grid_line_color = ci_plot.outline_line_color = None\n",
    "\n",
    "# Highest Posterior Density Interval (HPDI)\n",
    "hpdi_plot = figure(plot_width=400, plot_height=300, x_range=(0, 1), y_range=(0, 2.8),\n",
    "                   title='Highest Posterior Density Interval', tools=[hover], toolbar_location=None)\n",
    "hpdi_plot.line('x', 'posterior', source=source, line_color='navy', line_width=2)\n",
    "hpdi_plot.varea('hpdi_x', 'hpdi_y1', 'hpdi_y2', source=source, fill_color='#9ecae1', fill_alpha=0.5)\n",
    "hpdi_plot.add_layout(Span(location=hpdi_height, dimension='width', line_color='firebrick'))\n",
    "hpdi_plot.xaxis.axis_label = '\\u03B8'\n",
    "hpdi_plot.yaxis.axis_label = 'Probability density'\n",
    "hpdi_plot.xgrid.grid_line_color = hpdi_plot.ygrid.grid_line_color = hpdi_plot.outline_line_color = None\n",
    "\n",
    "show(row(ci_plot, hpdi_plot))"
   ]
  },
  {
   "cell_type": "markdown",
   "metadata": {},
   "source": [
    "`bernoulli_stats` computes posterior statistics (mean, median, mode, standard deviation, CI, HPDI). The following are standard methods for descriptive statistics:\n",
    "\n",
    "+ `interval` - interval\n",
    "+ `mean` - mean\n",
    "+ `median` - median\n",
    "+ `std` - standard deviation (the square root of the variance)\n",
    "\n",
    "`DataFrame` converts a matrix (NumPy 2D array) into a Pandas dataframe."
   ]
  },
  {
   "cell_type": "code",
   "execution_count": 20,
   "metadata": {},
   "outputs": [],
   "source": [
    "def bernoulli_stats(data, a0, b0, prob):\n",
    "    n = data.size\n",
    "    sum_data = data.sum()\n",
    "    a = sum_data + a0\n",
    "    b = n - sum_data + b0\n",
    "    mean_pi = st.beta.mean(a, b)\n",
    "    median_pi = st.beta.median(a, b)\n",
    "    mode_pi = (a - 1.0) / (a + b - 2.0)\n",
    "    sd_pi = st.beta.std(a, b)\n",
    "    ci_pi = st.beta.interval(prob, a, b)\n",
    "    hpdi_pi = beta_hpdi(ci_pi, a, b, prob)\n",
    "    stats = np.hstack((mean_pi, median_pi, mode_pi, sd_pi, ci_pi, hpdi_pi))\n",
    "    stats = stats.reshape((1, 8))\n",
    "    stats_string = ['mean', 'median', 'mode', 'sd', 'ci (lower)', 'ci (upper)', 'hpdi (lower)', 'hpdi (upper)']\n",
    "    param_string = ['$\\\\theta$']\n",
    "    results = pd.DataFrame(stats, index=param_string, columns=stats_string)\n",
    "    return results, a, b"
   ]
  },
  {
   "cell_type": "markdown",
   "metadata": {},
   "source": [
    "In the following cell, we generate 10 pseudo-random numbers from the Bernoulli distribution with $\\theta=\\frac12$ and compute the posterior statistics with `bernoulli_stats`."
   ]
  },
  {
   "cell_type": "code",
   "execution_count": 21,
   "metadata": {
    "scrolled": true
   },
   "outputs": [
    {
     "data": {
      "text/html": [
       "<div>\n",
       "<style scoped>\n",
       "    .dataframe tbody tr th:only-of-type {\n",
       "        vertical-align: middle;\n",
       "    }\n",
       "\n",
       "    .dataframe tbody tr th {\n",
       "        vertical-align: top;\n",
       "    }\n",
       "\n",
       "    .dataframe thead th {\n",
       "        text-align: right;\n",
       "    }\n",
       "</style>\n",
       "<table border=\"1\" class=\"dataframe\">\n",
       "  <thead>\n",
       "    <tr style=\"text-align: right;\">\n",
       "      <th></th>\n",
       "      <th>mean</th>\n",
       "      <th>median</th>\n",
       "      <th>mode</th>\n",
       "      <th>sd</th>\n",
       "      <th>ci (lower)</th>\n",
       "      <th>ci (upper)</th>\n",
       "      <th>hpdi (lower)</th>\n",
       "      <th>hpdi (upper)</th>\n",
       "    </tr>\n",
       "  </thead>\n",
       "  <tbody>\n",
       "    <tr>\n",
       "      <th>$\\theta$</th>\n",
       "      <td>0.5</td>\n",
       "      <td>0.5</td>\n",
       "      <td>0.5</td>\n",
       "      <td>0.138675</td>\n",
       "      <td>0.233794</td>\n",
       "      <td>0.766206</td>\n",
       "      <td>0.233794</td>\n",
       "      <td>0.766206</td>\n",
       "    </tr>\n",
       "  </tbody>\n",
       "</table>\n",
       "</div>"
      ],
      "text/plain": [
       "          mean  median  mode        sd  ci (lower)  ci (upper)  hpdi (lower)  \\\n",
       "$\\theta$   0.5     0.5   0.5  0.138675    0.233794    0.766206      0.233794   \n",
       "\n",
       "          hpdi (upper)  \n",
       "$\\theta$      0.766206  "
      ]
     },
     "metadata": {},
     "output_type": "display_data"
    }
   ],
   "source": [
    "prob0 = 0.5\n",
    "n = 10\n",
    "a0 = 1.0\n",
    "b0 = 1.0\n",
    "np.random.seed(99)\n",
    "data = st.bernoulli.rvs(prob0, size=n)\n",
    "prob = 0.95\n",
    "results, a, b = bernoulli_stats(data, a0, b0, prob)\n",
    "display(results)"
   ]
  },
  {
   "cell_type": "markdown",
   "metadata": {},
   "source": [
    "Note that three point estimats (mean, median, mode) are all identical. Furthermore the CI is also identical to the HPDI. This is because the posterior distribution is unimodal and symmetric around the mode."
   ]
  },
  {
   "cell_type": "markdown",
   "metadata": {},
   "source": [
    "## Bayes Factor\n",
    "---\n",
    "\n",
    "In statistics, either Bayesian or non-Bayesian, a hypothesis on the parameter(s) is a region or interval where the true value of the parameter is supposed to be located. In general, a hypothesis $H_i$ under which the true value of  $\\theta$ is located in a region $S_i\\subset\\Theta$ is expressed as\n",
    "\n",
    "\\begin{equation*}\n",
    " H_i:\\; \\theta\\in S_i, \\quad i=0,1,2,\\dots\n",
    "\\end{equation*}\n",
    "\n",
    "In Bayesian statistics, plausibility of a hypothesis is measured by the posterior probability that the true value of $\\theta$ is located in $S_i$, that is,\n",
    "\n",
    "$$\n",
    " P(H_i|D) = P(\\theta\\in S_i|D) = \\int_{S_i}p(\\theta|D)d\\theta.\n",
    "$$\n",
    "\n",
    "Competing hypotheses can be compared by the <font color=red>Bayes factor</font>, which is defined as\n",
    "\n",
    "$$\n",
    " \\text{Bayes factor} = \\mathrm{B}_{ij}\n",
    " = \\frac{P(H_i|D)}{P(H_j|D)}\\div\\frac{P(H_i)}{P(H_j)}\n",
    " = \\frac{\\text{Posterior odds ratio}}{\\text{Prior odds ratio}}.\n",
    "$$\n",
    "\n",
    "| Rank | &nbsp;&nbsp;&nbsp;&nbsp;&nbsp;&nbsp;&nbsp;&nbsp;&nbsp;&nbsp; Bayes factor $\\mathrm{B}_{ij}$ &nbsp;&nbsp;&nbsp;&nbsp;&nbsp;&nbsp;&nbsp;&nbsp;&nbsp;&nbsp;&nbsp; | Support for $H_j$ |\n",
    "|:----:|:---------------------------------------------:|:-----------------------:|\n",
    "|    0 | $0 < \\log_{10}(\\mathrm{B}_{ij})$              | Rejected                |\n",
    "|    1 | $-\\frac12 < \\log_{10}(\\mathrm{B}_{ij}) < 0$   | Barely worth mentioning |\n",
    "|    2 | $ -1 < \\log_{10}(\\mathrm{B}_{ij}) < -\\frac12$ | Substantial             |\n",
    "|    3 | $-\\frac32< \\log_{10}(\\mathrm{B}_{ij}) < -1$   | Strong                  |\n",
    "|    4 | $-2 < \\log_{10}(\\mathrm{B}_{ij}) < -\\frac32$  | Very strong             |\n",
    "|    5 | $\\log_{10}(\\mathrm{B}_{ij}) < -2$             | Decisive                |"
   ]
  },
  {
   "cell_type": "markdown",
   "metadata": {},
   "source": [
    "We want to check whether the true value of $\\theta$ is more than 50% or not, i.e.,\n",
    "\n",
    "$$\n",
    " \\begin{cases}\n",
    " H_0:\\ & \\theta \\leqq 0.5; \\\\\n",
    " H_1:\\ & \\theta > 0.5.\n",
    " \\end{cases}\n",
    "$$\n",
    "\n",
    "When $\\theta$ is the true vote share of a candidate, supporting $H_1$ implies that this candidate won the election.\n",
    "\n",
    "Suppose the true $\\theta$ is 60% and we generate 500 observations from the Bernoulli distribution with $\\theta=60\\%$."
   ]
  },
  {
   "cell_type": "code",
   "execution_count": 22,
   "metadata": {},
   "outputs": [
    {
     "name": "stdout",
     "output_type": "stream",
     "text": [
      "[0.0, -3.474580539092309, -3.474580539092309]\n"
     ]
    }
   ],
   "source": [
    "p = 0.6\n",
    "n = 500\n",
    "a0 = 1.0\n",
    "b0 = 1.0\n",
    "np.random.seed(99)\n",
    "data = st.bernoulli.rvs(p, size=n)\n",
    "y = np.sum(data)\n",
    "a_star = y + a0\n",
    "b_star = n - y + b0\n",
    "Prior_odds = st.beta.cdf(0.5, a0, b0) / (1.0 - st.beta.cdf(0.5, a0, b0))\n",
    "Posterior_odds = st.beta.cdf(0.5, a_star, b_star) / (1.0 - st.beta.cdf(0.5, a_star, b_star))\n",
    "Bayes_factor = Posterior_odds / Prior_odds\n",
    "print([np.log10(Prior_odds), np.log10(Posterior_odds), np.log10(Bayes_factor)])"
   ]
  },
  {
   "cell_type": "markdown",
   "metadata": {},
   "source": [
    "In this example, the prior odds ratio is 1. So the Bayes factor is identital to the posterior odds ratio. The Bayes factor suggests that $H_1$ is decisively supported by the evidence. Thus we can safely call the election for this candidate.\n",
    "\n",
    "## Savage-Dickey Density Ratio\n",
    "---\n",
    "\n",
    "The <font color=red>Savage-Dickey density ratio</font> (<font color=red>SDDR</font>) is the Bayes factor specifically designed for \n",
    "\n",
    "$$\n",
    " \\begin{cases}\n",
    " H_0:\\ & \\theta = \\theta_0; \\\\\n",
    " H_1:\\ & \\theta \\ne \\theta_0.\n",
    " \\end{cases}\n",
    "$$\n",
    "\n",
    "The SDDR is based on the spike-and-slab prior:\n",
    "\n",
    "$$\n",
    " p(\\theta) = p_0 \\delta(\\theta-\\theta_0) + (1-p_0)f(\\theta),\\quad 0 < p_0 < 1,\n",
    "$$\n",
    "\n",
    "where the choice of $p_0$ is arbitrary. The SDDR is given by\n",
    "\n",
    "$$\n",
    " \\mathrm{B}_{01} = \\frac{f(\\theta_0|D)}{f(\\theta_0)},\n",
    "$$\n",
    "\n",
    "where $f(\\theta|D)$ is the posterior distribution when $\\theta\\ne\\theta_0$, i.e.,\n",
    "\n",
    "$$\n",
    " f(\\theta|D)= \\frac{p(D|\\theta)f(\\theta)}{\\int_{\\Theta}p(D|\\theta)f(\\theta)d\\theta}.\n",
    "$$\n",
    "\n",
    "As an illustration, we test the following hypotheses \n",
    "\n",
    "$$\n",
    " \\begin{cases}\n",
    " H_0:\\ & \\theta = 0.5; \\\\\n",
    " H_1:\\ & \\theta \\ne 0.5.\n",
    " \\end{cases}\n",
    "$$\n",
    "\n",
    "with the SDDR. We use $\\text{Beta}(1,1)$ (the uniform distribution between 0 and 1) as $f$ in the spike-and-slab prior."
   ]
  },
  {
   "cell_type": "code",
   "execution_count": 23,
   "metadata": {},
   "outputs": [
    {
     "name": "stdout",
     "output_type": "stream",
     "text": [
      "-1.261090030594163\n"
     ]
    }
   ],
   "source": [
    "SDDR = st.beta.pdf(0.5, a_star, b_star)\n",
    "print(np.log10(SDDR))"
   ]
  },
  {
   "cell_type": "markdown",
   "metadata": {},
   "source": [
    "The SDDR suggests that $H_1$ is strongly supported. So we may conclude that the true value of $\\theta$ is not equal to 50%."
   ]
  }
 ],
 "metadata": {
  "kernelspec": {
   "display_name": "Python (Bayes)",
   "language": "python",
   "name": "bayes"
  },
  "language_info": {
   "codemirror_mode": {
    "name": "ipython",
    "version": 3
   },
   "file_extension": ".py",
   "mimetype": "text/x-python",
   "name": "python",
   "nbconvert_exporter": "python",
   "pygments_lexer": "ipython3",
   "version": "3.9.4"
  }
 },
 "nbformat": 4,
 "nbformat_minor": 4
}
