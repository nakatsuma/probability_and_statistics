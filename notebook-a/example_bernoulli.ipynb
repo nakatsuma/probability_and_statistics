{
 "cells": [
  {
   "cell_type": "markdown",
   "metadata": {},
   "source": [
    "## Bernoulli Distribution\n",
    "---\n",
    "\n",
    "Let us define a random variable $X_i$ $(i=1,\\dots,n)$ corresponding to tossing a coin such that\n",
    "$$\n",
    "X_i = \n",
    "\t\\begin{cases}\n",
    "\t1, & \\text{Head is obtained}; \\\\\n",
    "\t0, & \\text{Tail is obtained},\n",
    "\t\\end{cases}\n",
    "$$\n",
    "and \n",
    "$$\n",
    "\tP(X_i=1) = \\theta,\\quad P(X_i=0) = 1-\\theta.\n",
    "$$\n",
    "Then $X_i$ follows the <font color=red>Bernoulli distribution</font> and its p.m.f. is given by\n",
    "$$\n",
    "\tp(x_i|\\theta) = \\theta^{x_i}(1-\\theta)^{1-x_i},\\quad x_i=0,1.\n",
    "$$\n",
    "Then the joint p.f. of $D=(x_1,\\dots,x_n)$ is\n",
    "\\begin{align*}\n",
    "\tp(D|\\theta) &= \\prod_{i=1}^n p(x_i|\\theta) = \\prod_{i=1}^n \\theta^{x_i}(1-\\theta)^{1-x_i} \\\\\n",
    "\t&= \\theta^{y}(1-\\theta)^{n-y},\\quad y = \\sum_{i=1}^n x_i.\n",
    "\\end{align*}\n",
    "When we regard $p(D|\\theta)$ as a function of $\\theta$, it is called the <font color=red>likelihood</font> or <font color=red>likelihood function</font>."
   ]
  },
  {
   "cell_type": "markdown",
   "metadata": {},
   "source": [
    "## Likelihood of Bernoulli Probability\n",
    "---\n",
    "\n",
    "`import` literally imports a package named NumPy in Python. NumPy enable us to use vectors and matrices in Python. It also comes with numerous functions for mathematical computation. `as np` means that we use `np` as a abbreviation of `numpy`."
   ]
  },
  {
   "cell_type": "code",
   "execution_count": 1,
   "metadata": {},
   "outputs": [],
   "source": [
    "import numpy as np"
   ]
  },
  {
   "cell_type": "markdown",
   "metadata": {},
   "source": [
    "`scipy.stats` is a module in `SciPy`, a Python package for scientific computing. `scipy.stats` includes many functions for statistical analysis."
   ]
  },
  {
   "cell_type": "code",
   "execution_count": 2,
   "metadata": {},
   "outputs": [],
   "source": [
    "import scipy.stats as st"
   ]
  },
  {
   "cell_type": "markdown",
   "metadata": {},
   "source": [
    "We use `bokeh` (BTW, the name of this package originates from a Japanese word \"ボケ\" which means \"blurred\") to create interactive graphs."
   ]
  },
  {
   "cell_type": "code",
   "execution_count": 3,
   "metadata": {},
   "outputs": [],
   "source": [
    "from bokeh.io import output_notebook\n",
    "from bokeh.layouts import column, row\n",
    "from bokeh.models import ColumnDataSource, HoverTool, Slider, Span\n",
    "from bokeh.plotting import figure, show"
   ]
  },
  {
   "cell_type": "markdown",
   "metadata": {},
   "source": [
    "You need to run `output_notebook()` before you use `bokeh` in a Jupyter Notebook."
   ]
  },
  {
   "cell_type": "code",
   "execution_count": 4,
   "metadata": {},
   "outputs": [
    {
     "data": {
      "text/html": [
       "    <style>\n",
       "        .bk-notebook-logo {\n",
       "            display: block;\n",
       "            width: 20px;\n",
       "            height: 20px;\n",
       "            background-image: url(data:image/png;base64,iVBORw0KGgoAAAANSUhEUgAAABQAAAAUCAYAAACNiR0NAAAABHNCSVQICAgIfAhkiAAAAAlwSFlzAAALEgAACxIB0t1+/AAAABx0RVh0U29mdHdhcmUAQWRvYmUgRmlyZXdvcmtzIENTNui8sowAAAOkSURBVDiNjZRtaJVlGMd/1/08zzln5zjP1LWcU9N0NkN8m2CYjpgQYQXqSs0I84OLIC0hkEKoPtiH3gmKoiJDU7QpLgoLjLIQCpEsNJ1vqUOdO7ppbuec5+V+rj4ctwzd8IIbbi6u+8f1539dt3A78eXC7QizUF7gyV1fD1Yqg4JWz84yffhm0qkFqBogB9rM8tZdtwVsPUhWhGcFJngGeWrPzHm5oaMmkfEg1usvLFyc8jLRqDOMru7AyC8saQr7GG7f5fvDeH7Ej8CM66nIF+8yngt6HWaKh7k49Soy9nXurCi1o3qUbS3zWfrYeQDTB/Qj6kX6Ybhw4B+bOYoLKCC9H3Nu/leUTZ1JdRWkkn2ldcCamzrcf47KKXdAJllSlxAOkRgyHsGC/zRday5Qld9DyoM4/q/rUoy/CXh3jzOu3bHUVZeU+DEn8FInkPBFlu3+nW3Nw0mk6vCDiWg8CeJaxEwuHS3+z5RgY+YBR6V1Z1nxSOfoaPa4LASWxxdNp+VWTk7+4vzaou8v8PN+xo+KY2xsw6une2frhw05CTYOmQvsEhjhWjn0bmXPjpE1+kplmmkP3suftwTubK9Vq22qKmrBhpY4jvd5afdRA3wGjFAgcnTK2s4hY0/GPNIb0nErGMCRxWOOX64Z8RAC4oCXdklmEvcL8o0BfkNK4lUg9HTl+oPlQxdNo3Mg4Nv175e/1LDGzZen30MEjRUtmXSfiTVu1kK8W4txyV6BMKlbgk3lMwYCiusNy9fVfvvwMxv8Ynl6vxoByANLTWplvuj/nF9m2+PDtt1eiHPBr1oIfhCChQMBw6Aw0UulqTKZdfVvfG7VcfIqLG9bcldL/+pdWTLxLUy8Qq38heUIjh4XlzZxzQm19lLFlr8vdQ97rjZVOLf8nclzckbcD4wxXMidpX30sFd37Fv/GtwwhzhxGVAprjbg0gCAEeIgwCZyTV2Z1REEW8O4py0wsjeloKoMr6iCY6dP92H6Vw/oTyICIthibxjm/DfN9lVz8IqtqKYLUXfoKVMVQVVJOElGjrnnUt9T9wbgp8AyYKaGlqingHZU/uG2NTZSVqwHQTWkx9hxjkpWDaCg6Ckj5qebgBVbT3V3NNXMSiWSDdGV3hrtzla7J+duwPOToIg42ChPQOQjspnSlp1V+Gjdged7+8UN5CRAV7a5EdFNwCjEaBR27b3W890TE7g24NAP/mMDXRWrGoFPQI9ls/MWO2dWFAar/xcOIImbbpA3zgAAAABJRU5ErkJggg==);\n",
       "        }\n",
       "    </style>\n",
       "    <div>\n",
       "        <a href=\"https://bokeh.org\" target=\"_blank\" class=\"bk-notebook-logo\"></a>\n",
       "        <span id=\"e6f6b42b-62d0-4ecc-a4f0-1d1c1109760c\">Loading BokehJS ...</span>\n",
       "    </div>\n"
      ]
     },
     "metadata": {},
     "output_type": "display_data"
    },
    {
     "data": {
      "application/javascript": [
       "'use strict';\n",
       "(function(root) {\n",
       "  function now() {\n",
       "    return new Date();\n",
       "  }\n",
       "\n",
       "  const force = true;\n",
       "\n",
       "  if (typeof root._bokeh_onload_callbacks === \"undefined\" || force === true) {\n",
       "    root._bokeh_onload_callbacks = [];\n",
       "    root._bokeh_is_loading = undefined;\n",
       "  }\n",
       "\n",
       "const JS_MIME_TYPE = 'application/javascript';\n",
       "  const HTML_MIME_TYPE = 'text/html';\n",
       "  const EXEC_MIME_TYPE = 'application/vnd.bokehjs_exec.v0+json';\n",
       "  const CLASS_NAME = 'output_bokeh rendered_html';\n",
       "\n",
       "  /**\n",
       "   * Render data to the DOM node\n",
       "   */\n",
       "  function render(props, node) {\n",
       "    const script = document.createElement(\"script\");\n",
       "    node.appendChild(script);\n",
       "  }\n",
       "\n",
       "  /**\n",
       "   * Handle when an output is cleared or removed\n",
       "   */\n",
       "  function handleClearOutput(event, handle) {\n",
       "    function drop(id) {\n",
       "      const view = Bokeh.index.get_by_id(id)\n",
       "      if (view != null) {\n",
       "        view.model.document.clear()\n",
       "        Bokeh.index.delete(view)\n",
       "      }\n",
       "    }\n",
       "\n",
       "    const cell = handle.cell;\n",
       "\n",
       "    const id = cell.output_area._bokeh_element_id;\n",
       "    const server_id = cell.output_area._bokeh_server_id;\n",
       "\n",
       "    // Clean up Bokeh references\n",
       "    if (id != null) {\n",
       "      drop(id)\n",
       "    }\n",
       "\n",
       "    if (server_id !== undefined) {\n",
       "      // Clean up Bokeh references\n",
       "      const cmd_clean = \"from bokeh.io.state import curstate; print(curstate().uuid_to_server['\" + server_id + \"'].get_sessions()[0].document.roots[0]._id)\";\n",
       "      cell.notebook.kernel.execute(cmd_clean, {\n",
       "        iopub: {\n",
       "          output: function(msg) {\n",
       "            const id = msg.content.text.trim()\n",
       "            drop(id)\n",
       "          }\n",
       "        }\n",
       "      });\n",
       "      // Destroy server and session\n",
       "      const cmd_destroy = \"import bokeh.io.notebook as ion; ion.destroy_server('\" + server_id + \"')\";\n",
       "      cell.notebook.kernel.execute(cmd_destroy);\n",
       "    }\n",
       "  }\n",
       "\n",
       "  /**\n",
       "   * Handle when a new output is added\n",
       "   */\n",
       "  function handleAddOutput(event, handle) {\n",
       "    const output_area = handle.output_area;\n",
       "    const output = handle.output;\n",
       "\n",
       "    // limit handleAddOutput to display_data with EXEC_MIME_TYPE content only\n",
       "    if ((output.output_type != \"display_data\") || (!Object.prototype.hasOwnProperty.call(output.data, EXEC_MIME_TYPE))) {\n",
       "      return\n",
       "    }\n",
       "\n",
       "    const toinsert = output_area.element.find(\".\" + CLASS_NAME.split(' ')[0]);\n",
       "\n",
       "    if (output.metadata[EXEC_MIME_TYPE][\"id\"] !== undefined) {\n",
       "      toinsert[toinsert.length - 1].firstChild.textContent = output.data[JS_MIME_TYPE];\n",
       "      // store reference to embed id on output_area\n",
       "      output_area._bokeh_element_id = output.metadata[EXEC_MIME_TYPE][\"id\"];\n",
       "    }\n",
       "    if (output.metadata[EXEC_MIME_TYPE][\"server_id\"] !== undefined) {\n",
       "      const bk_div = document.createElement(\"div\");\n",
       "      bk_div.innerHTML = output.data[HTML_MIME_TYPE];\n",
       "      const script_attrs = bk_div.children[0].attributes;\n",
       "      for (let i = 0; i < script_attrs.length; i++) {\n",
       "        toinsert[toinsert.length - 1].firstChild.setAttribute(script_attrs[i].name, script_attrs[i].value);\n",
       "        toinsert[toinsert.length - 1].firstChild.textContent = bk_div.children[0].textContent\n",
       "      }\n",
       "      // store reference to server id on output_area\n",
       "      output_area._bokeh_server_id = output.metadata[EXEC_MIME_TYPE][\"server_id\"];\n",
       "    }\n",
       "  }\n",
       "\n",
       "  function register_renderer(events, OutputArea) {\n",
       "\n",
       "    function append_mime(data, metadata, element) {\n",
       "      // create a DOM node to render to\n",
       "      const toinsert = this.create_output_subarea(\n",
       "        metadata,\n",
       "        CLASS_NAME,\n",
       "        EXEC_MIME_TYPE\n",
       "      );\n",
       "      this.keyboard_manager.register_events(toinsert);\n",
       "      // Render to node\n",
       "      const props = {data: data, metadata: metadata[EXEC_MIME_TYPE]};\n",
       "      render(props, toinsert[toinsert.length - 1]);\n",
       "      element.append(toinsert);\n",
       "      return toinsert\n",
       "    }\n",
       "\n",
       "    /* Handle when an output is cleared or removed */\n",
       "    events.on('clear_output.CodeCell', handleClearOutput);\n",
       "    events.on('delete.Cell', handleClearOutput);\n",
       "\n",
       "    /* Handle when a new output is added */\n",
       "    events.on('output_added.OutputArea', handleAddOutput);\n",
       "\n",
       "    /**\n",
       "     * Register the mime type and append_mime function with output_area\n",
       "     */\n",
       "    OutputArea.prototype.register_mime_type(EXEC_MIME_TYPE, append_mime, {\n",
       "      /* Is output safe? */\n",
       "      safe: true,\n",
       "      /* Index of renderer in `output_area.display_order` */\n",
       "      index: 0\n",
       "    });\n",
       "  }\n",
       "\n",
       "  // register the mime type if in Jupyter Notebook environment and previously unregistered\n",
       "  if (root.Jupyter !== undefined) {\n",
       "    const events = require('base/js/events');\n",
       "    const OutputArea = require('notebook/js/outputarea').OutputArea;\n",
       "\n",
       "    if (OutputArea.prototype.mime_types().indexOf(EXEC_MIME_TYPE) == -1) {\n",
       "      register_renderer(events, OutputArea);\n",
       "    }\n",
       "  }\n",
       "  if (typeof (root._bokeh_timeout) === \"undefined\" || force === true) {\n",
       "    root._bokeh_timeout = Date.now() + 5000;\n",
       "    root._bokeh_failed_load = false;\n",
       "  }\n",
       "\n",
       "  const NB_LOAD_WARNING = {'data': {'text/html':\n",
       "     \"<div style='background-color: #fdd'>\\n\"+\n",
       "     \"<p>\\n\"+\n",
       "     \"BokehJS does not appear to have successfully loaded. If loading BokehJS from CDN, this \\n\"+\n",
       "     \"may be due to a slow or bad network connection. Possible fixes:\\n\"+\n",
       "     \"</p>\\n\"+\n",
       "     \"<ul>\\n\"+\n",
       "     \"<li>re-rerun `output_notebook()` to attempt to load from CDN again, or</li>\\n\"+\n",
       "     \"<li>use INLINE resources instead, as so:</li>\\n\"+\n",
       "     \"</ul>\\n\"+\n",
       "     \"<code>\\n\"+\n",
       "     \"from bokeh.resources import INLINE\\n\"+\n",
       "     \"output_notebook(resources=INLINE)\\n\"+\n",
       "     \"</code>\\n\"+\n",
       "     \"</div>\"}};\n",
       "\n",
       "  function display_loaded(error = null) {\n",
       "    const el = document.getElementById(\"e6f6b42b-62d0-4ecc-a4f0-1d1c1109760c\");\n",
       "    if (el != null) {\n",
       "      const html = (() => {\n",
       "        if (typeof root.Bokeh === \"undefined\") {\n",
       "          if (error == null) {\n",
       "            return \"BokehJS is loading ...\";\n",
       "          } else {\n",
       "            return \"BokehJS failed to load.\";\n",
       "          }\n",
       "        } else {\n",
       "          const prefix = `BokehJS ${root.Bokeh.version}`;\n",
       "          if (error == null) {\n",
       "            return `${prefix} successfully loaded.`;\n",
       "          } else {\n",
       "            return `${prefix} <b>encountered errors</b> while loading and may not function as expected.`;\n",
       "          }\n",
       "        }\n",
       "      })();\n",
       "      el.innerHTML = html;\n",
       "\n",
       "      if (error != null) {\n",
       "        const wrapper = document.createElement(\"div\");\n",
       "        wrapper.style.overflow = \"auto\";\n",
       "        wrapper.style.height = \"5em\";\n",
       "        wrapper.style.resize = \"vertical\";\n",
       "        const content = document.createElement(\"div\");\n",
       "        content.style.fontFamily = \"monospace\";\n",
       "        content.style.whiteSpace = \"pre-wrap\";\n",
       "        content.style.backgroundColor = \"rgb(255, 221, 221)\";\n",
       "        content.textContent = error.stack ?? error.toString();\n",
       "        wrapper.append(content);\n",
       "        el.append(wrapper);\n",
       "      }\n",
       "    } else if (Date.now() < root._bokeh_timeout) {\n",
       "      setTimeout(() => display_loaded(error), 100);\n",
       "    }\n",
       "  }\n",
       "\n",
       "  function run_callbacks() {\n",
       "    try {\n",
       "      root._bokeh_onload_callbacks.forEach(function(callback) {\n",
       "        if (callback != null)\n",
       "          callback();\n",
       "      });\n",
       "    } finally {\n",
       "      delete root._bokeh_onload_callbacks\n",
       "    }\n",
       "    console.debug(\"Bokeh: all callbacks have finished\");\n",
       "  }\n",
       "\n",
       "  function load_libs(css_urls, js_urls, callback) {\n",
       "    if (css_urls == null) css_urls = [];\n",
       "    if (js_urls == null) js_urls = [];\n",
       "\n",
       "    root._bokeh_onload_callbacks.push(callback);\n",
       "    if (root._bokeh_is_loading > 0) {\n",
       "      console.debug(\"Bokeh: BokehJS is being loaded, scheduling callback at\", now());\n",
       "      return null;\n",
       "    }\n",
       "    if (js_urls == null || js_urls.length === 0) {\n",
       "      run_callbacks();\n",
       "      return null;\n",
       "    }\n",
       "    console.debug(\"Bokeh: BokehJS not loaded, scheduling load and callback at\", now());\n",
       "    root._bokeh_is_loading = css_urls.length + js_urls.length;\n",
       "\n",
       "    function on_load() {\n",
       "      root._bokeh_is_loading--;\n",
       "      if (root._bokeh_is_loading === 0) {\n",
       "        console.debug(\"Bokeh: all BokehJS libraries/stylesheets loaded\");\n",
       "        run_callbacks()\n",
       "      }\n",
       "    }\n",
       "\n",
       "    function on_error(url) {\n",
       "      console.error(\"failed to load \" + url);\n",
       "    }\n",
       "\n",
       "    for (let i = 0; i < css_urls.length; i++) {\n",
       "      const url = css_urls[i];\n",
       "      const element = document.createElement(\"link\");\n",
       "      element.onload = on_load;\n",
       "      element.onerror = on_error.bind(null, url);\n",
       "      element.rel = \"stylesheet\";\n",
       "      element.type = \"text/css\";\n",
       "      element.href = url;\n",
       "      console.debug(\"Bokeh: injecting link tag for BokehJS stylesheet: \", url);\n",
       "      document.body.appendChild(element);\n",
       "    }\n",
       "\n",
       "    for (let i = 0; i < js_urls.length; i++) {\n",
       "      const url = js_urls[i];\n",
       "      const element = document.createElement('script');\n",
       "      element.onload = on_load;\n",
       "      element.onerror = on_error.bind(null, url);\n",
       "      element.async = false;\n",
       "      element.src = url;\n",
       "      console.debug(\"Bokeh: injecting script tag for BokehJS library: \", url);\n",
       "      document.head.appendChild(element);\n",
       "    }\n",
       "  };\n",
       "\n",
       "  function inject_raw_css(css) {\n",
       "    const element = document.createElement(\"style\");\n",
       "    element.appendChild(document.createTextNode(css));\n",
       "    document.body.appendChild(element);\n",
       "  }\n",
       "\n",
       "  const js_urls = [\"https://cdn.bokeh.org/bokeh/release/bokeh-3.4.1.min.js\", \"https://cdn.bokeh.org/bokeh/release/bokeh-gl-3.4.1.min.js\", \"https://cdn.bokeh.org/bokeh/release/bokeh-widgets-3.4.1.min.js\", \"https://cdn.bokeh.org/bokeh/release/bokeh-tables-3.4.1.min.js\", \"https://cdn.bokeh.org/bokeh/release/bokeh-mathjax-3.4.1.min.js\"];\n",
       "  const css_urls = [];\n",
       "\n",
       "  const inline_js = [    function(Bokeh) {\n",
       "      Bokeh.set_log_level(\"info\");\n",
       "    },\n",
       "function(Bokeh) {\n",
       "    }\n",
       "  ];\n",
       "\n",
       "  function run_inline_js() {\n",
       "    if (root.Bokeh !== undefined || force === true) {\n",
       "      try {\n",
       "            for (let i = 0; i < inline_js.length; i++) {\n",
       "      inline_js[i].call(root, root.Bokeh);\n",
       "    }\n",
       "\n",
       "      } catch (error) {display_loaded(error);throw error;\n",
       "      }if (force === true) {\n",
       "        display_loaded();\n",
       "      }} else if (Date.now() < root._bokeh_timeout) {\n",
       "      setTimeout(run_inline_js, 100);\n",
       "    } else if (!root._bokeh_failed_load) {\n",
       "      console.log(\"Bokeh: BokehJS failed to load within specified timeout.\");\n",
       "      root._bokeh_failed_load = true;\n",
       "    } else if (force !== true) {\n",
       "      const cell = $(document.getElementById(\"e6f6b42b-62d0-4ecc-a4f0-1d1c1109760c\")).parents('.cell').data().cell;\n",
       "      cell.output_area.append_execute_result(NB_LOAD_WARNING)\n",
       "    }\n",
       "  }\n",
       "\n",
       "  if (root._bokeh_is_loading === 0) {\n",
       "    console.debug(\"Bokeh: BokehJS loaded, going straight to plotting\");\n",
       "    run_inline_js();\n",
       "  } else {\n",
       "    load_libs(css_urls, js_urls, function() {\n",
       "      console.debug(\"Bokeh: BokehJS plotting callback run at\", now());\n",
       "      run_inline_js();\n",
       "    });\n",
       "  }\n",
       "}(window));"
      ],
      "application/vnd.bokehjs_load.v0+json": "'use strict';\n(function(root) {\n  function now() {\n    return new Date();\n  }\n\n  const force = true;\n\n  if (typeof root._bokeh_onload_callbacks === \"undefined\" || force === true) {\n    root._bokeh_onload_callbacks = [];\n    root._bokeh_is_loading = undefined;\n  }\n\n\n  if (typeof (root._bokeh_timeout) === \"undefined\" || force === true) {\n    root._bokeh_timeout = Date.now() + 5000;\n    root._bokeh_failed_load = false;\n  }\n\n  const NB_LOAD_WARNING = {'data': {'text/html':\n     \"<div style='background-color: #fdd'>\\n\"+\n     \"<p>\\n\"+\n     \"BokehJS does not appear to have successfully loaded. If loading BokehJS from CDN, this \\n\"+\n     \"may be due to a slow or bad network connection. Possible fixes:\\n\"+\n     \"</p>\\n\"+\n     \"<ul>\\n\"+\n     \"<li>re-rerun `output_notebook()` to attempt to load from CDN again, or</li>\\n\"+\n     \"<li>use INLINE resources instead, as so:</li>\\n\"+\n     \"</ul>\\n\"+\n     \"<code>\\n\"+\n     \"from bokeh.resources import INLINE\\n\"+\n     \"output_notebook(resources=INLINE)\\n\"+\n     \"</code>\\n\"+\n     \"</div>\"}};\n\n  function display_loaded(error = null) {\n    const el = document.getElementById(\"e6f6b42b-62d0-4ecc-a4f0-1d1c1109760c\");\n    if (el != null) {\n      const html = (() => {\n        if (typeof root.Bokeh === \"undefined\") {\n          if (error == null) {\n            return \"BokehJS is loading ...\";\n          } else {\n            return \"BokehJS failed to load.\";\n          }\n        } else {\n          const prefix = `BokehJS ${root.Bokeh.version}`;\n          if (error == null) {\n            return `${prefix} successfully loaded.`;\n          } else {\n            return `${prefix} <b>encountered errors</b> while loading and may not function as expected.`;\n          }\n        }\n      })();\n      el.innerHTML = html;\n\n      if (error != null) {\n        const wrapper = document.createElement(\"div\");\n        wrapper.style.overflow = \"auto\";\n        wrapper.style.height = \"5em\";\n        wrapper.style.resize = \"vertical\";\n        const content = document.createElement(\"div\");\n        content.style.fontFamily = \"monospace\";\n        content.style.whiteSpace = \"pre-wrap\";\n        content.style.backgroundColor = \"rgb(255, 221, 221)\";\n        content.textContent = error.stack ?? error.toString();\n        wrapper.append(content);\n        el.append(wrapper);\n      }\n    } else if (Date.now() < root._bokeh_timeout) {\n      setTimeout(() => display_loaded(error), 100);\n    }\n  }\n\n  function run_callbacks() {\n    try {\n      root._bokeh_onload_callbacks.forEach(function(callback) {\n        if (callback != null)\n          callback();\n      });\n    } finally {\n      delete root._bokeh_onload_callbacks\n    }\n    console.debug(\"Bokeh: all callbacks have finished\");\n  }\n\n  function load_libs(css_urls, js_urls, callback) {\n    if (css_urls == null) css_urls = [];\n    if (js_urls == null) js_urls = [];\n\n    root._bokeh_onload_callbacks.push(callback);\n    if (root._bokeh_is_loading > 0) {\n      console.debug(\"Bokeh: BokehJS is being loaded, scheduling callback at\", now());\n      return null;\n    }\n    if (js_urls == null || js_urls.length === 0) {\n      run_callbacks();\n      return null;\n    }\n    console.debug(\"Bokeh: BokehJS not loaded, scheduling load and callback at\", now());\n    root._bokeh_is_loading = css_urls.length + js_urls.length;\n\n    function on_load() {\n      root._bokeh_is_loading--;\n      if (root._bokeh_is_loading === 0) {\n        console.debug(\"Bokeh: all BokehJS libraries/stylesheets loaded\");\n        run_callbacks()\n      }\n    }\n\n    function on_error(url) {\n      console.error(\"failed to load \" + url);\n    }\n\n    for (let i = 0; i < css_urls.length; i++) {\n      const url = css_urls[i];\n      const element = document.createElement(\"link\");\n      element.onload = on_load;\n      element.onerror = on_error.bind(null, url);\n      element.rel = \"stylesheet\";\n      element.type = \"text/css\";\n      element.href = url;\n      console.debug(\"Bokeh: injecting link tag for BokehJS stylesheet: \", url);\n      document.body.appendChild(element);\n    }\n\n    for (let i = 0; i < js_urls.length; i++) {\n      const url = js_urls[i];\n      const element = document.createElement('script');\n      element.onload = on_load;\n      element.onerror = on_error.bind(null, url);\n      element.async = false;\n      element.src = url;\n      console.debug(\"Bokeh: injecting script tag for BokehJS library: \", url);\n      document.head.appendChild(element);\n    }\n  };\n\n  function inject_raw_css(css) {\n    const element = document.createElement(\"style\");\n    element.appendChild(document.createTextNode(css));\n    document.body.appendChild(element);\n  }\n\n  const js_urls = [\"https://cdn.bokeh.org/bokeh/release/bokeh-3.4.1.min.js\", \"https://cdn.bokeh.org/bokeh/release/bokeh-gl-3.4.1.min.js\", \"https://cdn.bokeh.org/bokeh/release/bokeh-widgets-3.4.1.min.js\", \"https://cdn.bokeh.org/bokeh/release/bokeh-tables-3.4.1.min.js\", \"https://cdn.bokeh.org/bokeh/release/bokeh-mathjax-3.4.1.min.js\"];\n  const css_urls = [];\n\n  const inline_js = [    function(Bokeh) {\n      Bokeh.set_log_level(\"info\");\n    },\nfunction(Bokeh) {\n    }\n  ];\n\n  function run_inline_js() {\n    if (root.Bokeh !== undefined || force === true) {\n      try {\n            for (let i = 0; i < inline_js.length; i++) {\n      inline_js[i].call(root, root.Bokeh);\n    }\n\n      } catch (error) {display_loaded(error);throw error;\n      }if (force === true) {\n        display_loaded();\n      }} else if (Date.now() < root._bokeh_timeout) {\n      setTimeout(run_inline_js, 100);\n    } else if (!root._bokeh_failed_load) {\n      console.log(\"Bokeh: BokehJS failed to load within specified timeout.\");\n      root._bokeh_failed_load = true;\n    } else if (force !== true) {\n      const cell = $(document.getElementById(\"e6f6b42b-62d0-4ecc-a4f0-1d1c1109760c\")).parents('.cell').data().cell;\n      cell.output_area.append_execute_result(NB_LOAD_WARNING)\n    }\n  }\n\n  if (root._bokeh_is_loading === 0) {\n    console.debug(\"Bokeh: BokehJS loaded, going straight to plotting\");\n    run_inline_js();\n  } else {\n    load_libs(css_urls, js_urls, function() {\n      console.debug(\"Bokeh: BokehJS plotting callback run at\", now());\n      run_inline_js();\n    });\n  }\n}(window));"
     },
     "metadata": {},
     "output_type": "display_data"
    }
   ],
   "source": [
    "output_notebook()"
   ]
  },
  {
   "cell_type": "markdown",
   "metadata": {},
   "source": [
    "`q` is a 101 $\\times$ 1 vector that contains a grid, {0.0, 0.01, $\\ldots$, 1.0}. The first number in `linspace(0.0, 1.0, 101)` is the starting point, the second is the end point, and the third is the number of grid points."
   ]
  },
  {
   "cell_type": "code",
   "execution_count": 5,
   "metadata": {},
   "outputs": [],
   "source": [
    "q = np.linspace(0.0, 1.0, 101)"
   ]
  },
  {
   "cell_type": "markdown",
   "metadata": {},
   "source": [
    "`print` shows the content of `q`."
   ]
  },
  {
   "cell_type": "code",
   "execution_count": 6,
   "metadata": {},
   "outputs": [
    {
     "name": "stdout",
     "output_type": "stream",
     "text": [
      "[0.   0.01 0.02 0.03 0.04 0.05 0.06 0.07 0.08 0.09 0.1  0.11 0.12 0.13\n",
      " 0.14 0.15 0.16 0.17 0.18 0.19 0.2  0.21 0.22 0.23 0.24 0.25 0.26 0.27\n",
      " 0.28 0.29 0.3  0.31 0.32 0.33 0.34 0.35 0.36 0.37 0.38 0.39 0.4  0.41\n",
      " 0.42 0.43 0.44 0.45 0.46 0.47 0.48 0.49 0.5  0.51 0.52 0.53 0.54 0.55\n",
      " 0.56 0.57 0.58 0.59 0.6  0.61 0.62 0.63 0.64 0.65 0.66 0.67 0.68 0.69\n",
      " 0.7  0.71 0.72 0.73 0.74 0.75 0.76 0.77 0.78 0.79 0.8  0.81 0.82 0.83\n",
      " 0.84 0.85 0.86 0.87 0.88 0.89 0.9  0.91 0.92 0.93 0.94 0.95 0.96 0.97\n",
      " 0.98 0.99 1.  ]\n"
     ]
    }
   ],
   "source": [
    "print(q)"
   ]
  },
  {
   "cell_type": "markdown",
   "metadata": {},
   "source": [
    "`x` is the data set."
   ]
  },
  {
   "cell_type": "code",
   "execution_count": 7,
   "metadata": {},
   "outputs": [],
   "source": [
    "x = np.array([1, 0, 1, 1, 1])"
   ]
  },
  {
   "cell_type": "markdown",
   "metadata": {},
   "source": [
    "`def` is used to define a new function. In the following cell, the likelihood function of a Bernoulli distribution is defined."
   ]
  },
  {
   "cell_type": "code",
   "execution_count": 8,
   "metadata": {},
   "outputs": [],
   "source": [
    "def bernoulli_likelihood(x, q):\n",
    "    n = len(x)\n",
    "    y = np.sum(x)\n",
    "    return q ** y * (1.0 - q) ** (n - y)"
   ]
  },
  {
   "cell_type": "markdown",
   "metadata": {},
   "source": [
    "The following cell creates a graph of the likelihood."
   ]
  },
  {
   "cell_type": "code",
   "execution_count": 9,
   "metadata": {
    "tags": []
   },
   "outputs": [
    {
     "data": {
      "text/html": [
       "\n",
       "  <div id=\"dd9445f0-c543-4c4c-8cea-8e3ac4243c9e\" data-root-id=\"p1005\" style=\"display: contents;\"></div>\n"
      ]
     },
     "metadata": {},
     "output_type": "display_data"
    },
    {
     "data": {
      "application/javascript": [
       "(function(root) {\n",
       "  function embed_document(root) {\n",
       "  const docs_json = {\"1c17bcaf-315a-405d-ab73-065ce88c293a\":{\"version\":\"3.4.1\",\"title\":\"Bokeh Application\",\"roots\":[{\"type\":\"object\",\"name\":\"Figure\",\"id\":\"p1005\",\"attributes\":{\"width\":400,\"height\":300,\"x_range\":{\"type\":\"object\",\"name\":\"Range1d\",\"id\":\"p1015\"},\"y_range\":{\"type\":\"object\",\"name\":\"Range1d\",\"id\":\"p1016\",\"attributes\":{\"end\":0.1}},\"x_scale\":{\"type\":\"object\",\"name\":\"LinearScale\",\"id\":\"p1017\"},\"y_scale\":{\"type\":\"object\",\"name\":\"LinearScale\",\"id\":\"p1018\"},\"title\":{\"type\":\"object\",\"name\":\"Title\",\"id\":\"p1008\",\"attributes\":{\"text\":\"Likelihood (Bernoulli Distribution)\"}},\"outline_line_color\":null,\"renderers\":[{\"type\":\"object\",\"name\":\"GlyphRenderer\",\"id\":\"p1035\",\"attributes\":{\"data_source\":{\"type\":\"object\",\"name\":\"ColumnDataSource\",\"id\":\"p1001\",\"attributes\":{\"selected\":{\"type\":\"object\",\"name\":\"Selection\",\"id\":\"p1002\",\"attributes\":{\"indices\":[],\"line_indices\":[]}},\"selection_policy\":{\"type\":\"object\",\"name\":\"UnionRenderers\",\"id\":\"p1003\"},\"data\":{\"type\":\"map\",\"entries\":[[\"q\",{\"type\":\"ndarray\",\"array\":{\"type\":\"bytes\",\"data\":\"AAAAAAAAAAB7FK5H4XqEP3sUrkfhepQ/uB6F61G4nj97FK5H4XqkP5qZmZmZmak/uB6F61G4rj/sUbgeheuxP3sUrkfherQ/CtejcD0Ktz+amZmZmZm5Pylcj8L1KLw/uB6F61G4vj+kcD0K16PAP+xRuB6F68E/MzMzMzMzwz97FK5H4XrEP8P1KFyPwsU/CtejcD0Kxz9SuB6F61HIP5qZmZmZmck/4XoUrkfhyj8pXI/C9SjMP3E9CtejcM0/uB6F61G4zj8AAAAAAADQP6RwPQrXo9A/SOF6FK5H0T/sUbgehevRP4/C9Shcj9I/MzMzMzMz0z/Xo3A9CtfTP3sUrkfhetQ/H4XrUbge1T/D9Shcj8LVP2dmZmZmZtY/CtejcD0K1z+uR+F6FK7XP1K4HoXrUdg/9ihcj8L12D+amZmZmZnZPz4K16NwPdo/4XoUrkfh2j+F61G4HoXbPylcj8L1KNw/zczMzMzM3D9xPQrXo3DdPxWuR+F6FN4/uB6F61G43j9cj8L1KFzfPwAAAAAAAOA/UrgehetR4D+kcD0K16PgP/YoXI/C9eA/SOF6FK5H4T+amZmZmZnhP+xRuB6F6+E/PgrXo3A94j+PwvUoXI/iP+F6FK5H4eI/MzMzMzMz4z+F61G4HoXjP9ejcD0K1+M/KVyPwvUo5D97FK5H4XrkP83MzMzMzOQ/H4XrUbge5T9xPQrXo3DlP8P1KFyPwuU/Fa5H4XoU5j9nZmZmZmbmP7gehetRuOY/CtejcD0K5z9cj8L1KFznP65H4XoUruc/AAAAAAAA6D9SuB6F61HoP6RwPQrXo+g/9ihcj8L16D9I4XoUrkfpP5qZmZmZmek/7FG4HoXr6T8+CtejcD3qP5DC9Shcj+o/4XoUrkfh6j8zMzMzMzPrP4XrUbgehes/16NwPQrX6z8pXI/C9SjsP3sUrkfheuw/zczMzMzM7D8fhetRuB7tP3E9CtejcO0/w/UoXI/C7T8VrkfhehTuP2dmZmZmZu4/uB6F61G47j8K16NwPQrvP1yPwvUoXO8/rkfhehSu7z8AAAAAAADwPw==\"},\"shape\":[101],\"dtype\":\"float64\",\"order\":\"little\"}],[\"l\",{\"type\":\"ndarray\",\"array\":{\"type\":\"bytes\",\"data\":\"AAAAAAAAAAC+3HwilUJFPkMtyWKbC4U+LzNnkhxdqj5MzmHjp53EPp8MjpJX59g+5vSITmCM6T6tcdfP+Wn3Pl8Qk+TAwQM/IA+AnXtNDz8Q1v85zJcXP5iRaZFOFCE/VXjMxufqJz8qjO160EgwP/O4wfzQpjU/3c1THXIzPD+ClPXm8glCP2ThQNkvt0Y/pDrQy/A0TD8J0Q76gUtRP/Jo44i1+FQ/RLC91CAsWT9BcvWf0e9dPwDGLGXkpmE/Mn9Tt/anZD8AAAAAAABoP3OHsbPGs2s/TQGREPHHbz9+R5ZWfyByPz2ImQOhkXQ/ttYXCW05dz/oriLj1Rl6P5Y5ddetNH0/Vghp3tFFgD/ggTDhHxCCP0Vuhhvw+YM/rJFwKNsDhj/L8TN6YS6IPxm4A77peYo/EhSwP7/mjD9qHVVNEHWPPyzbhE12EpE/4TZH0yF7kj/HMH6NcfSTP2MQOpo6fpU/8kbmkT8Ylz+G4CC5L8KYPyP1kTKme5o/2RnDMClEnD/00fYnKRuePwAAAAAAAKA/fKsMI/j4oD+yZV4vEvihPzeCvdvW/KI/hWZp/MEGpD+GQgQcQhWlPyjJfhS4J6Y/5ugDqHY9pz9XhOQZwlWoP88qg8fPb6k/0NA/wcWKqj+tiGNjuqWrPxc7DO+zv6w/qF8YI6jXrT9ytRLVe+yuP5X7HYoC/a8/4VTwB/+DsD9rVLgKDwaxP7KFH+L/g7E/IeOBrBb9sT+OtFTejnCyP39rnA6a3bI/d39iw19Dsz81Sis+/aCzPwXka0iF9bM/AAAAAABAtD9WyJ+jan+0P5e6VV+3srQ//IP0GM3YtD+m3Yw8h/C0P/Bo44i1+LQ/tIvm2xvwtD+LTCT/cdW0Px8vQHRjp7Q/bBBpQY9ktD8IA8+9hwu0P24rGV7SmrM/Q5zbgOcQsz+eMg07MmyyP01yfSQQq7E/I2JKJNHLsD900Kx6bpmvP3RMfLXsV60/TqucOGjPqj8/SPNFD/ynP1ofnbry2aQ/FIbapwVloT9ex/XXOTKbPxHUkJbd45I/8jfPI0qsgz8AAAAAAAAAAA==\"},\"shape\":[101],\"dtype\":\"float64\",\"order\":\"little\"}]]}}},\"view\":{\"type\":\"object\",\"name\":\"CDSView\",\"id\":\"p1036\",\"attributes\":{\"filter\":{\"type\":\"object\",\"name\":\"AllIndices\",\"id\":\"p1037\"}}},\"glyph\":{\"type\":\"object\",\"name\":\"Line\",\"id\":\"p1032\",\"attributes\":{\"x\":{\"type\":\"field\",\"field\":\"q\"},\"y\":{\"type\":\"field\",\"field\":\"l\"},\"line_color\":\"navy\",\"line_width\":2}},\"nonselection_glyph\":{\"type\":\"object\",\"name\":\"Line\",\"id\":\"p1033\",\"attributes\":{\"x\":{\"type\":\"field\",\"field\":\"q\"},\"y\":{\"type\":\"field\",\"field\":\"l\"},\"line_color\":\"navy\",\"line_alpha\":0.1,\"line_width\":2}},\"muted_glyph\":{\"type\":\"object\",\"name\":\"Line\",\"id\":\"p1034\",\"attributes\":{\"x\":{\"type\":\"field\",\"field\":\"q\"},\"y\":{\"type\":\"field\",\"field\":\"l\"},\"line_color\":\"navy\",\"line_alpha\":0.2,\"line_width\":2}}}}],\"toolbar\":{\"type\":\"object\",\"name\":\"Toolbar\",\"id\":\"p1014\",\"attributes\":{\"tools\":[{\"type\":\"object\",\"name\":\"HoverTool\",\"id\":\"p1004\",\"attributes\":{\"renderers\":\"auto\",\"tooltips\":[[\"\\u03b8\",\"@q{0.0000}\"],[\"likelihood\",\"@l{0.0000}\"]]}}]}},\"toolbar_location\":null,\"left\":[{\"type\":\"object\",\"name\":\"LinearAxis\",\"id\":\"p1024\",\"attributes\":{\"ticker\":{\"type\":\"object\",\"name\":\"BasicTicker\",\"id\":\"p1025\",\"attributes\":{\"mantissas\":[1,2,5]}},\"formatter\":{\"type\":\"object\",\"name\":\"BasicTickFormatter\",\"id\":\"p1026\"},\"axis_label\":\"Likelihood\",\"major_label_policy\":{\"type\":\"object\",\"name\":\"AllLabels\",\"id\":\"p1027\"}}}],\"below\":[{\"type\":\"object\",\"name\":\"LinearAxis\",\"id\":\"p1019\",\"attributes\":{\"ticker\":{\"type\":\"object\",\"name\":\"BasicTicker\",\"id\":\"p1020\",\"attributes\":{\"mantissas\":[1,2,5]}},\"formatter\":{\"type\":\"object\",\"name\":\"BasicTickFormatter\",\"id\":\"p1021\"},\"axis_label\":\"$$\\\\theta$$\",\"major_label_policy\":{\"type\":\"object\",\"name\":\"AllLabels\",\"id\":\"p1022\"}}}],\"center\":[{\"type\":\"object\",\"name\":\"Grid\",\"id\":\"p1023\",\"attributes\":{\"axis\":{\"id\":\"p1019\"},\"grid_line_color\":null}},{\"type\":\"object\",\"name\":\"Grid\",\"id\":\"p1028\",\"attributes\":{\"dimension\":1,\"axis\":{\"id\":\"p1024\"},\"grid_line_color\":null}}]}}]}};\n",
       "  const render_items = [{\"docid\":\"1c17bcaf-315a-405d-ab73-065ce88c293a\",\"roots\":{\"p1005\":\"dd9445f0-c543-4c4c-8cea-8e3ac4243c9e\"},\"root_ids\":[\"p1005\"]}];\n",
       "  void root.Bokeh.embed.embed_items_notebook(docs_json, render_items);\n",
       "  }\n",
       "  if (root.Bokeh !== undefined) {\n",
       "    embed_document(root);\n",
       "  } else {\n",
       "    let attempts = 0;\n",
       "    const timer = setInterval(function(root) {\n",
       "      if (root.Bokeh !== undefined) {\n",
       "        clearInterval(timer);\n",
       "        embed_document(root);\n",
       "      } else {\n",
       "        attempts++;\n",
       "        if (attempts > 100) {\n",
       "          clearInterval(timer);\n",
       "          console.log(\"Bokeh: ERROR: Unable to run BokehJS code because BokehJS library is missing\");\n",
       "        }\n",
       "      }\n",
       "    }, 10, root)\n",
       "  }\n",
       "})(window);"
      ],
      "application/vnd.bokehjs_exec.v0+json": ""
     },
     "metadata": {
      "application/vnd.bokehjs_exec.v0+json": {
       "id": "p1005"
      }
     },
     "output_type": "display_data"
    }
   ],
   "source": [
    "source = ColumnDataSource(\n",
    "    data=dict(\n",
    "        q = q,\n",
    "        l = bernoulli_likelihood(x, q)\n",
    "    )\n",
    ")\n",
    "hover = HoverTool(\n",
    "    tooltips=[\n",
    "        ('\\u03B8', '@q{0.0000}'), \n",
    "        ('likelihood', '@l{0.0000}')\n",
    "    ]\n",
    ")\n",
    "p = figure(width=400, height=300, x_range=(0, 1), y_range=(0, 0.1),\n",
    "           tools=[hover], toolbar_location=None, title='Likelihood (Bernoulli Distribution)')\n",
    "p.line('q', 'l', source=source, line_color='navy', line_width=2)\n",
    "p.xaxis.axis_label = r'$$\\theta$$'\n",
    "p.yaxis.axis_label = 'Likelihood'\n",
    "p.xgrid.grid_line_color = p.ygrid.grid_line_color = p.outline_line_color = None\n",
    "show(p)"
   ]
  },
  {
   "cell_type": "markdown",
   "metadata": {},
   "source": [
    "The following cell creates an interactive plot of the likelihood."
   ]
  },
  {
   "cell_type": "code",
   "execution_count": 10,
   "metadata": {},
   "outputs": [
    {
     "data": {
      "application/vnd.bokehjs_exec.v0+json": "",
      "text/html": [
       "<script id=\"d8462639-a6ce-41f7-b827-0a430498c689\">\n",
       "  (function() {\n",
       "    const xhr = new XMLHttpRequest()\n",
       "    xhr.responseType = 'blob';\n",
       "    xhr.open('GET', \"http://localhost:57881/autoload.js?bokeh-autoload-element=d8462639-a6ce-41f7-b827-0a430498c689&bokeh-absolute-url=http://localhost:57881&resources=none\", true);\n",
       "    xhr.onload = function (event) {\n",
       "      const script = document.createElement('script');\n",
       "      const src = URL.createObjectURL(event.target.response);\n",
       "      script.src = src;\n",
       "      document.body.appendChild(script);\n",
       "    };\n",
       "    xhr.send();\n",
       "  })();\n",
       "</script>"
      ]
     },
     "metadata": {
      "application/vnd.bokehjs_exec.v0+json": {
       "server_id": "3b579e14ca2a4cb8981114e0b7ed73c2"
      }
     },
     "output_type": "display_data"
    }
   ],
   "source": [
    "def bernoulli_likelihood_plot(doc):\n",
    "    rng = np.random.default_rng(seed=99)\n",
    "    samplesize = 500\n",
    "    prob0 = 0.8\n",
    "    slider_q = Slider(value=prob0, start=0.0, end=1.0, step=0.01, title=r'$$\\theta$$')\n",
    "    slider_n = Slider(value=20, start=1, end=samplesize, step=1, title='Sample size')\n",
    "    \n",
    "    x = np.linspace(0.0, 1.0, 1001)\n",
    "    q = slider_q.value\n",
    "    n = slider_n.value\n",
    "    source = ColumnDataSource(\n",
    "        data = dict(\n",
    "            x = x,\n",
    "            l = bernoulli_likelihood(st.bernoulli.rvs(q, size=n, random_state=rng), x)\n",
    "        )\n",
    "    )\n",
    "    hover = HoverTool(\n",
    "        tooltips=[\n",
    "            ('\\u03B8', '@x{0.0000}'), \n",
    "            ('likelihood', '@l')\n",
    "        ]\n",
    "    )\n",
    "    p = figure(width=400, height=300, x_range=(0, 1),\n",
    "               tools=[hover], toolbar_location=None, title='Likelihood (Bernoulli Distribution)')\n",
    "    p.line('x', 'l', source=source, line_color='navy', line_width=2)\n",
    "    p.xaxis.axis_label = r'$$\\theta$$'\n",
    "    p.yaxis.axis_label = 'Likelihood'\n",
    "    p.xgrid.grid_line_color = p.ygrid.grid_line_color = p.outline_line_color = None   \n",
    "\n",
    "    def update_likelihood(attr, old, new):\n",
    "        q = slider_q.value\n",
    "        n = slider_n.value\n",
    "        source.data['l'] = bernoulli_likelihood(st.bernoulli.rvs(q, size=n, random_state=rng), x)\n",
    "\n",
    "    for params in [slider_q, slider_n]:\n",
    "        params.on_change('value', update_likelihood)\n",
    "    \n",
    "    doc.add_root(column(row(slider_q, slider_n, width=400), p))\n",
    "\n",
    "# Your local jupyter server must be 'http://localhost:8888/'\n",
    "show(bernoulli_likelihood_plot)"
   ]
  },
  {
   "cell_type": "markdown",
   "metadata": {},
   "source": [
    "The following cell draws a plot to illustrate two kinds of prior distribution for the probability of sucess in the Bernoulli distribution."
   ]
  },
  {
   "cell_type": "code",
   "execution_count": 11,
   "metadata": {},
   "outputs": [
    {
     "data": {
      "text/html": [
       "\n",
       "  <div id=\"f31f9076-2f99-4e52-a706-da76ca121509\" data-root-id=\"p1044\" style=\"display: contents;\"></div>\n"
      ]
     },
     "metadata": {},
     "output_type": "display_data"
    },
    {
     "data": {
      "application/javascript": [
       "(function(root) {\n",
       "  function embed_document(root) {\n",
       "  const docs_json = {\"336ca376-31cb-49fd-9cf8-5b62449337fa\":{\"version\":\"3.4.1\",\"title\":\"Bokeh Application\",\"roots\":[{\"type\":\"object\",\"name\":\"Figure\",\"id\":\"p1044\",\"attributes\":{\"width\":400,\"height\":300,\"x_range\":{\"type\":\"object\",\"name\":\"Range1d\",\"id\":\"p1054\"},\"y_range\":{\"type\":\"object\",\"name\":\"Range1d\",\"id\":\"p1055\",\"attributes\":{\"end\":2.8}},\"x_scale\":{\"type\":\"object\",\"name\":\"LinearScale\",\"id\":\"p1056\"},\"y_scale\":{\"type\":\"object\",\"name\":\"LinearScale\",\"id\":\"p1057\"},\"title\":{\"type\":\"object\",\"name\":\"Title\",\"id\":\"p1047\",\"attributes\":{\"text\":\"Prior Distribution\"}},\"outline_line_color\":null,\"renderers\":[{\"type\":\"object\",\"name\":\"GlyphRenderer\",\"id\":\"p1074\",\"attributes\":{\"data_source\":{\"type\":\"object\",\"name\":\"ColumnDataSource\",\"id\":\"p1040\",\"attributes\":{\"selected\":{\"type\":\"object\",\"name\":\"Selection\",\"id\":\"p1041\",\"attributes\":{\"indices\":[],\"line_indices\":[]}},\"selection_policy\":{\"type\":\"object\",\"name\":\"UnionRenderers\",\"id\":\"p1042\"},\"data\":{\"type\":\"map\",\"entries\":[[\"q\",{\"type\":\"ndarray\",\"array\":{\"type\":\"bytes\",\"data\":\"AAAAAAAAAAB7FK5H4XqEP3sUrkfhepQ/uB6F61G4nj97FK5H4XqkP5qZmZmZmak/uB6F61G4rj/sUbgeheuxP3sUrkfherQ/CtejcD0Ktz+amZmZmZm5Pylcj8L1KLw/uB6F61G4vj+kcD0K16PAP+xRuB6F68E/MzMzMzMzwz97FK5H4XrEP8P1KFyPwsU/CtejcD0Kxz9SuB6F61HIP5qZmZmZmck/4XoUrkfhyj8pXI/C9SjMP3E9CtejcM0/uB6F61G4zj8AAAAAAADQP6RwPQrXo9A/SOF6FK5H0T/sUbgehevRP4/C9Shcj9I/MzMzMzMz0z/Xo3A9CtfTP3sUrkfhetQ/H4XrUbge1T/D9Shcj8LVP2dmZmZmZtY/CtejcD0K1z+uR+F6FK7XP1K4HoXrUdg/9ihcj8L12D+amZmZmZnZPz4K16NwPdo/4XoUrkfh2j+F61G4HoXbPylcj8L1KNw/zczMzMzM3D9xPQrXo3DdPxWuR+F6FN4/uB6F61G43j9cj8L1KFzfPwAAAAAAAOA/UrgehetR4D+kcD0K16PgP/YoXI/C9eA/SOF6FK5H4T+amZmZmZnhP+xRuB6F6+E/PgrXo3A94j+PwvUoXI/iP+F6FK5H4eI/MzMzMzMz4z+F61G4HoXjP9ejcD0K1+M/KVyPwvUo5D97FK5H4XrkP83MzMzMzOQ/H4XrUbge5T9xPQrXo3DlP8P1KFyPwuU/Fa5H4XoU5j9nZmZmZmbmP7gehetRuOY/CtejcD0K5z9cj8L1KFznP65H4XoUruc/AAAAAAAA6D9SuB6F61HoP6RwPQrXo+g/9ihcj8L16D9I4XoUrkfpP5qZmZmZmek/7FG4HoXr6T8+CtejcD3qP5DC9Shcj+o/4XoUrkfh6j8zMzMzMzPrP4XrUbgehes/16NwPQrX6z8pXI/C9SjsP3sUrkfheuw/zczMzMzM7D8fhetRuB7tP3E9CtejcO0/w/UoXI/C7T8VrkfhehTuP2dmZmZmZu4/uB6F61G47j8K16NwPQrvP1yPwvUoXO8/rkfhehSu7z8AAAAAAADwPw==\"},\"shape\":[101],\"dtype\":\"float64\",\"order\":\"little\"}],[\"uniform_pdf\",{\"type\":\"ndarray\",\"array\":{\"type\":\"bytes\",\"data\":\"AAAAAAAA8D8AAAAAAADwPwAAAAAAAPA/AAAAAAAA8D8AAAAAAADwPwAAAAAAAPA/AAAAAAAA8D8AAAAAAADwPwAAAAAAAPA/AAAAAAAA8D8AAAAAAADwPwAAAAAAAPA/AAAAAAAA8D8AAAAAAADwPwAAAAAAAPA/AAAAAAAA8D8AAAAAAADwPwAAAAAAAPA/AAAAAAAA8D8AAAAAAADwPwAAAAAAAPA/AAAAAAAA8D8AAAAAAADwPwAAAAAAAPA/AAAAAAAA8D8AAAAAAADwPwAAAAAAAPA/AAAAAAAA8D8AAAAAAADwPwAAAAAAAPA/AAAAAAAA8D8AAAAAAADwPwAAAAAAAPA/AAAAAAAA8D8AAAAAAADwPwAAAAAAAPA/AAAAAAAA8D8AAAAAAADwPwAAAAAAAPA/AAAAAAAA8D8AAAAAAADwPwAAAAAAAPA/AAAAAAAA8D8AAAAAAADwPwAAAAAAAPA/AAAAAAAA8D8AAAAAAADwPwAAAAAAAPA/AAAAAAAA8D8AAAAAAADwPwAAAAAAAPA/AAAAAAAA8D8AAAAAAADwPwAAAAAAAPA/AAAAAAAA8D8AAAAAAADwPwAAAAAAAPA/AAAAAAAA8D8AAAAAAADwPwAAAAAAAPA/AAAAAAAA8D8AAAAAAADwPwAAAAAAAPA/AAAAAAAA8D8AAAAAAADwPwAAAAAAAPA/AAAAAAAA8D8AAAAAAADwPwAAAAAAAPA/AAAAAAAA8D8AAAAAAADwPwAAAAAAAPA/AAAAAAAA8D8AAAAAAADwPwAAAAAAAPA/AAAAAAAA8D8AAAAAAADwPwAAAAAAAPA/AAAAAAAA8D8AAAAAAADwPwAAAAAAAPA/AAAAAAAA8D8AAAAAAADwPwAAAAAAAPA/AAAAAAAA8D8AAAAAAADwPwAAAAAAAPA/AAAAAAAA8D8AAAAAAADwPwAAAAAAAPA/AAAAAAAA8D8AAAAAAADwPwAAAAAAAPA/AAAAAAAA8D8AAAAAAADwPwAAAAAAAPA/AAAAAAAA8D8AAAAAAADwPwAAAAAAAPA/AAAAAAAA8D8AAAAAAADwPw==\"},\"shape\":[101],\"dtype\":\"float64\",\"order\":\"little\"}],[\"beta_pdf\",{\"type\":\"ndarray\",\"array\":{\"type\":\"bytes\",\"data\":\"AAAAAAAAAAB2V4CT3LCRPn7hTKO00OA+RiQOCbBTDj8GQ757CFYuP1gmdPTH9kU/7ULhNB7rWT+ki4JNK41qP78kTE9vhXg/bQ+OKUnrhD9p9EGT38KQP6QW7ugDh5k/8eG7eiWjoj/FGCtP0kOqP6RuT0dF9LE/tTQXIwbptz+GINAbiR6/P8Xb+Hgr2MM/pWnE2jDbyD+E2v2NK6LOPyVBLX5CmtI/pgWeOX1L1j/9cHLjtWXaP/KAR9hb6N4/3ZIdhKno4T8EAAAAeI7kP+1eWlr9Yuc/U2Fm6tti6j/gjmYl/IntPzXR9aLLafA/l7b1TiId8j/cW+OoBNzzP3y7Yho1o/U/tOWRvT9v9z8lYjz5hDz5P/QAfrdEB/s/mpl1DarL/D99HH8q14X+P76q2rL4GABAROyXoBbmAEDY9MQdbagBQGhs2iQ3XgJAci5yasgFA0BMhD+Nkp0DQMWKMOcpJARAwMoy8UmYBEBwU4Us2fgEQLXaDIbsRAVAdBO/Kcp7BUCrF+6965wFQAUAAAAAqAVAqxfuveucBUB0E78pynsFQKzaDIbsRAVAa1OFLNn4BEDDyjLxSZgEQMGKMOcpJARARYQ/jZKdA0BzLnJqyAUDQGls2iQ3XgJA2fTEHW2oAUBE7JegFuYAQL6q2rL4GABAfRx/KteF/j+amXUNqsv8P+wAfrdEB/s/GWI8+YQ8+T+05ZG9P2/3P3y7Yho1o/U/0lvjqATc8z+YtvVOIh3yPznR9aLLafA/4I5mJfyJ7T9TYWbq22LqP+1eWlr9Yuc/BAAAAHiO5D/dkh2EqejhP+uAR9hb6N4//nBy47Vl2j+gBZ45fUvWPyFBLX5CmtI/aNr9jSuizj+dacTaMNvIP7Lb+Hgr2MM/kSDQG4kevz+/NBcjBum3P6RuT0dF9LE/xRgrT9JDqj/x4bt6JaOiP5sW7ugDh5k/ZfRBk9/CkD9oD44pSeuEP64kTE9vhXg/j4uCTSuNaj/RQuE0HutZPzUmdPTH9kU/KEO+ewhWLj9sJA4JsFMOP5LhTKO00OA+ileAk9ywkT4AAAAAAAAAAA==\"},\"shape\":[101],\"dtype\":\"float64\",\"order\":\"little\"}]]}}},\"view\":{\"type\":\"object\",\"name\":\"CDSView\",\"id\":\"p1075\",\"attributes\":{\"filter\":{\"type\":\"object\",\"name\":\"AllIndices\",\"id\":\"p1076\"}}},\"glyph\":{\"type\":\"object\",\"name\":\"Line\",\"id\":\"p1071\",\"attributes\":{\"x\":{\"type\":\"field\",\"field\":\"q\"},\"y\":{\"type\":\"field\",\"field\":\"uniform_pdf\"},\"line_color\":\"navy\",\"line_width\":2}},\"nonselection_glyph\":{\"type\":\"object\",\"name\":\"Line\",\"id\":\"p1072\",\"attributes\":{\"x\":{\"type\":\"field\",\"field\":\"q\"},\"y\":{\"type\":\"field\",\"field\":\"uniform_pdf\"},\"line_color\":\"navy\",\"line_alpha\":0.1,\"line_width\":2}},\"muted_glyph\":{\"type\":\"object\",\"name\":\"Line\",\"id\":\"p1073\",\"attributes\":{\"x\":{\"type\":\"field\",\"field\":\"q\"},\"y\":{\"type\":\"field\",\"field\":\"uniform_pdf\"},\"line_color\":\"navy\",\"line_alpha\":0.2,\"line_width\":2}}}},{\"type\":\"object\",\"name\":\"GlyphRenderer\",\"id\":\"p1085\",\"attributes\":{\"data_source\":{\"id\":\"p1040\"},\"view\":{\"type\":\"object\",\"name\":\"CDSView\",\"id\":\"p1086\",\"attributes\":{\"filter\":{\"type\":\"object\",\"name\":\"AllIndices\",\"id\":\"p1087\"}}},\"glyph\":{\"type\":\"object\",\"name\":\"Line\",\"id\":\"p1082\",\"attributes\":{\"x\":{\"type\":\"field\",\"field\":\"q\"},\"y\":{\"type\":\"field\",\"field\":\"beta_pdf\"},\"line_color\":\"firebrick\",\"line_width\":2,\"line_dash\":[6]}},\"nonselection_glyph\":{\"type\":\"object\",\"name\":\"Line\",\"id\":\"p1083\",\"attributes\":{\"x\":{\"type\":\"field\",\"field\":\"q\"},\"y\":{\"type\":\"field\",\"field\":\"beta_pdf\"},\"line_color\":\"firebrick\",\"line_alpha\":0.1,\"line_width\":2,\"line_dash\":[6]}},\"muted_glyph\":{\"type\":\"object\",\"name\":\"Line\",\"id\":\"p1084\",\"attributes\":{\"x\":{\"type\":\"field\",\"field\":\"q\"},\"y\":{\"type\":\"field\",\"field\":\"beta_pdf\"},\"line_color\":\"firebrick\",\"line_alpha\":0.2,\"line_width\":2,\"line_dash\":[6]}}}}],\"toolbar\":{\"type\":\"object\",\"name\":\"Toolbar\",\"id\":\"p1053\",\"attributes\":{\"tools\":[{\"type\":\"object\",\"name\":\"HoverTool\",\"id\":\"p1043\",\"attributes\":{\"renderers\":\"auto\",\"tooltips\":[[\"\\u03b8\",\"@q{0.0000}\"],[\"uniform\",\"@uniform_pdf{0.0000}\"],[\"beta\",\"@beta_pdf{0.0000}\"]]}}]}},\"toolbar_location\":null,\"left\":[{\"type\":\"object\",\"name\":\"LinearAxis\",\"id\":\"p1063\",\"attributes\":{\"ticker\":{\"type\":\"object\",\"name\":\"BasicTicker\",\"id\":\"p1064\",\"attributes\":{\"mantissas\":[1,2,5]}},\"formatter\":{\"type\":\"object\",\"name\":\"BasicTickFormatter\",\"id\":\"p1065\"},\"axis_label\":\"Probability density\",\"major_label_policy\":{\"type\":\"object\",\"name\":\"AllLabels\",\"id\":\"p1066\"}}}],\"below\":[{\"type\":\"object\",\"name\":\"LinearAxis\",\"id\":\"p1058\",\"attributes\":{\"ticker\":{\"type\":\"object\",\"name\":\"BasicTicker\",\"id\":\"p1059\",\"attributes\":{\"mantissas\":[1,2,5]}},\"formatter\":{\"type\":\"object\",\"name\":\"BasicTickFormatter\",\"id\":\"p1060\"},\"axis_label\":\"$$\\\\theta$$\",\"major_label_policy\":{\"type\":\"object\",\"name\":\"AllLabels\",\"id\":\"p1061\"}}}],\"center\":[{\"type\":\"object\",\"name\":\"Grid\",\"id\":\"p1062\",\"attributes\":{\"axis\":{\"id\":\"p1058\"},\"grid_line_color\":null}},{\"type\":\"object\",\"name\":\"Grid\",\"id\":\"p1067\",\"attributes\":{\"dimension\":1,\"axis\":{\"id\":\"p1063\"},\"grid_line_color\":null}},{\"type\":\"object\",\"name\":\"Legend\",\"id\":\"p1077\",\"attributes\":{\"location\":\"bottom_center\",\"border_line_color\":null,\"click_policy\":\"hide\",\"items\":[{\"type\":\"object\",\"name\":\"LegendItem\",\"id\":\"p1078\",\"attributes\":{\"label\":{\"type\":\"value\",\"value\":\"Uniform distribution\"},\"renderers\":[{\"id\":\"p1074\"}]}},{\"type\":\"object\",\"name\":\"LegendItem\",\"id\":\"p1088\",\"attributes\":{\"label\":{\"type\":\"value\",\"value\":\"Beta distribution\"},\"renderers\":[{\"id\":\"p1085\"}]}}]}}]}}]}};\n",
       "  const render_items = [{\"docid\":\"336ca376-31cb-49fd-9cf8-5b62449337fa\",\"roots\":{\"p1044\":\"f31f9076-2f99-4e52-a706-da76ca121509\"},\"root_ids\":[\"p1044\"]}];\n",
       "  void root.Bokeh.embed.embed_items_notebook(docs_json, render_items);\n",
       "  }\n",
       "  if (root.Bokeh !== undefined) {\n",
       "    embed_document(root);\n",
       "  } else {\n",
       "    let attempts = 0;\n",
       "    const timer = setInterval(function(root) {\n",
       "      if (root.Bokeh !== undefined) {\n",
       "        clearInterval(timer);\n",
       "        embed_document(root);\n",
       "      } else {\n",
       "        attempts++;\n",
       "        if (attempts > 100) {\n",
       "          clearInterval(timer);\n",
       "          console.log(\"Bokeh: ERROR: Unable to run BokehJS code because BokehJS library is missing\");\n",
       "        }\n",
       "      }\n",
       "    }, 10, root)\n",
       "  }\n",
       "})(window);"
      ],
      "application/vnd.bokehjs_exec.v0+json": ""
     },
     "metadata": {
      "application/vnd.bokehjs_exec.v0+json": {
       "id": "p1044"
      }
     },
     "output_type": "display_data"
    }
   ],
   "source": [
    "source = ColumnDataSource(\n",
    "    data=dict(\n",
    "        q = q,\n",
    "        uniform_pdf = st.uniform.pdf(q),\n",
    "        beta_pdf = st.beta.pdf(q, 6, 6)\n",
    "    )\n",
    ")\n",
    "hover = HoverTool(\n",
    "    tooltips=[\n",
    "        ('\\u03B8', '@q{0.0000}'), \n",
    "        ('uniform', '@uniform_pdf{0.0000}'),\n",
    "        ('beta', '@beta_pdf{0.0000}')\n",
    "    ]\n",
    ")\n",
    "p = figure(width=400, height=300, x_range=(0, 1), y_range=(0, 2.8),\n",
    "           tools=[hover], toolbar_location=None, title='Prior Distribution')\n",
    "p.line('q', 'uniform_pdf', source=source, line_color='navy', line_width=2,\n",
    "       legend_label='Uniform distribution')\n",
    "p.line('q', 'beta_pdf', source=source, line_color='firebrick', line_width=2, line_dash='dashed',\n",
    "       legend_label='Beta distribution')\n",
    "p.xaxis.axis_label = r'$$\\theta$$'\n",
    "p.yaxis.axis_label = 'Probability density'\n",
    "p.legend.location = 'bottom_center'\n",
    "p.legend.click_policy = 'hide'\n",
    "p.legend.border_line_color = p.xgrid.grid_line_color = p.ygrid.grid_line_color = p.outline_line_color = None\n",
    "show(p)"
   ]
  },
  {
   "cell_type": "markdown",
   "metadata": {},
   "source": [
    "The <font color=red>uniform distribution</font> $\\text{Uniform}(a, b)$ is \n",
    "\n",
    "$$\n",
    " p(x|a,b) = \n",
    " \\begin{cases}\n",
    " \\frac1{b-a}, & (a\\leqq x \\leqq b); \\\\\n",
    " 0, & (\\text{otherwise}).\n",
    " \\end{cases}\n",
    "$$\n",
    "\n",
    "In the above figure, we set $a=0$ and $b=1$. `st.uniform.pdf(x, loc=a, scale=b-a)` in `scipy.stats` computes the pdf of the uniform distribution $\\text{Uniform}(a, b)$.\n",
    "\n",
    "The <font color=red>beta distribution</font> $\\text{Beta}(\\alpha, \\beta)$ is \n",
    "\n",
    "$$\n",
    " p(x|\\alpha,\\beta) = \\frac{x^{\\alpha-1}(1-x)^{\\beta-1}}{B(\\alpha,\\beta)},\\ 0\\leqq x\\leqq 1,\n",
    "$$\n",
    "\n",
    "where $B(\\alpha,\\beta)$ is the beta function:\n",
    "\n",
    "$$\n",
    " B(\\alpha,\\beta) = \\int_0^1x^{\\alpha-1}(1-x)^{\\beta-1}dx.\n",
    "$$\n",
    "\n",
    "`st.beta.pdf(x, a, b)` in `scipy.stats` computes the pdf of the beta distribution $\\text{Beta}(a, b)$.\n",
    "\n",
    "## Beta Distribution\n",
    "---\n",
    "\n",
    "The shape of a beta distribution depends on two parameters: $\\alpha$ and $\\beta$. The following cell creates a Bokeh interactive plot in which you may play around with various parameter settings. Use two sliders labeled \"$\\alpha$\" and \"$\\beta$\" to see how these parameters affect the shape of the distribution."
   ]
  },
  {
   "cell_type": "code",
   "execution_count": 12,
   "metadata": {},
   "outputs": [
    {
     "data": {
      "application/vnd.bokehjs_exec.v0+json": "",
      "text/html": [
       "<script id=\"bd46ce7f-5147-488c-9d7a-bce58c4abe3f\">\n",
       "  (function() {\n",
       "    const xhr = new XMLHttpRequest()\n",
       "    xhr.responseType = 'blob';\n",
       "    xhr.open('GET', \"http://localhost:57883/autoload.js?bokeh-autoload-element=bd46ce7f-5147-488c-9d7a-bce58c4abe3f&bokeh-absolute-url=http://localhost:57883&resources=none\", true);\n",
       "    xhr.onload = function (event) {\n",
       "      const script = document.createElement('script');\n",
       "      const src = URL.createObjectURL(event.target.response);\n",
       "      script.src = src;\n",
       "      document.body.appendChild(script);\n",
       "    };\n",
       "    xhr.send();\n",
       "  })();\n",
       "</script>"
      ]
     },
     "metadata": {
      "application/vnd.bokehjs_exec.v0+json": {
       "server_id": "34047c1a957946f9869e4ffffc5c3098"
      }
     },
     "output_type": "display_data"
    }
   ],
   "source": [
    "def beta_pdf_plot(doc):\n",
    "    slider_a = Slider(value=1.0, start=0.0, end=10.0, step=0.1, title=r'$$\\alpha$$')\n",
    "    slider_b = Slider(value=1.0, start=0.0, end=10.0, step=0.1, title=r'$$\\beta$$')\n",
    "    \n",
    "    x = np.linspace(0.0, 1.0, 1001)\n",
    "    source = ColumnDataSource(data=dict(x=x, y=st.beta.pdf(x, 1.0, 1.0)))\n",
    "    hover = HoverTool(tooltips=[('x', '@x{0.0000}'), ('density', '@y{0.0000}')])\n",
    "    p = figure(width=400, height=300, x_range=(0, 1), y_range=(0, 5),\n",
    "               tools=[hover], toolbar_location=None)\n",
    "    p.line('x', 'y', source=source, line_color='navy', line_width=2)\n",
    "    p.xaxis.axis_label = 'Beta distribution'\n",
    "    p.yaxis.axis_label = 'Probability density'\n",
    "    p.xgrid.grid_line_color = p.ygrid.grid_line_color = p.outline_line_color = None   \n",
    "\n",
    "    def update_pdf(attr, old, new):\n",
    "        a = slider_a.value\n",
    "        b = slider_b.value\n",
    "        source.data['y'] = st.beta.pdf(x, a, b)\n",
    "\n",
    "    for params in [slider_a, slider_b]:\n",
    "        params.on_change('value', update_pdf)\n",
    "    \n",
    "    doc.add_root(column(row(slider_a, slider_b, width=400), p))\n",
    "\n",
    "# Your local jupyter server must be 'http://localhost:8888/'\n",
    "show(beta_pdf_plot)"
   ]
  },
  {
   "cell_type": "markdown",
   "metadata": {},
   "source": [
    "## Derivation of the Posterior Distribution of $\\theta$\n",
    "---\n",
    "\n",
    "Suppose the prior distribution is $\\text{Beta}(\\alpha_0,\\beta_0)$.\n",
    "\n",
    "The posterior distribution of $\\theta$ is given by\n",
    "\n",
    "\\begin{align*}\n",
    " p(\\theta|D) &\\propto p(D|\\theta)p(\\theta) \\\\\n",
    " &\\propto \\theta^{y}(1-\\theta)^{n-y} \\times \\theta^{\\alpha_0-1}(1-\\theta)^{\\beta_0-1} \\\\\n",
    " &\\propto \\theta^{y+\\alpha_0-1}(1-\\theta)^{n-y+\\beta_0-1} \\\\\n",
    " &\\propto \\theta^{\\alpha_\\star-1}(1-\\theta)^{\\beta_\\star-1},\\\\\n",
    " \\alpha_\\star &=y+\\alpha_0,\\quad \\beta_\\star=n-y+\\beta_0.\n",
    "\\end{align*}\n",
    "\n",
    "This is the beta distribution $\\text{Beta}(\\alpha_\\star,\\beta_\\star)$.\n",
    "\n",
    "As you may notice, the posterior distribution belongs to the same family of distribution as the prior. This type of prior distribution is called the <font color=red>natural conjugate prior distribution</font>."
   ]
  },
  {
   "cell_type": "markdown",
   "metadata": {},
   "source": [
    "## Numerical Example of the Posterior Distribution: Discrete Prior Case\n",
    "---\n",
    "\n",
    "We suppose candidates for the true value are limited as\n",
    "\n",
    "$$ \n",
    " \\theta\\in\\{0.0, 0.1, 0.2, 0.3, 0.4, 0.5, 0.6, 0.7, 0.8, 0.9, 1.0\\},\n",
    "$$\n",
    "\n",
    "and each candidate is equally likely, that is, the prior distribution is a discrete uniform distribution:\n",
    "\n",
    "$$\n",
    " \\Pr\\{\\theta = 0.0\\} = \\Pr\\{\\theta = 0.1\\} = \\cdots = \\Pr\\{\\theta = 0.9\\} = \\cdots = \\Pr\\{\\theta = 1.0\\} = \\frac{1}{11}.\n",
    "$$\n"
   ]
  },
  {
   "cell_type": "code",
   "execution_count": 13,
   "metadata": {},
   "outputs": [],
   "source": [
    "import pandas as pd\n",
    "from IPython.display import display"
   ]
  },
  {
   "cell_type": "markdown",
   "metadata": {},
   "source": [
    "`pandas` is a Python package for data analysis. `display` is used to show a Pandas dataframe in the Jupyter Notebook."
   ]
  },
  {
   "cell_type": "code",
   "execution_count": 14,
   "metadata": {},
   "outputs": [
    {
     "data": {
      "text/html": [
       "<div>\n",
       "<style scoped>\n",
       "    .dataframe tbody tr th:only-of-type {\n",
       "        vertical-align: middle;\n",
       "    }\n",
       "\n",
       "    .dataframe tbody tr th {\n",
       "        vertical-align: top;\n",
       "    }\n",
       "\n",
       "    .dataframe thead th {\n",
       "        text-align: right;\n",
       "    }\n",
       "</style>\n",
       "<table border=\"1\" class=\"dataframe\">\n",
       "  <thead>\n",
       "    <tr style=\"text-align: right;\">\n",
       "      <th></th>\n",
       "      <th>$p(\\theta)$</th>\n",
       "      <th>$p(D|\\theta)$</th>\n",
       "      <th>$p(\\theta|D)$</th>\n",
       "    </tr>\n",
       "    <tr>\n",
       "      <th>$\\theta$</th>\n",
       "      <th></th>\n",
       "      <th></th>\n",
       "      <th></th>\n",
       "    </tr>\n",
       "  </thead>\n",
       "  <tbody>\n",
       "    <tr>\n",
       "      <th>0.0</th>\n",
       "      <td>0.090909</td>\n",
       "      <td>0.00000</td>\n",
       "      <td>0.000000</td>\n",
       "    </tr>\n",
       "    <tr>\n",
       "      <th>0.1</th>\n",
       "      <td>0.090909</td>\n",
       "      <td>0.00009</td>\n",
       "      <td>0.000277</td>\n",
       "    </tr>\n",
       "    <tr>\n",
       "      <th>0.2</th>\n",
       "      <td>0.090909</td>\n",
       "      <td>0.00128</td>\n",
       "      <td>0.003938</td>\n",
       "    </tr>\n",
       "    <tr>\n",
       "      <th>0.3</th>\n",
       "      <td>0.090909</td>\n",
       "      <td>0.00567</td>\n",
       "      <td>0.017443</td>\n",
       "    </tr>\n",
       "    <tr>\n",
       "      <th>0.4</th>\n",
       "      <td>0.090909</td>\n",
       "      <td>0.01536</td>\n",
       "      <td>0.047254</td>\n",
       "    </tr>\n",
       "    <tr>\n",
       "      <th>0.5</th>\n",
       "      <td>0.090909</td>\n",
       "      <td>0.03125</td>\n",
       "      <td>0.096139</td>\n",
       "    </tr>\n",
       "    <tr>\n",
       "      <th>0.6</th>\n",
       "      <td>0.090909</td>\n",
       "      <td>0.05184</td>\n",
       "      <td>0.159483</td>\n",
       "    </tr>\n",
       "    <tr>\n",
       "      <th>0.7</th>\n",
       "      <td>0.090909</td>\n",
       "      <td>0.07203</td>\n",
       "      <td>0.221597</td>\n",
       "    </tr>\n",
       "    <tr>\n",
       "      <th>0.8</th>\n",
       "      <td>0.090909</td>\n",
       "      <td>0.08192</td>\n",
       "      <td>0.252023</td>\n",
       "    </tr>\n",
       "    <tr>\n",
       "      <th>0.9</th>\n",
       "      <td>0.090909</td>\n",
       "      <td>0.06561</td>\n",
       "      <td>0.201846</td>\n",
       "    </tr>\n",
       "    <tr>\n",
       "      <th>1.0</th>\n",
       "      <td>0.090909</td>\n",
       "      <td>0.00000</td>\n",
       "      <td>0.000000</td>\n",
       "    </tr>\n",
       "  </tbody>\n",
       "</table>\n",
       "</div>"
      ],
      "text/plain": [
       "          $p(\\theta)$  $p(D|\\theta)$  $p(\\theta|D)$\n",
       "$\\theta$                                           \n",
       "0.0          0.090909        0.00000       0.000000\n",
       "0.1          0.090909        0.00009       0.000277\n",
       "0.2          0.090909        0.00128       0.003938\n",
       "0.3          0.090909        0.00567       0.017443\n",
       "0.4          0.090909        0.01536       0.047254\n",
       "0.5          0.090909        0.03125       0.096139\n",
       "0.6          0.090909        0.05184       0.159483\n",
       "0.7          0.090909        0.07203       0.221597\n",
       "0.8          0.090909        0.08192       0.252023\n",
       "0.9          0.090909        0.06561       0.201846\n",
       "1.0          0.090909        0.00000       0.000000"
      ]
     },
     "metadata": {},
     "output_type": "display_data"
    }
   ],
   "source": [
    "theta = np.array([0.0, 0.1, 0.2, 0.3, 0.4, 0.5, 0.6, 0.7, 0.8, 0.9, 1.0])\n",
    "prior = np.ones(11) / 11.0\n",
    "likelihood = bernoulli_likelihood(x, theta)\n",
    "posterior = (likelihood * prior) / np.sum(likelihood * prior)\n",
    "table = pd.DataFrame(np.vstack((theta, prior, likelihood, posterior)).T,\n",
    "                     columns=['$\\\\theta$','$p(\\\\theta)$','$p(D|\\\\theta)$','$p(\\\\theta|D)$'])\n",
    "display(table.set_index('$\\\\theta$'))"
   ]
  },
  {
   "cell_type": "markdown",
   "metadata": {},
   "source": [
    "## Numerical Example of the Posterior Distribution: Beta Prior Case\n",
    "---\n",
    "\n",
    "Here we generate pseudo-random numbers from the Bernoulli distribution with $\\theta=\\frac12$. `st.bernoulli.rvs(prob0, size=n)` generate `n` pseudo-random numbers from the Bernoulli distribution with probability of success `prob0`."
   ]
  },
  {
   "cell_type": "code",
   "execution_count": 15,
   "metadata": {},
   "outputs": [
    {
     "name": "stdout",
     "output_type": "stream",
     "text": [
      "[1 1 1 1 1 1 0 1 0 1]\n"
     ]
    }
   ],
   "source": [
    "prob0 = 0.5\n",
    "n = 10\n",
    "rng = np.random.default_rng(seed=99)\n",
    "data = st.bernoulli.rvs(prob0, size=n, random_state=rng)\n",
    "print(data)"
   ]
  },
  {
   "cell_type": "markdown",
   "metadata": {},
   "source": [
    "Next, let us see how the hyper-parameters $(\\alpha_0, \\beta_0)$ and the sample sizes $n$ affect the shape of the posterior distribution. `bernoulli_posterior_plot` creates an interactive plot with two sliders for tuning the hyper-parameters. `a_0` and `b_0` in `bernoulli_posterior_plot` are  $\\alpha_0$ and $\\beta_0$ respectively."
   ]
  },
  {
   "cell_type": "code",
   "execution_count": 16,
   "metadata": {},
   "outputs": [
    {
     "data": {
      "application/vnd.bokehjs_exec.v0+json": "",
      "text/html": [
       "<script id=\"c2b5a518-0c8e-4743-b2ab-6655b0946e57\">\n",
       "  (function() {\n",
       "    const xhr = new XMLHttpRequest()\n",
       "    xhr.responseType = 'blob';\n",
       "    xhr.open('GET', \"http://localhost:57885/autoload.js?bokeh-autoload-element=c2b5a518-0c8e-4743-b2ab-6655b0946e57&bokeh-absolute-url=http://localhost:57885&resources=none\", true);\n",
       "    xhr.onload = function (event) {\n",
       "      const script = document.createElement('script');\n",
       "      const src = URL.createObjectURL(event.target.response);\n",
       "      script.src = src;\n",
       "      document.body.appendChild(script);\n",
       "    };\n",
       "    xhr.send();\n",
       "  })();\n",
       "</script>"
      ]
     },
     "metadata": {
      "application/vnd.bokehjs_exec.v0+json": {
       "server_id": "bc5ee36ef57145c8ba90c1f47c370f03"
      }
     },
     "output_type": "display_data"
    }
   ],
   "source": [
    "def bernoulli_posterior_plot(doc):\n",
    "    samplesize = 500\n",
    "    slider_a = Slider(value=1.0, start=0.1, end=10.0, step=0.1, title=r'$$\\alpha_0$$')\n",
    "    slider_b = Slider(value=1.0, start=0.1, end=10.0, step=0.1, title=r'$$\\beta_0$$')\n",
    "    slider_n = Slider(value=10, start=1, end=samplesize, step=1, title='Sample size')\n",
    "    \n",
    "    prob0 = 0.5\n",
    "    a0 = slider_a.value\n",
    "    b0 = slider_b.value\n",
    "    n = slider_n.value\n",
    "    x = np.linspace(0.0, 1.0, 1001)\n",
    "    data = st.bernoulli.rvs(prob0, size=samplesize, random_state=rng)\n",
    "    y = data[:n].sum()\n",
    "    a_star = y + a0\n",
    "    b_star = n - y + b0\n",
    "    source = ColumnDataSource(\n",
    "        data = dict(\n",
    "            x = x,\n",
    "            prior = st.beta.pdf(x, a0, b0),\n",
    "            posterior = st.beta.pdf(x, a_star, b_star)\n",
    "        )\n",
    "    )\n",
    "    \n",
    "    hover = HoverTool(\n",
    "        tooltips = [\n",
    "            ('\\u03B8', '@x{0.0000}'), \n",
    "            ('prior', '@prior{0.0000}'),\n",
    "            ('posterior', '@posterior{0.0000}')\n",
    "        ]\n",
    "    )\n",
    "    p = figure(width=600, height=300, x_range=(0, 1),\n",
    "               tools=[hover], toolbar_location=None)\n",
    "    p.line('x', 'posterior', source=source, line_color='navy', line_width=2,\n",
    "          legend_label='Posterior distribution')\n",
    "    p.line('x', 'prior', source=source, line_color='firebrick', line_width=2, line_dash='dashed',\n",
    "          legend_label='Prior distribution')\n",
    "    p.xaxis.axis_label = r'$$\\theta$$'\n",
    "    p.yaxis.axis_label = 'Probability density'\n",
    "    p.add_layout(p.legend[0], 'right')\n",
    "    p.legend.click_policy = 'hide'\n",
    "    p.legend.border_line_color = p.xgrid.grid_line_color = p.ygrid.grid_line_color = p.outline_line_color = None\n",
    "\n",
    "    def update_pdf(attr, old, new):\n",
    "        a0 = slider_a.value\n",
    "        b0 = slider_b.value\n",
    "        n = slider_n.value\n",
    "        y = data[:n].sum()\n",
    "        a_star = y + a0\n",
    "        b_star = n - y + b0\n",
    "        source.data['prior'] = st.beta.pdf(x, a0, b0)\n",
    "        source.data['posterior'] = st.beta.pdf(x, a_star, b_star)\n",
    "\n",
    "    for params in [slider_a, slider_b, slider_n]:\n",
    "        params.on_change('value', update_pdf)\n",
    "    \n",
    "    doc.add_root(column(row(slider_a, slider_b, slider_n, width=500), p))\n",
    "\n",
    "# Your local jupyter server must be 'http://localhost:8888/'\n",
    "show(bernoulli_posterior_plot)"
   ]
  },
  {
   "cell_type": "markdown",
   "metadata": {},
   "source": [
    "Bayes' theorem is rearranged as\n",
    "\n",
    "\\begin{equation*}\n",
    " \\frac{p(\\theta|D)}{p(\\theta)} = \\frac{p(D|\\theta)}{p(D)}.\n",
    "\\end{equation*}\n",
    "\n",
    "Therefore\n",
    "\n",
    "\\begin{equation*}\n",
    "\\frac{p(\\theta|D)}{p(\\theta)} \\gtreqqless 1\\quad \\text{if and only if}\\quad \\frac{p(D|\\theta)}{p(D)} \\gtreqqless 1.\n",
    "\\end{equation*}\n",
    "\n",
    "Since\n",
    "\n",
    "\\begin{equation*}\n",
    "\\begin{cases}\n",
    " \\displaystyle\n",
    " \\frac{p(\\theta|D)}{p(\\theta)} > 1, & \\text{plausibility of $\\theta$ is increased}; \\\\\n",
    " \\\\\n",
    " \\displaystyle\n",
    " \\frac{p(\\theta|D)}{p(\\theta)} < 1, & \\text{plausibility of $\\theta$ is decreased},\n",
    "\\end{cases}\n",
    "\\end{equation*}\n",
    "\n",
    "The plausibility of a specific value of $\\theta$ depends on whether its likelihood $p(D|\\theta)$ is higher than the marginal likelihood $p(D)$."
   ]
  },
  {
   "cell_type": "markdown",
   "metadata": {},
   "source": [
    "## Beysian Inferernce with the Posterior Distribution\n",
    "----\n",
    "\n",
    "The posterior distribution $p(\\theta|D)$ embodies all available information about unknown parameter(s), $\\theta$. When the number of parameters to be analyzed is relatively small, displaying graphs of all (marginal) posterior distributions may be sufficient to convey useful insights on the parameters to readers.\n",
    "\n",
    "However, when we need to analyze many parameters, it is impractical and pointless to show all graphs on the parameters in an article or report. In practice, we calculate and report several \"summary statistics\" that show us key characteristics of the posterior distribution. We call them the <font color=red>posterior statistics</font>.\n",
    "\n",
    "## Point Estimation\n",
    "---\n",
    "\n",
    "On many occasions, we need to report one particular value of the parameter we regard as the most plausible guess. This type of value is called an  <font color=red>estimate</font> and a procedure to obtain an estimate is called  <font color=red>point estimation</font>.\n",
    "\n",
    "In Bayesian statistics, an estimate of the parameter is defined as a value that minimize the expected loss.\n",
    "\n",
    "\\begin{align*}\n",
    " \\delta_\\star\n",
    " &= \\arg\\min_{\\delta}\\mathrm{E}_{\\theta}[L(\\theta,\\delta)|D] \\\\\n",
    " &= \\arg\\min_{\\delta}\\int_{\\Theta}L(\\theta,\\delta)p(\\theta|D)d\\theta,\n",
    "\\end{align*}\n",
    "\n",
    "where $L$ is the <font color=red>loss function</font> and $\\Theta$ is a set of all possible values of $\\theta$ (<font color=red>parameter space</font>).\n",
    "\n",
    "| loss function  | $L(\\theta,\\delta)$        | point estimate\n",
    "|:---------------|:-------------------------:|:------------------|\n",
    "| quadratic loss | $(\\theta-\\delta)^2$       | posterior mean\n",
    "| absolute loss  | $|\\theta-\\delta|$         | posterior median\n",
    "| 0-1 loss       | $1-\\mathbf{1}_\\theta(\\delta)$ | posterior mode\n",
    "\n",
    "Let us make a figure of three loss functions where the ture valeu of $\\theta$ is $\\frac12$."
   ]
  },
  {
   "cell_type": "code",
   "execution_count": 17,
   "metadata": {
    "scrolled": true
   },
   "outputs": [
    {
     "data": {
      "text/html": [
       "\n",
       "  <div id=\"e0434c05-4a17-4287-a265-a4ce0ce4c028\" data-root-id=\"p1095\" style=\"display: contents;\"></div>\n"
      ]
     },
     "metadata": {},
     "output_type": "display_data"
    },
    {
     "data": {
      "application/javascript": [
       "(function(root) {\n",
       "  function embed_document(root) {\n",
       "  const docs_json = {\"46c44663-e340-4b72-89f2-97a2db4a4e91\":{\"version\":\"3.4.1\",\"title\":\"Bokeh Application\",\"roots\":[{\"type\":\"object\",\"name\":\"Figure\",\"id\":\"p1095\",\"attributes\":{\"width\":400,\"height\":300,\"x_range\":{\"type\":\"object\",\"name\":\"Range1d\",\"id\":\"p1105\"},\"y_range\":{\"type\":\"object\",\"name\":\"DataRange1d\",\"id\":\"p1097\"},\"x_scale\":{\"type\":\"object\",\"name\":\"LinearScale\",\"id\":\"p1106\"},\"y_scale\":{\"type\":\"object\",\"name\":\"LinearScale\",\"id\":\"p1107\"},\"title\":{\"type\":\"object\",\"name\":\"Title\",\"id\":\"p1098\",\"attributes\":{\"text\":\"Loss Function\"}},\"outline_line_color\":null,\"renderers\":[{\"type\":\"object\",\"name\":\"GlyphRenderer\",\"id\":\"p1135\",\"attributes\":{\"data_source\":{\"type\":\"object\",\"name\":\"ColumnDataSource\",\"id\":\"p1092\",\"attributes\":{\"selected\":{\"type\":\"object\",\"name\":\"Selection\",\"id\":\"p1093\",\"attributes\":{\"indices\":[],\"line_indices\":[]}},\"selection_policy\":{\"type\":\"object\",\"name\":\"UnionRenderers\",\"id\":\"p1094\"},\"data\":{\"type\":\"map\",\"entries\":[[\"q\",{\"type\":\"ndarray\",\"array\":{\"type\":\"bytes\",\"data\":\"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\"},\"shape\":[250],\"dtype\":\"float64\",\"order\":\"little\"}],[\"loss_L2\",{\"type\":\"ndarray\",\"array\":{\"type\":\"bytes\",\"data\":\"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\"},\"shape\":[250],\"dtype\":\"float64\",\"order\":\"little\"}],[\"loss_L1\",{\"type\":\"ndarray\",\"array\":{\"type\":\"bytes\",\"data\":\"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\"},\"shape\":[250],\"dtype\":\"float64\",\"order\":\"little\"}],[\"loss_01\",{\"type\":\"ndarray\",\"array\":{\"type\":\"bytes\",\"data\":\"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\"},\"shape\":[250],\"dtype\":\"float64\",\"order\":\"little\"}]]}}},\"view\":{\"type\":\"object\",\"name\":\"CDSView\",\"id\":\"p1136\",\"attributes\":{\"filter\":{\"type\":\"object\",\"name\":\"AllIndices\",\"id\":\"p1137\"}}},\"glyph\":{\"type\":\"object\",\"name\":\"Line\",\"id\":\"p1132\",\"attributes\":{\"x\":{\"type\":\"field\",\"field\":\"q\"},\"y\":{\"type\":\"field\",\"field\":\"loss_L2\"},\"line_color\":\"navy\",\"line_width\":2}},\"nonselection_glyph\":{\"type\":\"object\",\"name\":\"Line\",\"id\":\"p1133\",\"attributes\":{\"x\":{\"type\":\"field\",\"field\":\"q\"},\"y\":{\"type\":\"field\",\"field\":\"loss_L2\"},\"line_color\":\"navy\",\"line_alpha\":0.1,\"line_width\":2}},\"muted_glyph\":{\"type\":\"object\",\"name\":\"Line\",\"id\":\"p1134\",\"attributes\":{\"x\":{\"type\":\"field\",\"field\":\"q\"},\"y\":{\"type\":\"field\",\"field\":\"loss_L2\"},\"line_color\":\"navy\",\"line_alpha\":0.2,\"line_width\":2}}}},{\"type\":\"object\",\"name\":\"GlyphRenderer\",\"id\":\"p1146\",\"attributes\":{\"data_source\":{\"id\":\"p1092\"},\"view\":{\"type\":\"object\",\"name\":\"CDSView\",\"id\":\"p1147\",\"attributes\":{\"filter\":{\"type\":\"object\",\"name\":\"AllIndices\",\"id\":\"p1148\"}}},\"glyph\":{\"type\":\"object\",\"name\":\"Line\",\"id\":\"p1143\",\"attributes\":{\"x\":{\"type\":\"field\",\"field\":\"q\"},\"y\":{\"type\":\"field\",\"field\":\"loss_L1\"},\"line_color\":\"firebrick\",\"line_width\":2,\"line_dash\":[6]}},\"nonselection_glyph\":{\"type\":\"object\",\"name\":\"Line\",\"id\":\"p1144\",\"attributes\":{\"x\":{\"type\":\"field\",\"field\":\"q\"},\"y\":{\"type\":\"field\",\"field\":\"loss_L1\"},\"line_color\":\"firebrick\",\"line_alpha\":0.1,\"line_width\":2,\"line_dash\":[6]}},\"muted_glyph\":{\"type\":\"object\",\"name\":\"Line\",\"id\":\"p1145\",\"attributes\":{\"x\":{\"type\":\"field\",\"field\":\"q\"},\"y\":{\"type\":\"field\",\"field\":\"loss_L1\"},\"line_color\":\"firebrick\",\"line_alpha\":0.2,\"line_width\":2,\"line_dash\":[6]}}}},{\"type\":\"object\",\"name\":\"GlyphRenderer\",\"id\":\"p1156\",\"attributes\":{\"data_source\":{\"id\":\"p1092\"},\"view\":{\"type\":\"object\",\"name\":\"CDSView\",\"id\":\"p1157\",\"attributes\":{\"filter\":{\"type\":\"object\",\"name\":\"AllIndices\",\"id\":\"p1158\"}}},\"glyph\":{\"type\":\"object\",\"name\":\"Line\",\"id\":\"p1153\",\"attributes\":{\"x\":{\"type\":\"field\",\"field\":\"q\"},\"y\":{\"type\":\"field\",\"field\":\"loss_01\"},\"line_color\":\"green\",\"line_width\":2,\"line_dash\":[6,4,2,4]}},\"nonselection_glyph\":{\"type\":\"object\",\"name\":\"Line\",\"id\":\"p1154\",\"attributes\":{\"x\":{\"type\":\"field\",\"field\":\"q\"},\"y\":{\"type\":\"field\",\"field\":\"loss_01\"},\"line_color\":\"green\",\"line_alpha\":0.1,\"line_width\":2,\"line_dash\":[6,4,2,4]}},\"muted_glyph\":{\"type\":\"object\",\"name\":\"Line\",\"id\":\"p1155\",\"attributes\":{\"x\":{\"type\":\"field\",\"field\":\"q\"},\"y\":{\"type\":\"field\",\"field\":\"loss_01\"},\"line_color\":\"green\",\"line_alpha\":0.2,\"line_width\":2,\"line_dash\":[6,4,2,4]}}}},{\"type\":\"object\",\"name\":\"GlyphRenderer\",\"id\":\"p1166\",\"attributes\":{\"data_source\":{\"type\":\"object\",\"name\":\"ColumnDataSource\",\"id\":\"p1160\",\"attributes\":{\"selected\":{\"type\":\"object\",\"name\":\"Selection\",\"id\":\"p1161\",\"attributes\":{\"indices\":[],\"line_indices\":[]}},\"selection_policy\":{\"type\":\"object\",\"name\":\"UnionRenderers\",\"id\":\"p1162\"},\"data\":{\"type\":\"map\",\"entries\":[[\"x\",[0.5,0.5]],[\"y\",[0.0,1.0]]]}}},\"view\":{\"type\":\"object\",\"name\":\"CDSView\",\"id\":\"p1167\",\"attributes\":{\"filter\":{\"type\":\"object\",\"name\":\"AllIndices\",\"id\":\"p1168\"}}},\"glyph\":{\"type\":\"object\",\"name\":\"Line\",\"id\":\"p1163\",\"attributes\":{\"x\":{\"type\":\"field\",\"field\":\"x\"},\"y\":{\"type\":\"field\",\"field\":\"y\"},\"line_color\":\"green\",\"line_dash\":[2,4]}},\"nonselection_glyph\":{\"type\":\"object\",\"name\":\"Line\",\"id\":\"p1164\",\"attributes\":{\"x\":{\"type\":\"field\",\"field\":\"x\"},\"y\":{\"type\":\"field\",\"field\":\"y\"},\"line_color\":\"green\",\"line_alpha\":0.1,\"line_dash\":[2,4]}},\"muted_glyph\":{\"type\":\"object\",\"name\":\"Line\",\"id\":\"p1165\",\"attributes\":{\"x\":{\"type\":\"field\",\"field\":\"x\"},\"y\":{\"type\":\"field\",\"field\":\"y\"},\"line_color\":\"green\",\"line_alpha\":0.2,\"line_dash\":[2,4]}}}},{\"type\":\"object\",\"name\":\"GlyphRenderer\",\"id\":\"p1175\",\"attributes\":{\"data_source\":{\"type\":\"object\",\"name\":\"ColumnDataSource\",\"id\":\"p1169\",\"attributes\":{\"selected\":{\"type\":\"object\",\"name\":\"Selection\",\"id\":\"p1170\",\"attributes\":{\"indices\":[],\"line_indices\":[]}},\"selection_policy\":{\"type\":\"object\",\"name\":\"UnionRenderers\",\"id\":\"p1171\"},\"data\":{\"type\":\"map\"}}},\"view\":{\"type\":\"object\",\"name\":\"CDSView\",\"id\":\"p1176\",\"attributes\":{\"filter\":{\"type\":\"object\",\"name\":\"AllIndices\",\"id\":\"p1177\"}}},\"glyph\":{\"type\":\"object\",\"name\":\"Scatter\",\"id\":\"p1172\",\"attributes\":{\"x\":{\"type\":\"value\",\"value\":0.5},\"y\":{\"type\":\"value\",\"value\":1.0},\"size\":{\"type\":\"value\",\"value\":8},\"line_color\":{\"type\":\"value\",\"value\":\"green\"},\"fill_color\":{\"type\":\"value\",\"value\":\"white\"}}},\"nonselection_glyph\":{\"type\":\"object\",\"name\":\"Scatter\",\"id\":\"p1173\",\"attributes\":{\"x\":{\"type\":\"value\",\"value\":0.5},\"y\":{\"type\":\"value\",\"value\":1.0},\"size\":{\"type\":\"value\",\"value\":8},\"line_color\":{\"type\":\"value\",\"value\":\"green\"},\"line_alpha\":{\"type\":\"value\",\"value\":0.1},\"fill_color\":{\"type\":\"value\",\"value\":\"white\"},\"fill_alpha\":{\"type\":\"value\",\"value\":0.1},\"hatch_alpha\":{\"type\":\"value\",\"value\":0.1}}},\"muted_glyph\":{\"type\":\"object\",\"name\":\"Scatter\",\"id\":\"p1174\",\"attributes\":{\"x\":{\"type\":\"value\",\"value\":0.5},\"y\":{\"type\":\"value\",\"value\":1.0},\"size\":{\"type\":\"value\",\"value\":8},\"line_color\":{\"type\":\"value\",\"value\":\"green\"},\"line_alpha\":{\"type\":\"value\",\"value\":0.2},\"fill_color\":{\"type\":\"value\",\"value\":\"white\"},\"fill_alpha\":{\"type\":\"value\",\"value\":0.2},\"hatch_alpha\":{\"type\":\"value\",\"value\":0.2}}}}},{\"type\":\"object\",\"name\":\"GlyphRenderer\",\"id\":\"p1184\",\"attributes\":{\"data_source\":{\"type\":\"object\",\"name\":\"ColumnDataSource\",\"id\":\"p1178\",\"attributes\":{\"selected\":{\"type\":\"object\",\"name\":\"Selection\",\"id\":\"p1179\",\"attributes\":{\"indices\":[],\"line_indices\":[]}},\"selection_policy\":{\"type\":\"object\",\"name\":\"UnionRenderers\",\"id\":\"p1180\"},\"data\":{\"type\":\"map\"}}},\"view\":{\"type\":\"object\",\"name\":\"CDSView\",\"id\":\"p1185\",\"attributes\":{\"filter\":{\"type\":\"object\",\"name\":\"AllIndices\",\"id\":\"p1186\"}}},\"glyph\":{\"type\":\"object\",\"name\":\"Scatter\",\"id\":\"p1181\",\"attributes\":{\"x\":{\"type\":\"value\",\"value\":0.5},\"y\":{\"type\":\"value\",\"value\":0.0},\"size\":{\"type\":\"value\",\"value\":8},\"line_color\":{\"type\":\"value\",\"value\":\"green\"},\"fill_color\":{\"type\":\"value\",\"value\":\"green\"}}},\"nonselection_glyph\":{\"type\":\"object\",\"name\":\"Scatter\",\"id\":\"p1182\",\"attributes\":{\"x\":{\"type\":\"value\",\"value\":0.5},\"y\":{\"type\":\"value\",\"value\":0.0},\"size\":{\"type\":\"value\",\"value\":8},\"line_color\":{\"type\":\"value\",\"value\":\"green\"},\"line_alpha\":{\"type\":\"value\",\"value\":0.1},\"fill_color\":{\"type\":\"value\",\"value\":\"green\"},\"fill_alpha\":{\"type\":\"value\",\"value\":0.1},\"hatch_alpha\":{\"type\":\"value\",\"value\":0.1}}},\"muted_glyph\":{\"type\":\"object\",\"name\":\"Scatter\",\"id\":\"p1183\",\"attributes\":{\"x\":{\"type\":\"value\",\"value\":0.5},\"y\":{\"type\":\"value\",\"value\":0.0},\"size\":{\"type\":\"value\",\"value\":8},\"line_color\":{\"type\":\"value\",\"value\":\"green\"},\"line_alpha\":{\"type\":\"value\",\"value\":0.2},\"fill_color\":{\"type\":\"value\",\"value\":\"green\"},\"fill_alpha\":{\"type\":\"value\",\"value\":0.2},\"hatch_alpha\":{\"type\":\"value\",\"value\":0.2}}}}}],\"toolbar\":{\"type\":\"object\",\"name\":\"Toolbar\",\"id\":\"p1104\",\"attributes\":{\"tools\":[{\"type\":\"object\",\"name\":\"PanTool\",\"id\":\"p1118\"},{\"type\":\"object\",\"name\":\"WheelZoomTool\",\"id\":\"p1119\",\"attributes\":{\"renderers\":\"auto\"}},{\"type\":\"object\",\"name\":\"BoxZoomTool\",\"id\":\"p1120\",\"attributes\":{\"overlay\":{\"type\":\"object\",\"name\":\"BoxAnnotation\",\"id\":\"p1121\",\"attributes\":{\"syncable\":false,\"level\":\"overlay\",\"visible\":false,\"left\":{\"type\":\"number\",\"value\":\"nan\"},\"right\":{\"type\":\"number\",\"value\":\"nan\"},\"top\":{\"type\":\"number\",\"value\":\"nan\"},\"bottom\":{\"type\":\"number\",\"value\":\"nan\"},\"left_units\":\"canvas\",\"right_units\":\"canvas\",\"top_units\":\"canvas\",\"bottom_units\":\"canvas\",\"line_color\":\"black\",\"line_alpha\":1.0,\"line_width\":2,\"line_dash\":[4,4],\"fill_color\":\"lightgrey\",\"fill_alpha\":0.5}}}},{\"type\":\"object\",\"name\":\"SaveTool\",\"id\":\"p1126\"},{\"type\":\"object\",\"name\":\"ResetTool\",\"id\":\"p1127\"},{\"type\":\"object\",\"name\":\"HelpTool\",\"id\":\"p1128\"}]}},\"toolbar_location\":null,\"left\":[{\"type\":\"object\",\"name\":\"LinearAxis\",\"id\":\"p1113\",\"attributes\":{\"ticker\":{\"type\":\"object\",\"name\":\"BasicTicker\",\"id\":\"p1114\",\"attributes\":{\"mantissas\":[1,2,5]}},\"formatter\":{\"type\":\"object\",\"name\":\"BasicTickFormatter\",\"id\":\"p1115\"},\"axis_label\":\"Loss\",\"major_label_policy\":{\"type\":\"object\",\"name\":\"AllLabels\",\"id\":\"p1116\"}}}],\"below\":[{\"type\":\"object\",\"name\":\"LinearAxis\",\"id\":\"p1108\",\"attributes\":{\"ticker\":{\"type\":\"object\",\"name\":\"BasicTicker\",\"id\":\"p1109\",\"attributes\":{\"mantissas\":[1,2,5]}},\"formatter\":{\"type\":\"object\",\"name\":\"BasicTickFormatter\",\"id\":\"p1110\"},\"axis_label\":\"$$\\\\delta$$\",\"major_label_policy\":{\"type\":\"object\",\"name\":\"AllLabels\",\"id\":\"p1111\"}}}],\"center\":[{\"type\":\"object\",\"name\":\"Grid\",\"id\":\"p1112\",\"attributes\":{\"axis\":{\"id\":\"p1108\"},\"grid_line_color\":null}},{\"type\":\"object\",\"name\":\"Grid\",\"id\":\"p1117\",\"attributes\":{\"dimension\":1,\"axis\":{\"id\":\"p1113\"},\"grid_line_color\":null}},{\"type\":\"object\",\"name\":\"Legend\",\"id\":\"p1138\",\"attributes\":{\"location\":[20,130],\"border_line_color\":null,\"click_policy\":\"hide\",\"items\":[{\"type\":\"object\",\"name\":\"LegendItem\",\"id\":\"p1139\",\"attributes\":{\"label\":{\"type\":\"value\",\"value\":\"Quadratic loss\"},\"renderers\":[{\"id\":\"p1135\"}]}},{\"type\":\"object\",\"name\":\"LegendItem\",\"id\":\"p1149\",\"attributes\":{\"label\":{\"type\":\"value\",\"value\":\"Absolute loss\"},\"renderers\":[{\"id\":\"p1146\"}]}},{\"type\":\"object\",\"name\":\"LegendItem\",\"id\":\"p1159\",\"attributes\":{\"label\":{\"type\":\"value\",\"value\":\"0-1 loss\"},\"renderers\":[{\"id\":\"p1156\"}]}}]}}]}}]}};\n",
       "  const render_items = [{\"docid\":\"46c44663-e340-4b72-89f2-97a2db4a4e91\",\"roots\":{\"p1095\":\"e0434c05-4a17-4287-a265-a4ce0ce4c028\"},\"root_ids\":[\"p1095\"]}];\n",
       "  void root.Bokeh.embed.embed_items_notebook(docs_json, render_items);\n",
       "  }\n",
       "  if (root.Bokeh !== undefined) {\n",
       "    embed_document(root);\n",
       "  } else {\n",
       "    let attempts = 0;\n",
       "    const timer = setInterval(function(root) {\n",
       "      if (root.Bokeh !== undefined) {\n",
       "        clearInterval(timer);\n",
       "        embed_document(root);\n",
       "      } else {\n",
       "        attempts++;\n",
       "        if (attempts > 100) {\n",
       "          clearInterval(timer);\n",
       "          console.log(\"Bokeh: ERROR: Unable to run BokehJS code because BokehJS library is missing\");\n",
       "        }\n",
       "      }\n",
       "    }, 10, root)\n",
       "  }\n",
       "})(window);"
      ],
      "application/vnd.bokehjs_exec.v0+json": ""
     },
     "metadata": {
      "application/vnd.bokehjs_exec.v0+json": {
       "id": "p1095"
      }
     },
     "output_type": "display_data"
    }
   ],
   "source": [
    "q = np.linspace(0, 1, 250)\n",
    "source = ColumnDataSource(\n",
    "    data = dict(\n",
    "        q = q,\n",
    "        loss_L2 = (q - 0.5)**2,\n",
    "        loss_L1 = np.abs(q - 0.5),\n",
    "        loss_01 = np.ones(q.shape),\n",
    "    )\n",
    ")\n",
    "p = figure(width=400, height=300, x_range=(0, 1), title='Loss Function',\n",
    "           toolbar_location=None)\n",
    "p.line('q', 'loss_L2', source=source, line_color='navy', line_width=2,\n",
    "       legend_label='Quadratic loss')\n",
    "p.line('q', 'loss_L1', source=source, line_color='firebrick', line_width=2, line_dash='dashed',\n",
    "       legend_label='Absolute loss')\n",
    "p.line('q', 'loss_01', source=source, line_color='green', line_width=2, line_dash='dashdot',\n",
    "       legend_label='0-1 loss')\n",
    "p.line([0.5, 0.5], [0.0, 1.0], line_color='green', line_dash='dotted')\n",
    "p.scatter(0.5, 1.0, size=8, line_color='green', fill_color='white')\n",
    "p.scatter(0.5, 0.0, size=8, line_color='green', fill_color='green')\n",
    "p.xaxis.axis_label = r'$$\\delta$$'\n",
    "p.yaxis.axis_label = 'Loss'\n",
    "p.legend.location = (20, 130)\n",
    "p.legend.click_policy = 'hide'\n",
    "p.legend.border_line_color = p.xgrid.grid_line_color = p.ygrid.grid_line_color = p.outline_line_color = None\n",
    "show(p)"
   ]
  },
  {
   "cell_type": "markdown",
   "metadata": {},
   "source": [
    "## Numerical Example of Point Estimation: Discrete Prior Case\n",
    "---"
   ]
  },
  {
   "cell_type": "code",
   "execution_count": 18,
   "metadata": {},
   "outputs": [
    {
     "data": {
      "text/html": [
       "<div>\n",
       "<style scoped>\n",
       "    .dataframe tbody tr th:only-of-type {\n",
       "        vertical-align: middle;\n",
       "    }\n",
       "\n",
       "    .dataframe tbody tr th {\n",
       "        vertical-align: top;\n",
       "    }\n",
       "\n",
       "    .dataframe thead th {\n",
       "        text-align: right;\n",
       "    }\n",
       "</style>\n",
       "<table border=\"1\" class=\"dataframe\">\n",
       "  <thead>\n",
       "    <tr style=\"text-align: right;\">\n",
       "      <th></th>\n",
       "      <th>$p(\\theta)$</th>\n",
       "      <th>$p(D|\\theta)$</th>\n",
       "      <th>$p(\\theta|D)$</th>\n",
       "      <th>$\\text{E}[(\\theta-\\delta)^{2}]$</th>\n",
       "      <th>$\\text{E}[|\\theta-\\delta|]$</th>\n",
       "      <th>$\\text{E}[1-1_{\\theta}(\\delta)]$</th>\n",
       "    </tr>\n",
       "    <tr>\n",
       "      <th>$\\theta$</th>\n",
       "      <th></th>\n",
       "      <th></th>\n",
       "      <th></th>\n",
       "      <th></th>\n",
       "      <th></th>\n",
       "      <th></th>\n",
       "    </tr>\n",
       "  </thead>\n",
       "  <tbody>\n",
       "    <tr>\n",
       "      <th>0.0</th>\n",
       "      <td>0.090909</td>\n",
       "      <td>0.00000</td>\n",
       "      <td>0.000000</td>\n",
       "      <td>0.524112</td>\n",
       "      <td>0.707107</td>\n",
       "      <td>1.000000</td>\n",
       "    </tr>\n",
       "    <tr>\n",
       "      <th>0.1</th>\n",
       "      <td>0.090909</td>\n",
       "      <td>0.00009</td>\n",
       "      <td>0.000277</td>\n",
       "      <td>0.392690</td>\n",
       "      <td>0.607107</td>\n",
       "      <td>0.999723</td>\n",
       "    </tr>\n",
       "    <tr>\n",
       "      <th>0.2</th>\n",
       "      <td>0.090909</td>\n",
       "      <td>0.00128</td>\n",
       "      <td>0.003938</td>\n",
       "      <td>0.281269</td>\n",
       "      <td>0.507162</td>\n",
       "      <td>0.996062</td>\n",
       "    </tr>\n",
       "    <tr>\n",
       "      <th>0.3</th>\n",
       "      <td>0.090909</td>\n",
       "      <td>0.00567</td>\n",
       "      <td>0.017443</td>\n",
       "      <td>0.189848</td>\n",
       "      <td>0.408005</td>\n",
       "      <td>0.982557</td>\n",
       "    </tr>\n",
       "    <tr>\n",
       "      <th>0.4</th>\n",
       "      <td>0.090909</td>\n",
       "      <td>0.01536</td>\n",
       "      <td>0.047254</td>\n",
       "      <td>0.118426</td>\n",
       "      <td>0.312337</td>\n",
       "      <td>0.952746</td>\n",
       "    </tr>\n",
       "    <tr>\n",
       "      <th>0.5</th>\n",
       "      <td>0.090909</td>\n",
       "      <td>0.03125</td>\n",
       "      <td>0.096139</td>\n",
       "      <td>0.067005</td>\n",
       "      <td>0.226119</td>\n",
       "      <td>0.903861</td>\n",
       "    </tr>\n",
       "    <tr>\n",
       "      <th>0.6</th>\n",
       "      <td>0.090909</td>\n",
       "      <td>0.05184</td>\n",
       "      <td>0.159483</td>\n",
       "      <td>0.035584</td>\n",
       "      <td>0.159129</td>\n",
       "      <td>0.840517</td>\n",
       "    </tr>\n",
       "    <tr>\n",
       "      <th>0.7</th>\n",
       "      <td>0.090909</td>\n",
       "      <td>0.07203</td>\n",
       "      <td>0.221597</td>\n",
       "      <td>0.024162</td>\n",
       "      <td>0.124036</td>\n",
       "      <td>0.778403</td>\n",
       "    </tr>\n",
       "    <tr>\n",
       "      <th>0.8</th>\n",
       "      <td>0.090909</td>\n",
       "      <td>0.08192</td>\n",
       "      <td>0.252023</td>\n",
       "      <td>0.032741</td>\n",
       "      <td>0.133263</td>\n",
       "      <td>0.747977</td>\n",
       "    </tr>\n",
       "    <tr>\n",
       "      <th>0.9</th>\n",
       "      <td>0.090909</td>\n",
       "      <td>0.06561</td>\n",
       "      <td>0.201846</td>\n",
       "      <td>0.061320</td>\n",
       "      <td>0.192893</td>\n",
       "      <td>0.798154</td>\n",
       "    </tr>\n",
       "    <tr>\n",
       "      <th>1.0</th>\n",
       "      <td>0.090909</td>\n",
       "      <td>0.00000</td>\n",
       "      <td>0.000000</td>\n",
       "      <td>0.109898</td>\n",
       "      <td>0.292893</td>\n",
       "      <td>1.000000</td>\n",
       "    </tr>\n",
       "  </tbody>\n",
       "</table>\n",
       "</div>"
      ],
      "text/plain": [
       "          $p(\\theta)$  $p(D|\\theta)$  $p(\\theta|D)$  \\\n",
       "$\\theta$                                              \n",
       "0.0          0.090909        0.00000       0.000000   \n",
       "0.1          0.090909        0.00009       0.000277   \n",
       "0.2          0.090909        0.00128       0.003938   \n",
       "0.3          0.090909        0.00567       0.017443   \n",
       "0.4          0.090909        0.01536       0.047254   \n",
       "0.5          0.090909        0.03125       0.096139   \n",
       "0.6          0.090909        0.05184       0.159483   \n",
       "0.7          0.090909        0.07203       0.221597   \n",
       "0.8          0.090909        0.08192       0.252023   \n",
       "0.9          0.090909        0.06561       0.201846   \n",
       "1.0          0.090909        0.00000       0.000000   \n",
       "\n",
       "          $\\text{E}[(\\theta-\\delta)^{2}]$  $\\text{E}[|\\theta-\\delta|]$  \\\n",
       "$\\theta$                                                                 \n",
       "0.0                              0.524112                     0.707107   \n",
       "0.1                              0.392690                     0.607107   \n",
       "0.2                              0.281269                     0.507162   \n",
       "0.3                              0.189848                     0.408005   \n",
       "0.4                              0.118426                     0.312337   \n",
       "0.5                              0.067005                     0.226119   \n",
       "0.6                              0.035584                     0.159129   \n",
       "0.7                              0.024162                     0.124036   \n",
       "0.8                              0.032741                     0.133263   \n",
       "0.9                              0.061320                     0.192893   \n",
       "1.0                              0.109898                     0.292893   \n",
       "\n",
       "          $\\text{E}[1-1_{\\theta}(\\delta)]$  \n",
       "$\\theta$                                    \n",
       "0.0                               1.000000  \n",
       "0.1                               0.999723  \n",
       "0.2                               0.996062  \n",
       "0.3                               0.982557  \n",
       "0.4                               0.952746  \n",
       "0.5                               0.903861  \n",
       "0.6                               0.840517  \n",
       "0.7                               0.778403  \n",
       "0.8                               0.747977  \n",
       "0.9                               0.798154  \n",
       "1.0                               1.000000  "
      ]
     },
     "metadata": {},
     "output_type": "display_data"
    }
   ],
   "source": [
    "Theta = np.tile(theta, (11, 1))\n",
    "quad_loss = np.square(Theta - Theta.T)\n",
    "abs_loss = np.abs(Theta - Theta.T)\n",
    "zero_one_loss = np.ones((11, 11)) - np.eye(11)\n",
    "expected_quad_loss = quad_loss @ posterior\n",
    "expected_abs_loss = abs_loss @ posterior\n",
    "expected_zero_one_loss = zero_one_loss @ posterior\n",
    "table = pd.DataFrame(np.vstack((theta,\n",
    "                                prior,\n",
    "                                likelihood,\n",
    "                                posterior,\n",
    "                                expected_quad_loss,\n",
    "                                expected_abs_loss,\n",
    "                                expected_zero_one_loss)).T,\n",
    "                     columns=['$\\\\theta$',\n",
    "                              '$p(\\\\theta)$',\n",
    "                              '$p(D|\\\\theta)$',\n",
    "                              '$p(\\\\theta|D)$',\n",
    "                              '$\\text{E}[(\\\\theta-\\\\delta)^{2}]$',\n",
    "                              '$\\text{E}[|\\\\theta-\\\\delta|]$',\n",
    "                              '$\\text{E}[1-1_{\\\\theta}(\\\\delta)]$'])\n",
    "display(table.set_index('$\\\\theta$'))"
   ]
  },
  {
   "cell_type": "markdown",
   "metadata": {},
   "source": [
    "## Interval Estimation\n",
    "---\n",
    "\n",
    "1. <font color=red>Credible Interval (CI)</font> <br>\n",
    "The credible interval of $\\theta$ is an interval $[a_c, b_c]$ such that\n",
    "\n",
    "  * $P(a_c \\leqq \\theta \\leqq b_c|D) = 1-c$,\n",
    "  * $P(\\theta < a_c|D) = \\frac{c}2$ and $P(\\theta > b_c|D\\} = \\frac{c}2$.\n",
    "\n",
    "2. <font color=red>Highest Posterior Density Interval (HPDI)</font>\n",
    "\n",
    "   The highest posterior density interval of $\\theta$ is an interval $[a_c, b_c]$ such that\n",
    "\n",
    "  * $P(a_c \\leqq \\theta \\leqq b_c|D) = 1-c$,\n",
    "  * for any pair $(\\theta,\\theta^{\\prime})$ such that $\\theta\\in[a_c, b_c]$ and $\\theta^{\\prime}\\notin [a_c, b_c]$, $p(\\theta|D) > p(\\theta^{\\prime}|D)$ must hold.\n",
    "\n",
    "   In particular, if the distribution is unimodal (it has the unique mode), the HPDI must satisfy\n",
    "\n",
    "\\begin{align*}\n",
    " P(a_c \\leqq \\theta \\leqq b_c|D) &= 1-c, \\\\\n",
    " p(a_c|D) &= p(b_c|D).\n",
    "\\end{align*}\n",
    "\n",
    "Here we import a module called `scipy.optimize`. It includes functions for numerical optimization."
   ]
  },
  {
   "cell_type": "code",
   "execution_count": 19,
   "metadata": {},
   "outputs": [],
   "source": [
    "import scipy.optimize as opt"
   ]
  },
  {
   "cell_type": "markdown",
   "metadata": {},
   "source": [
    "The function `beta_hpdi` returns the HPD interval of the beta distribution. The nested function `hdpi_conditions` returns a vector such that\n",
    "\n",
    "$$\n",
    " \\begin{bmatrix}\n",
    " P(\\theta\\leqq b|D) - P(\\theta \\leqq a|D) - p \\\\\n",
    " p(b|D) - p(a|D)\n",
    " \\end{bmatrix},\n",
    "$$\n",
    "\n",
    "where $p=1-c$ and $P(\\theta\\leqq b|D) - P(\\theta \\leqq a|D) = P(a \\leqq \\theta \\leqq b|D)$.\n",
    "\n",
    "So if we find a pair $[a, b]$ that makes the above vector equal to zero, such a pair is regarded as the 100p% HPDI. This is done by the function `root` in `scipy.optimize`.\n",
    "\n",
    "A general syntax of `root` is as follows.\n",
    "```Python\n",
    "root(f, initial_value, arg=(arguments_of_f))\n",
    "```\n",
    "`root` finds a solution of `f`, i.e., a vector $x$ such that $f(x)=0$, by using a seach algorithm. `initial_value` is the starting point of the search algorithm. `arg` is a tuple containing arguments to be passed to `f`."
   ]
  },
  {
   "cell_type": "code",
   "execution_count": 20,
   "metadata": {},
   "outputs": [],
   "source": [
    "def beta_hpdi(prob, alpha, beta, ci0=None):\n",
    "    def hpdi_conditions(v, p, a, b):\n",
    "        eq1 = st.beta.cdf(v[1], a, b) - st.beta.cdf(v[0], a, b) - p\n",
    "        eq2 = st.beta.pdf(v[1], a, b) - st.beta.pdf(v[0], a, b)\n",
    "        return np.hstack((eq1, eq2))\n",
    "    if not ci0:\n",
    "        ci0 = st.beta.interval(prob, alpha, beta)\n",
    "    return opt.root(hpdi_conditions, ci0, args=(prob, alpha, beta)).x"
   ]
  },
  {
   "cell_type": "markdown",
   "metadata": {},
   "source": [
    "The following cell computes the 90% confidence interval `ci` and the 90% highest posterior density interval `hpdi` of $\\text{Beta}(2,5)$ as an illustration. `interval` is a method to compute the credible interval, which is already included in `scipy.stats`."
   ]
  },
  {
   "cell_type": "code",
   "execution_count": 21,
   "metadata": {},
   "outputs": [
    {
     "name": "stderr",
     "output_type": "stream",
     "text": [
      "/Users/teruo/miniforge3/envs/bayes/lib/python3.12/site-packages/scipy/stats/_continuous_distns.py:700: RuntimeWarning: invalid value encountered in _beta_ppf\n",
      "  return _boost._beta_ppf(q, a, b)\n"
     ]
    }
   ],
   "source": [
    "a = 2.0\n",
    "b = 5.0\n",
    "prob = 0.9\n",
    "ci = st.beta.interval(prob, a, b)\n",
    "hpdi = beta_hpdi(prob, a, b)"
   ]
  },
  {
   "cell_type": "markdown",
   "metadata": {},
   "source": [
    "Then we create a figure for comparison betweem `ci` and `hdpi`."
   ]
  },
  {
   "cell_type": "code",
   "execution_count": 22,
   "metadata": {
    "scrolled": true
   },
   "outputs": [
    {
     "data": {
      "text/html": [
       "\n",
       "  <div id=\"e20fc0ae-4cac-4160-a943-218813dabed2\" data-root-id=\"p1281\" style=\"display: contents;\"></div>\n"
      ]
     },
     "metadata": {},
     "output_type": "display_data"
    },
    {
     "data": {
      "application/javascript": [
       "(function(root) {\n",
       "  function embed_document(root) {\n",
       "  const docs_json = {\"4b048d43-24c7-4676-ae92-aecf0cd74a19\":{\"version\":\"3.4.1\",\"title\":\"Bokeh Application\",\"roots\":[{\"type\":\"object\",\"name\":\"Row\",\"id\":\"p1281\",\"attributes\":{\"children\":[{\"type\":\"object\",\"name\":\"Figure\",\"id\":\"p1195\",\"attributes\":{\"width\":400,\"height\":300,\"x_range\":{\"type\":\"object\",\"name\":\"Range1d\",\"id\":\"p1205\"},\"y_range\":{\"type\":\"object\",\"name\":\"Range1d\",\"id\":\"p1206\",\"attributes\":{\"end\":2.8}},\"x_scale\":{\"type\":\"object\",\"name\":\"LinearScale\",\"id\":\"p1207\"},\"y_scale\":{\"type\":\"object\",\"name\":\"LinearScale\",\"id\":\"p1208\"},\"title\":{\"type\":\"object\",\"name\":\"Title\",\"id\":\"p1198\",\"attributes\":{\"text\":\"Credible Interval\"}},\"outline_line_color\":null,\"renderers\":[{\"type\":\"object\",\"name\":\"GlyphRenderer\",\"id\":\"p1225\",\"attributes\":{\"data_source\":{\"type\":\"object\",\"name\":\"ColumnDataSource\",\"id\":\"p1191\",\"attributes\":{\"selected\":{\"type\":\"object\",\"name\":\"Selection\",\"id\":\"p1192\",\"attributes\":{\"indices\":[],\"line_indices\":[]}},\"selection_policy\":{\"type\":\"object\",\"name\":\"UnionRenderers\",\"id\":\"p1193\"},\"data\":{\"type\":\"map\",\"entries\":[[\"x\",{\"type\":\"ndarray\",\"array\":{\"type\":\"bytes\",\"data\":\"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\"},\"shape\":[250],\"dtype\":\"float64\",\"order\":\"little\"}],[\"posterior\",{\"type\":\"ndarray\",\"array\":{\"type\":\"bytes\",\"data\":\"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\"},\"shape\":[250],\"dtype\":\"float64\",\"order\":\"little\"}],[\"ci_x\",{\"type\":\"ndarray\",\"array\":{\"type\":\"bytes\",\"data\":\"TcxxNe4WsD/Mpmx0hJ+wP0yBZ7MaKLE/y1ti8rCwsT9LNl0xRzmyP8oQWHDdwbI/SutSr3NKsz/JxU3uCdOzP0igSC2gW7Q/yHpDbDbktD9HVT6rzGy1P8YvOepi9bU/Rgo0Kfl9tj/F5C5ojwa3P0W/Kaclj7c/xJkk5rsXuD9EdB8lUqC4P8NOGmToKLk/QikVo36xuT/CAxDiFDq6P0HeCiGrwro/wLgFYEFLuz9AkwCf19O7P8Bt+91tXLw/P0j2HATlvD++IvFbmm29Pz7965ow9r0/vdfm2cZ+vj88suEYXQe/P7yM3Ffzj78/nrNry0QMwD/eIOnqj1DAPx2OZgrblMA/XPvjKSbZwD+caGFJcR3BP9zV3mi8YcE/HENciAemwT9csNmnUurBP5sdV8edLsI/24rU5uhywj8a+FEGNLfCP1plzyV/+8I/mtJMRco/wz/aP8pkFYTDPxqtR4RgyMM/WRrFo6sMxD+Zh0LD9lDEP9j0v+JBlcQ/GGI9Ao3ZxD9Yz7oh2B3FP5g8OEEjYsU/2Km1YG6mxT8XFzOAuerFP1eEsJ8EL8Y/lvEtv09zxj/WXqvemrfGPxbMKP7l+8Y/VjmmHTFAxz+WpiM9fITHP9UToVzHyMc/FIEefBINyD9U7pubXVHIP5RbGbuolcg/1MiW2vPZyD8UNhT6Ph7JP1SjkRmKYsk/khAPOdWmyT/SfYxYIOvJPxLrCXhrL8o/UliHl7Zzyj+SxQS3AbjKP9IygtZM/Mo/EqD/9ZdAyz9QDX0V44TLP5B6+jQuycs/0Od3VHkNzD8QVfVzxFHMP1DCcpMPlsw/kC/wslrazD/QnG3SpR7NPw4K6/HwYs0/TndoETynzT+O5OUwh+vNP85RY1DSL84/Dr/gbx10zj9OLF6PaLjOP4yZ266z/M4/zAZZzv5Azz8MdNbtSYXPP0zhUw2Vyc8/RqdoFvAG0D/mXSemFSnQP4YU5jU7S9A/JcukxWBt0D/FgWNVho/QP2U4IuWrsdA/Be/gdNHT0D+lpZ8E9/XQP0VcXpQcGNE/5RIdJEI60T+EyduzZ1zRPySAmkONftE/xDZZ07Kg0T9k7Rdj2MLRPwSk1vL95NE/pFqVgiMH0j9EEVQSSSnSP+PHEqJuS9I/g37RMZRt0j8jNZDBuY/SP8PrTlHfsdI/Y6IN4QTU0j8DWcxwKvbSP6IPiwBQGNM/QsZJkHU60z/ifAggm1zTP4Izx6/AftM/IuqFP+ag0z/CoETPC8PTP2JXA18x5dM/AQ7C7lYH1D+hxIB+fCnUP0F7Pw6iS9Q/4TH+ncdt1D+B6Lwt7Y/UPyCfe70SstQ/wFU6TTjU1D9gDPncXfbUPwDDt2yDGNU/oHl2/Kg61T9AMDWMzlzVP+Dm8xv0ftU/f52yqxmh1T8fVHE7P8PVP78KMMtk5dU/X8HuWooH1j//d63qrynWP58ubHrVS9Y/P+UqCvtt1j/em+mZIJDWP35SqClGstY/HglnuWvU1j++vyVJkfbWP1525Ni2GNc//iyjaNw61z+d42H4AV3XPz2aIIgnf9c/3VDfF02h1z99B56ncsPXPx2+XDeY5dc/vXQbx70H2D9dK9pW4ynYP/zhmOYITNg/nJhXdi5u2D88TxYGVJDYP9wF1ZV5stg/fLyTJZ/U2D8cc1K1xPbYP7wpEUXqGNk/W+DP1A872T/7lo5kNV3ZP5tNTfRaf9k/OwQMhICh2T/busoTpsPZP3txiaPL5dk/GyhIM/EH2j+63gbDFiraP1qVxVI8TNo/+kuE4mFu2j+aAkNyh5DaPzq5AQKtsto/2m/AkdLU2j95Jn8h+PbaPxndPbEdGds/uZP8QEM72z9ZSrvQaF3bP/kAemCOf9s/mbc48LOh2z85bvd/2cPbP9gktg//5ds/eNt0nyQI3D8YkjMvSircP7hI8r5vTNw/WP+wTpVu3D/4tW/eupDcP5hsLm7gstw/NyPt/QXV3D/X2auNK/fcP3eQah1RGd0/F0cprXY73T+3/ec8nF3dP1e0pszBf90/92plXOeh3T+WISTsDMTdPzbY4nsy5t0/1o6hC1gI3j92RWCbfSrePxb8HiujTN4/trLdushu3j9VaZxK7pDeP/UfW9oTs94/ldYZajnV3j81jdj5XvfeP9VDl4mEGd8/dfpVGao73z8VsRSpz13fP7Rn0zj1f98/VB6SyBqi3z/01FBYQMTfP5SLD+hl5t8/GiHnu0UE4D9qfMaDWBXgP7rXpUtrJuA/CjOFE3434D9ajmTbkEjgP6rpQ6OjWeA/+kQja7Zq4D9KoAIzyXvgP5r74frbjOA/6VbBwu6d4D85sqCKAa/gP4kNgFIUwOA/2WhfGifR4D8pxD7iOeLgP3kfHqpM8+A/yXr9cV8E4T8Z1tw5chXhP2kxvAGFJuE/uYybyZc34T8J6HqRqkjhP1lDWlm9WeE/qZ45IdBq4T/5+Rjp4nvhP0hV+LD1jOE/mLDXeAie4T/oC7dAG6/hPzhnlgguwOE/iMJ10EDR4T/YHVWYU+LhPyh5NGBm8+E/eNQTKHkE4j/IL/PvixXiPxiL0reeJuI/aOaxf7E34j+4QZFHxEjiPwidcA/XWeI/WPhP1+lq4j+oUy+f/HviP/iuDmcPjeI/SAruLiKe4j8=\"},\"shape\":[250],\"dtype\":\"float64\",\"order\":\"little\"}],[\"ci_y1\",{\"type\":\"ndarray\",\"array\":{\"type\":\"bytes\",\"data\":\"AAAAAAAAAAAAAAAAAAAAAAAAAAAAAAAAAAAAAAAAAAAAAAAAAAAAAAAAAAAAAAAAAAAAAAAAAAAAAAAAAAAAAAAAAAAAAAAAAAAAAAAAAAAAAAAAAAAAAAAAAAAAAAAAAAAAAAAAAAAAAAAAAAAAAAAAAAAAAAAAAAAAAAAAAAAAAAAAAAAAAAAAAAAAAAAAAAAAAAAAAAAAAAAAAAAAAAAAAAAAAAAAAAAAAAAAAAAAAAAAAAAAAAAAAAAAAAAAAAAAAAAAAAAAAAAAAAAAAAAAAAAAAAAAAAAAAAAAAAAAAAAAAAAAAAAAAAAAAAAAAAAAAAAAAAAAAAAAAAAAAAAAAAAAAAAAAAAAAAAAAAAAAAAAAAAAAAAAAAAAAAAAAAAAAAAAAAAAAAAAAAAAAAAAAAAAAAAAAAAAAAAAAAAAAAAAAAAAAAAAAAAAAAAAAAAAAAAAAAAAAAAAAAAAAAAAAAAAAAAAAAAAAAAAAAAAAAAAAAAAAAAAAAAAAAAAAAAAAAAAAAAAAAAAAAAAAAAAAAAAAAAAAAAAAAAAAAAAAAAAAAAAAAAAAAAAAAAAAAAAAAAAAAAAAAAAAAAAAAAAAAAAAAAAAAAAAAAAAAAAAAAAAAAAAAAAAAAAAAAAAAAAAAAAAAAAAAAAAAAAAAAAAAAAAAAAAAAAAAAAAAAAAAAAAAAAAAAAAAAAAAAAAAAAAAAAAAAAAAAAAAAAAAAAAAAAAAAAAAAAAAAAAAAAAAAAAAAAAAAAAAAAAAAAAAAAAAAAAAAAAAAAAAAAAAAAAAAAAAAAAAAAAAAAAAAAAAAAAAAAAAAAAAAAAAAAAAAAAAAAAAAAAAAAAAAAAAAAAAAAAAAAAAAAAAAAAAAAAAAAAAAAAAAAAAAAAAAAAAAAAAAAAAAAAAAAAAAAAAAAAAAAAAAAAAAAAAAAAAAAAAAAAAAAAAAAAAAAAAAAAAAAAAAAAAAAAAAAAAAAAAAAAAAAAAAAAAAAAAAAAAAAAAAAAAAAAAAAAAAAAAAAAAAAAAAAAAAAAAAAAAAAAAAAAAAAAAAAAAAAAAAAAAAAAAAAAAAAAAAAAAAAAAAAAAAAAAAAAAAAAAAAAAAAAAAAAAAAAAAAAAAAAAAAAAAAAAAAAAAAAAAAAAAAAAAAAAAAAAAAAAAAAAAAAAAAAAAAAAAAAAAAAAAAAAAAAAAAAAAAAAAAAAAAAAAAAAAAAAAAAAAAAAAAAAAAAAAAAAAAAAAAAAAAAAAAAAAAAAAAAAAAAAAAAAAAAAAAAAAAAAAAAAAAAAAAAAAAAAAAAAAAAAAAAAAAAAAAAAAAAAAAAAAAAAAAAAAAAAAAAAAAAAAAAAAAAAAAAAAAAAAAAAAAAAAAAAAAAAAAAAAAAAAAAAAAAAAAAAAAAAAAAAAAAAAAAAAAAAAAAAAAAAAAAAAAAAAAAAAAAAAAAAAAAAAAAAAAAAAAAAAAAAAAAAAAAAAAAAAAAAAAAAAAAAAAAAAAAAAAAAAAAAAAAAAAAAAAAAAAAAAAAAAAAAAAAAAAAAAAAAAAAAAAAAAAAAAAAAAAAAAAAAAAAAAAAAAAAAAAAAAAAAAAAAAAAAAAAAAAAAAAAAAAAAAAAAAAAAAAAAAAAAAAAAAAAAAAAAAAAAAAAAAAAAAAAAAAAAAAAAAAAAAAAAAAAAAAAAAAAAAAAAAAAAAAAAAAAAAAAAAAAAAAAAAAAAAAAAAAAAAAAAAAAAAAAAAAAAAAAAAAAAAAAAAAAAAAAAAAAAAAAAAAAAAAAAAAAAAAAAAAAAAAAAAAAAAAAAAAAAAAAAAAAAAAAAAAAAAAAAAAAAAAAAAAAAAAAAAAAAAAAAAAAAAAAAAAAAAAAAAAAAAAAAAAAAAAAAAAAAAAAAAAAAAAAAAAAAAAAAAAAAAAAAAAAAAAAAAAAAAAAAAAAAAAAAAAAAAAAAAAAAAAAAAAAAAAAAAAAAAAAAAAAAAAAAAAAAAAAAAAAAAAAAAAAAAAAAAAAAAAAAAAAAAAAAAAAAAAAAAAAAAAAAAAAAAAAAAAAAAAAAAAAAAAAAAAAAAAAAAAAAAAAAAAAAAAAAAAAAAAAAAAAAAAAAAAAAAAAAAAAAAAAAAAAAAAAAAAAAAAAAAAAAAAAAAAAAAAAAAAAAAAAAAAAAAAAAAAAAAAAAAAAAAAAAAAAAAAAAAAAAAAAAAAAAAAAAAAAAAAAAAAAAAAAAAAAAAAAAAAAAAAAAAAAAAAAAAAAAAAAAAAAAAAAAAAAAAAAAAAAAAAAAAAAAAAAAAAAAAAAAAAAAAAAAAAAAAAAAAAAAAAAAAAAAAAAAAAAAAAAAAAAAAAAAAAAAAAAAAAAAAAAAAAAAAAAAAAAAAAAAAAAAAAAAAAAAAAAAAAAAAAAAAAAAAAAAAAAAAAAAAAAAAAAAAAAAAAAAAAAAAAAAAAAAAAAAAAAAAAAAAAAAAAAAAAAAAAAAAAAAAAAAAAAAAAAAAAAAAAAAAAAAAAAAAAAAAAAAAAAAAAAAAAAAAAAAAAAAAAAAAAAAAAAAAAAAAAAAAAAAAAAAAAAAAAAAAAAAAAAAAAAAAAAAAAAAAAAAAAAAAAAAAAAAAAAAAAAAAAAAAAAAAAAAAAAAAAAAAAAAAAAAAAAAAAAAAAAAAAAAAAAAAAAAAAAAAAAAAAAAA=\"},\"shape\":[250],\"dtype\":\"float64\",\"order\":\"little\"}],[\"ci_y2\",{\"type\":\"ndarray\",\"array\":{\"type\":\"bytes\",\"data\":\"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\"},\"shape\":[250],\"dtype\":\"float64\",\"order\":\"little\"}],[\"hpdi_x\",{\"type\":\"ndarray\",\"array\":{\"type\":\"bytes\",\"data\":\"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\"},\"shape\":[250],\"dtype\":\"float64\",\"order\":\"little\"}],[\"hpdi_y1\",{\"type\":\"ndarray\",\"array\":{\"type\":\"bytes\",\"data\":\"AAAAAAAAAAAAAAAAAAAAAAAAAAAAAAAAAAAAAAAAAAAAAAAAAAAAAAAAAAAAAAAAAAAAAAAAAAAAAAAAAAAAAAAAAAAAAAAAAAAAAAAAAAAAAAAAAAAAAAAAAAAAAAAAAAAAAAAAAAAAAAAAAAAAAAAAAAAAAAAAAAAAAAAAAAAAAAAAAAAAAAAAAAAAAAAAAAAAAAAAAAAAAAAAAAAAAAAAAAAAAAAAAAAAAAAAAAAAAAAAAAAAAAAAAAAAAAAAAAAAAAAAAAAAAAAAAAAAAAAAAAAAAAAAAAAAAAAAAAAAAAAAAAAAAAAAAAAAAAAAAAAAAAAAAAAAAAAAAAAAAAAAAAAAAAAAAAAAAAAAAAAAAAAAAAAAAAAAAAAAAAAAAAAAAAAAAAAAAAAAAAAAAAAAAAAAAAAAAAAAAAAAAAAAAAAAAAAAAAAAAAAAAAAAAAAAAAAAAAAAAAAAAAAAAAAAAAAAAAAAAAAAAAAAAAAAAAAAAAAAAAAAAAAAAAAAAAAAAAAAAAAAAAAAAAAAAAAAAAAAAAAAAAAAAAAAAAAAAAAAAAAAAAAAAAAAAAAAAAAAAAAAAAAAAAAAAAAAAAAAAAAAAAAAAAAAAAAAAAAAAAAAAAAAAAAAAAAAAAAAAAAAAAAAAAAAAAAAAAAAAAAAAAAAAAAAAAAAAAAAAAAAAAAAAAAAAAAAAAAAAAAAAAAAAAAAAAAAAAAAAAAAAAAAAAAAAAAAAAAAAAAAAAAAAAAAAAAAAAAAAAAAAAAAAAAAAAAAAAAAAAAAAAAAAAAAAAAAAAAAAAAAAAAAAAAAAAAAAAAAAAAAAAAAAAAAAAAAAAAAAAAAAAAAAAAAAAAAAAAAAAAAAAAAAAAAAAAAAAAAAAAAAAAAAAAAAAAAAAAAAAAAAAAAAAAAAAAAAAAAAAAAAAAAAAAAAAAAAAAAAAAAAAAAAAAAAAAAAAAAAAAAAAAAAAAAAAAAAAAAAAAAAAAAAAAAAAAAAAAAAAAAAAAAAAAAAAAAAAAAAAAAAAAAAAAAAAAAAAAAAAAAAAAAAAAAAAAAAAAAAAAAAAAAAAAAAAAAAAAAAAAAAAAAAAAAAAAAAAAAAAAAAAAAAAAAAAAAAAAAAAAAAAAAAAAAAAAAAAAAAAAAAAAAAAAAAAAAAAAAAAAAAAAAAAAAAAAAAAAAAAAAAAAAAAAAAAAAAAAAAAAAAAAAAAAAAAAAAAAAAAAAAAAAAAAAAAAAAAAAAAAAAAAAAAAAAAAAAAAAAAAAAAAAAAAAAAAAAAAAAAAAAAAAAAAAAAAAAAAAAAAAAAAAAAAAAAAAAAAAAAAAAAAAAAAAAAAAAAAAAAAAAAAAAAAAAAAAAAAAAAAAAAAAAAAAAAAAAAAAAAAAAAAAAAAAAAAAAAAAAAAAAAAAAAAAAAAAAAAAAAAAAAAAAAAAAAAAAAAAAAAAAAAAAAAAAAAAAAAAAAAAAAAAAAAAAAAAAAAAAAAAAAAAAAAAAAAAAAAAAAAAAAAAAAAAAAAAAAAAAAAAAAAAAAAAAAAAAAAAAAAAAAAAAAAAAAAAAAAAAAAAAAAAAAAAAAAAAAAAAAAAAAAAAAAAAAAAAAAAAAAAAAAAAAAAAAAAAAAAAAAAAAAAAAAAAAAAAAAAAAAAAAAAAAAAAAAAAAAAAAAAAAAAAAAAAAAAAAAAAAAAAAAAAAAAAAAAAAAAAAAAAAAAAAAAAAAAAAAAAAAAAAAAAAAAAAAAAAAAAAAAAAAAAAAAAAAAAAAAAAAAAAAAAAAAAAAAAAAAAAAAAAAAAAAAAAAAAAAAAAAAAAAAAAAAAAAAAAAAAAAAAAAAAAAAAAAAAAAAAAAAAAAAAAAAAAAAAAAAAAAAAAAAAAAAAAAAAAAAAAAAAAAAAAAAAAAAAAAAAAAAAAAAAAAAAAAAAAAAAAAAAAAAAAAAAAAAAAAAAAAAAAAAAAAAAAAAAAAAAAAAAAAAAAAAAAAAAAAAAAAAAAAAAAAAAAAAAAAAAAAAAAAAAAAAAAAAAAAAAAAAAAAAAAAAAAAAAAAAAAAAAAAAAAAAAAAAAAAAAAAAAAAAAAAAAAAAAAAAAAAAAAAAAAAAAAAAAAAAAAAAAAAAAAAAAAAAAAAAAAAAAAAAAAAAAAAAAAAAAAAAAAAAAAAAAAAAAAAAAAAAAAAAAAAAAAAAAAAAAAAAAAAAAAAAAAAAAAAAAAAAAAAAAAAAAAAAAAAAAAAAAAAAAAAAAAAAAAAAAAAAAAAAAAAAAAAAAAAAAAAAAAAAAAAAAAAAAAAAAAAAAAAAAAAAAAAAAAAAAAAAAAAAAAAAAAAAAAAAAAAAAAAAAAAAAAAAAAAAAAAAAAAAAAAAAAAAAAAAAAAAAAAAAAAAAAAAAAAAAAAAAAAAAAAAAAAAAAAAAAAAAAAAAAAAAAAAAAAAAAAAAAAAAAAAAAAAAAAAAAAAAAAAAAAAAAAAAAAAAAAAAAAAAAAAAAAAAAAAAAAAAAAAAAAAAAAAAAAAAAAAAAAAAAAAAAAAAAAAAAAAAAAAAAAAAAAAAAAAAAAAAAAAAAAAAAAAAAAAAAAAAAAAAAAAAAAAAAAAAAAAAAAAAAAAAAAAAAAAAAAAAAAAAAAAAAAAAAAAAAAAAAAAAAAAAAAAAAAAAAAAAAAAAAAAAAAAAAAAAAAAAAA=\"},\"shape\":[250],\"dtype\":\"float64\",\"order\":\"little\"}],[\"hpdi_y2\",{\"type\":\"ndarray\",\"array\":{\"type\":\"bytes\",\"data\":\"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\"},\"shape\":[250],\"dtype\":\"float64\",\"order\":\"little\"}]]}}},\"view\":{\"type\":\"object\",\"name\":\"CDSView\",\"id\":\"p1226\",\"attributes\":{\"filter\":{\"type\":\"object\",\"name\":\"AllIndices\",\"id\":\"p1227\"}}},\"glyph\":{\"type\":\"object\",\"name\":\"Line\",\"id\":\"p1222\",\"attributes\":{\"x\":{\"type\":\"field\",\"field\":\"x\"},\"y\":{\"type\":\"field\",\"field\":\"posterior\"},\"line_color\":\"navy\",\"line_width\":2}},\"nonselection_glyph\":{\"type\":\"object\",\"name\":\"Line\",\"id\":\"p1223\",\"attributes\":{\"x\":{\"type\":\"field\",\"field\":\"x\"},\"y\":{\"type\":\"field\",\"field\":\"posterior\"},\"line_color\":\"navy\",\"line_alpha\":0.1,\"line_width\":2}},\"muted_glyph\":{\"type\":\"object\",\"name\":\"Line\",\"id\":\"p1224\",\"attributes\":{\"x\":{\"type\":\"field\",\"field\":\"x\"},\"y\":{\"type\":\"field\",\"field\":\"posterior\"},\"line_color\":\"navy\",\"line_alpha\":0.2,\"line_width\":2}}}},{\"type\":\"object\",\"name\":\"GlyphRenderer\",\"id\":\"p1234\",\"attributes\":{\"data_source\":{\"id\":\"p1191\"},\"view\":{\"type\":\"object\",\"name\":\"CDSView\",\"id\":\"p1235\",\"attributes\":{\"filter\":{\"type\":\"object\",\"name\":\"AllIndices\",\"id\":\"p1236\"}}},\"glyph\":{\"type\":\"object\",\"name\":\"VArea\",\"id\":\"p1231\",\"attributes\":{\"x\":{\"type\":\"field\",\"field\":\"ci_x\"},\"y1\":{\"type\":\"field\",\"field\":\"ci_y1\"},\"y2\":{\"type\":\"field\",\"field\":\"ci_y2\"},\"fill_color\":\"#9ecae1\",\"fill_alpha\":0.5}},\"nonselection_glyph\":{\"type\":\"object\",\"name\":\"VArea\",\"id\":\"p1232\",\"attributes\":{\"x\":{\"type\":\"field\",\"field\":\"ci_x\"},\"y1\":{\"type\":\"field\",\"field\":\"ci_y1\"},\"y2\":{\"type\":\"field\",\"field\":\"ci_y2\"},\"fill_color\":\"#9ecae1\",\"fill_alpha\":0.1,\"hatch_alpha\":{\"type\":\"value\",\"value\":0.1}}},\"muted_glyph\":{\"type\":\"object\",\"name\":\"VArea\",\"id\":\"p1233\",\"attributes\":{\"x\":{\"type\":\"field\",\"field\":\"ci_x\"},\"y1\":{\"type\":\"field\",\"field\":\"ci_y1\"},\"y2\":{\"type\":\"field\",\"field\":\"ci_y2\"},\"fill_color\":\"#9ecae1\",\"fill_alpha\":0.2,\"hatch_alpha\":{\"type\":\"value\",\"value\":0.2}}}}}],\"toolbar\":{\"type\":\"object\",\"name\":\"Toolbar\",\"id\":\"p1204\",\"attributes\":{\"tools\":[{\"type\":\"object\",\"name\":\"HoverTool\",\"id\":\"p1194\",\"attributes\":{\"renderers\":\"auto\",\"tooltips\":[[\"\\u03b8\",\"@x{0.0000}\"],[\"posterior\",\"@posterior{0.0000}\"]]}}]}},\"toolbar_location\":null,\"left\":[{\"type\":\"object\",\"name\":\"LinearAxis\",\"id\":\"p1214\",\"attributes\":{\"ticker\":{\"type\":\"object\",\"name\":\"BasicTicker\",\"id\":\"p1215\",\"attributes\":{\"mantissas\":[1,2,5]}},\"formatter\":{\"type\":\"object\",\"name\":\"BasicTickFormatter\",\"id\":\"p1216\"},\"axis_label\":\"Probability density\",\"major_label_policy\":{\"type\":\"object\",\"name\":\"AllLabels\",\"id\":\"p1217\"}}}],\"below\":[{\"type\":\"object\",\"name\":\"LinearAxis\",\"id\":\"p1209\",\"attributes\":{\"ticker\":{\"type\":\"object\",\"name\":\"BasicTicker\",\"id\":\"p1210\",\"attributes\":{\"mantissas\":[1,2,5]}},\"formatter\":{\"type\":\"object\",\"name\":\"BasicTickFormatter\",\"id\":\"p1211\"},\"axis_label\":\"\\u03b8\",\"major_label_policy\":{\"type\":\"object\",\"name\":\"AllLabels\",\"id\":\"p1212\"}}}],\"center\":[{\"type\":\"object\",\"name\":\"Grid\",\"id\":\"p1213\",\"attributes\":{\"axis\":{\"id\":\"p1209\"},\"grid_line_color\":null}},{\"type\":\"object\",\"name\":\"Grid\",\"id\":\"p1218\",\"attributes\":{\"dimension\":1,\"axis\":{\"id\":\"p1214\"},\"grid_line_color\":null}},{\"type\":\"object\",\"name\":\"Span\",\"id\":\"p1237\",\"attributes\":{\"location\":0.8002722440152967,\"line_color\":\"firebrick\"}}]}},{\"type\":\"object\",\"name\":\"Figure\",\"id\":\"p1238\",\"attributes\":{\"width\":400,\"height\":300,\"x_range\":{\"type\":\"object\",\"name\":\"Range1d\",\"id\":\"p1248\"},\"y_range\":{\"type\":\"object\",\"name\":\"Range1d\",\"id\":\"p1249\",\"attributes\":{\"end\":2.8}},\"x_scale\":{\"type\":\"object\",\"name\":\"LinearScale\",\"id\":\"p1250\"},\"y_scale\":{\"type\":\"object\",\"name\":\"LinearScale\",\"id\":\"p1251\"},\"title\":{\"type\":\"object\",\"name\":\"Title\",\"id\":\"p1241\",\"attributes\":{\"text\":\"Highest Posterior Density Interval\"}},\"outline_line_color\":null,\"renderers\":[{\"type\":\"object\",\"name\":\"GlyphRenderer\",\"id\":\"p1268\",\"attributes\":{\"data_source\":{\"id\":\"p1191\"},\"view\":{\"type\":\"object\",\"name\":\"CDSView\",\"id\":\"p1269\",\"attributes\":{\"filter\":{\"type\":\"object\",\"name\":\"AllIndices\",\"id\":\"p1270\"}}},\"glyph\":{\"type\":\"object\",\"name\":\"Line\",\"id\":\"p1265\",\"attributes\":{\"x\":{\"type\":\"field\",\"field\":\"x\"},\"y\":{\"type\":\"field\",\"field\":\"posterior\"},\"line_color\":\"navy\",\"line_width\":2}},\"nonselection_glyph\":{\"type\":\"object\",\"name\":\"Line\",\"id\":\"p1266\",\"attributes\":{\"x\":{\"type\":\"field\",\"field\":\"x\"},\"y\":{\"type\":\"field\",\"field\":\"posterior\"},\"line_color\":\"navy\",\"line_alpha\":0.1,\"line_width\":2}},\"muted_glyph\":{\"type\":\"object\",\"name\":\"Line\",\"id\":\"p1267\",\"attributes\":{\"x\":{\"type\":\"field\",\"field\":\"x\"},\"y\":{\"type\":\"field\",\"field\":\"posterior\"},\"line_color\":\"navy\",\"line_alpha\":0.2,\"line_width\":2}}}},{\"type\":\"object\",\"name\":\"GlyphRenderer\",\"id\":\"p1277\",\"attributes\":{\"data_source\":{\"id\":\"p1191\"},\"view\":{\"type\":\"object\",\"name\":\"CDSView\",\"id\":\"p1278\",\"attributes\":{\"filter\":{\"type\":\"object\",\"name\":\"AllIndices\",\"id\":\"p1279\"}}},\"glyph\":{\"type\":\"object\",\"name\":\"VArea\",\"id\":\"p1274\",\"attributes\":{\"x\":{\"type\":\"field\",\"field\":\"hpdi_x\"},\"y1\":{\"type\":\"field\",\"field\":\"hpdi_y1\"},\"y2\":{\"type\":\"field\",\"field\":\"hpdi_y2\"},\"fill_color\":\"#9ecae1\",\"fill_alpha\":0.5}},\"nonselection_glyph\":{\"type\":\"object\",\"name\":\"VArea\",\"id\":\"p1275\",\"attributes\":{\"x\":{\"type\":\"field\",\"field\":\"hpdi_x\"},\"y1\":{\"type\":\"field\",\"field\":\"hpdi_y1\"},\"y2\":{\"type\":\"field\",\"field\":\"hpdi_y2\"},\"fill_color\":\"#9ecae1\",\"fill_alpha\":0.1,\"hatch_alpha\":{\"type\":\"value\",\"value\":0.1}}},\"muted_glyph\":{\"type\":\"object\",\"name\":\"VArea\",\"id\":\"p1276\",\"attributes\":{\"x\":{\"type\":\"field\",\"field\":\"hpdi_x\"},\"y1\":{\"type\":\"field\",\"field\":\"hpdi_y1\"},\"y2\":{\"type\":\"field\",\"field\":\"hpdi_y2\"},\"fill_color\":\"#9ecae1\",\"fill_alpha\":0.2,\"hatch_alpha\":{\"type\":\"value\",\"value\":0.2}}}}}],\"toolbar\":{\"type\":\"object\",\"name\":\"Toolbar\",\"id\":\"p1247\",\"attributes\":{\"tools\":[{\"id\":\"p1194\"}]}},\"toolbar_location\":null,\"left\":[{\"type\":\"object\",\"name\":\"LinearAxis\",\"id\":\"p1257\",\"attributes\":{\"ticker\":{\"type\":\"object\",\"name\":\"BasicTicker\",\"id\":\"p1258\",\"attributes\":{\"mantissas\":[1,2,5]}},\"formatter\":{\"type\":\"object\",\"name\":\"BasicTickFormatter\",\"id\":\"p1259\"},\"axis_label\":\"Probability density\",\"major_label_policy\":{\"type\":\"object\",\"name\":\"AllLabels\",\"id\":\"p1260\"}}}],\"below\":[{\"type\":\"object\",\"name\":\"LinearAxis\",\"id\":\"p1252\",\"attributes\":{\"ticker\":{\"type\":\"object\",\"name\":\"BasicTicker\",\"id\":\"p1253\",\"attributes\":{\"mantissas\":[1,2,5]}},\"formatter\":{\"type\":\"object\",\"name\":\"BasicTickFormatter\",\"id\":\"p1254\"},\"axis_label\":\"$$\\\\theta$$\",\"major_label_policy\":{\"type\":\"object\",\"name\":\"AllLabels\",\"id\":\"p1255\"}}}],\"center\":[{\"type\":\"object\",\"name\":\"Grid\",\"id\":\"p1256\",\"attributes\":{\"axis\":{\"id\":\"p1252\"},\"grid_line_color\":null}},{\"type\":\"object\",\"name\":\"Grid\",\"id\":\"p1261\",\"attributes\":{\"dimension\":1,\"axis\":{\"id\":\"p1257\"},\"grid_line_color\":null}},{\"type\":\"object\",\"name\":\"Span\",\"id\":\"p1280\",\"attributes\":{\"location\":0.8002722440152967,\"line_color\":\"firebrick\"}}]}}]}}]}};\n",
       "  const render_items = [{\"docid\":\"4b048d43-24c7-4676-ae92-aecf0cd74a19\",\"roots\":{\"p1281\":\"e20fc0ae-4cac-4160-a943-218813dabed2\"},\"root_ids\":[\"p1281\"]}];\n",
       "  void root.Bokeh.embed.embed_items_notebook(docs_json, render_items);\n",
       "  }\n",
       "  if (root.Bokeh !== undefined) {\n",
       "    embed_document(root);\n",
       "  } else {\n",
       "    let attempts = 0;\n",
       "    const timer = setInterval(function(root) {\n",
       "      if (root.Bokeh !== undefined) {\n",
       "        clearInterval(timer);\n",
       "        embed_document(root);\n",
       "      } else {\n",
       "        attempts++;\n",
       "        if (attempts > 100) {\n",
       "          clearInterval(timer);\n",
       "          console.log(\"Bokeh: ERROR: Unable to run BokehJS code because BokehJS library is missing\");\n",
       "        }\n",
       "      }\n",
       "    }, 10, root)\n",
       "  }\n",
       "})(window);"
      ],
      "application/vnd.bokehjs_exec.v0+json": ""
     },
     "metadata": {
      "application/vnd.bokehjs_exec.v0+json": {
       "id": "p1281"
      }
     },
     "output_type": "display_data"
    }
   ],
   "source": [
    "x = np.linspace(0.0, 1.0, 250)\n",
    "ci_x =  np.linspace(ci[0], ci[1], 250)\n",
    "hpdi_x = np.linspace(hpdi[0], hpdi[1], 250)\n",
    "hpdi_height = st.beta.pdf(hpdi[0], a, b)\n",
    "source = ColumnDataSource(\n",
    "    data = dict(\n",
    "        x = x,\n",
    "        posterior = st.beta.pdf(x, a, b),\n",
    "        ci_x = ci_x,\n",
    "        ci_y1 = np.zeros(ci_x.shape),\n",
    "        ci_y2 = st.beta.pdf(ci_x, a, b),\n",
    "        hpdi_x = hpdi_x,\n",
    "        hpdi_y1 = np.zeros(hpdi_x.shape),\n",
    "        hpdi_y2 = st.beta.pdf(hpdi_x, a, b)\n",
    "    )\n",
    ")\n",
    "hover = HoverTool(\n",
    "    tooltips = [\n",
    "        ('\\u03B8', '@x{0.0000}'),\n",
    "        ('posterior', '@posterior{0.0000}')\n",
    "    ]\n",
    ")\n",
    "\n",
    "# Credible Interval (CI)\n",
    "ci_plot = figure(width=400, height=300, x_range=(0, 1), y_range=(0, 2.8),\n",
    "                 title='Credible Interval', tools=[hover], toolbar_location=None)\n",
    "ci_plot.line('x', 'posterior', source=source, line_color='navy', line_width=2)\n",
    "ci_plot.varea('ci_x', 'ci_y1', 'ci_y2', source=source, fill_color='#9ecae1', fill_alpha=0.5)\n",
    "ci_plot.add_layout(Span(location=hpdi_height, dimension='width', line_color='firebrick'))\n",
    "ci_plot.xaxis.axis_label = '\\u03B8'\n",
    "ci_plot.yaxis.axis_label = 'Probability density'\n",
    "ci_plot.xgrid.grid_line_color = ci_plot.ygrid.grid_line_color = ci_plot.outline_line_color = None\n",
    "\n",
    "# Highest Posterior Density Interval (HPDI)\n",
    "hpdi_plot = figure(width=400, height=300, x_range=(0, 1), y_range=(0, 2.8),\n",
    "                   title='Highest Posterior Density Interval', tools=[hover], toolbar_location=None)\n",
    "hpdi_plot.line('x', 'posterior', source=source, line_color='navy', line_width=2)\n",
    "hpdi_plot.varea('hpdi_x', 'hpdi_y1', 'hpdi_y2', source=source, fill_color='#9ecae1', fill_alpha=0.5)\n",
    "hpdi_plot.add_layout(Span(location=hpdi_height, dimension='width', line_color='firebrick'))\n",
    "hpdi_plot.xaxis.axis_label = r'$$\\theta$$'\n",
    "hpdi_plot.yaxis.axis_label = 'Probability density'\n",
    "hpdi_plot.xgrid.grid_line_color = hpdi_plot.ygrid.grid_line_color = hpdi_plot.outline_line_color = None\n",
    "\n",
    "show(row(ci_plot, hpdi_plot))"
   ]
  },
  {
   "cell_type": "markdown",
   "metadata": {},
   "source": [
    "`bernoulli_stats` computes posterior statistics (mean, median, mode, standard deviation, CI, HPDI). The following are standard methods for descriptive statistics:\n",
    "\n",
    "+ `interval` - interval\n",
    "+ `mean` - mean\n",
    "+ `median` - median\n",
    "+ `std` - standard deviation (the square root of the variance)\n",
    "\n",
    "`DataFrame` converts a matrix (NumPy 2D array) into a Pandas dataframe."
   ]
  },
  {
   "cell_type": "code",
   "execution_count": 23,
   "metadata": {},
   "outputs": [],
   "source": [
    "def bernoulli_stats(data, hyper_param, prob=0.95):\n",
    "    a0 = hyper_param['a0']\n",
    "    b0 = hyper_param['b0']\n",
    "    n = data.size\n",
    "    sum_data = data.sum()\n",
    "    a = sum_data + a0\n",
    "    b = n - sum_data + b0\n",
    "    mean_pi = st.beta.mean(a, b)\n",
    "    median_pi = st.beta.median(a, b)\n",
    "    mode_pi = (a - 1.0) / (a + b - 2.0)\n",
    "    sd_pi = st.beta.std(a, b)\n",
    "    ci_pi = st.beta.interval(prob, a, b)\n",
    "    hpdi_pi = beta_hpdi(prob, a, b)\n",
    "    stats = np.hstack((mean_pi, median_pi, mode_pi, sd_pi, ci_pi, hpdi_pi))\n",
    "    stats = stats.reshape((1, 8))\n",
    "    lower = 0.5 * (1.0 - prob) * 100.0\n",
    "    upper = 0.5 * (1.0 + prob) * 100.0\n",
    "    stats_string = ['mean', 'median', 'mode', 'sd',\n",
    "                    f'ci ({lower:4.1f}%)', f'ci ({upper:4.1f}%)',\n",
    "                    f'hpdi ({lower:4.1f}%)', f'hpdi ({upper:4.1f}%)']\n",
    "    param_string = ['$\\\\theta$']\n",
    "    results = pd.DataFrame(stats, index=param_string, columns=stats_string)\n",
    "    return results, a, b"
   ]
  },
  {
   "cell_type": "markdown",
   "metadata": {},
   "source": [
    "In the following cell, we generate 10 pseudo-random numbers from the Bernoulli distribution with $\\theta=\\frac12$ and compute the posterior statistics with `bernoulli_stats`."
   ]
  },
  {
   "cell_type": "code",
   "execution_count": 24,
   "metadata": {
    "scrolled": true
   },
   "outputs": [
    {
     "data": {
      "text/html": [
       "<div>\n",
       "<style scoped>\n",
       "    .dataframe tbody tr th:only-of-type {\n",
       "        vertical-align: middle;\n",
       "    }\n",
       "\n",
       "    .dataframe tbody tr th {\n",
       "        vertical-align: top;\n",
       "    }\n",
       "\n",
       "    .dataframe thead th {\n",
       "        text-align: right;\n",
       "    }\n",
       "</style>\n",
       "<table border=\"1\" class=\"dataframe\">\n",
       "  <thead>\n",
       "    <tr style=\"text-align: right;\">\n",
       "      <th></th>\n",
       "      <th>mean</th>\n",
       "      <th>median</th>\n",
       "      <th>mode</th>\n",
       "      <th>sd</th>\n",
       "      <th>ci ( 2.5%)</th>\n",
       "      <th>ci (97.5%)</th>\n",
       "      <th>hpdi ( 2.5%)</th>\n",
       "      <th>hpdi (97.5%)</th>\n",
       "    </tr>\n",
       "  </thead>\n",
       "  <tbody>\n",
       "    <tr>\n",
       "      <th>$\\theta$</th>\n",
       "      <td>0.333333</td>\n",
       "      <td>0.323804</td>\n",
       "      <td>0.3</td>\n",
       "      <td>0.130744</td>\n",
       "      <td>0.109263</td>\n",
       "      <td>0.609743</td>\n",
       "      <td>0.093372</td>\n",
       "      <td>0.587953</td>\n",
       "    </tr>\n",
       "  </tbody>\n",
       "</table>\n",
       "</div>"
      ],
      "text/plain": [
       "              mean    median  mode        sd  ci ( 2.5%)  ci (97.5%)  \\\n",
       "$\\theta$  0.333333  0.323804   0.3  0.130744    0.109263    0.609743   \n",
       "\n",
       "          hpdi ( 2.5%)  hpdi (97.5%)  \n",
       "$\\theta$      0.093372      0.587953  "
      ]
     },
     "metadata": {},
     "output_type": "display_data"
    }
   ],
   "source": [
    "prob0 = 0.5\n",
    "n = 10\n",
    "hyper_param = dict(\n",
    "    a0 = 1.0,\n",
    "    b0 = 1.0\n",
    ")\n",
    "data = st.bernoulli.rvs(prob0, size=n, random_state=rng)\n",
    "results, a, b = bernoulli_stats(data, hyper_param)\n",
    "display(results)"
   ]
  },
  {
   "cell_type": "markdown",
   "metadata": {},
   "source": [
    "## Bayes Factor\n",
    "---\n",
    "\n",
    "In statistics, either Bayesian or non-Bayesian, a hypothesis on the parameter(s) is a region or interval where the true value of the parameter is supposed to be located. In general, a hypothesis $H_i$ under which the true value of  $\\theta$ is located in a region $S_i\\subset\\Theta$ is expressed as\n",
    "\n",
    "\\begin{equation*}\n",
    " H_i:\\; \\theta\\in S_i, \\quad i=0,1,2,\\dots\n",
    "\\end{equation*}\n",
    "\n",
    "In Bayesian statistics, plausibility of a hypothesis is measured by the posterior probability that the true value of $\\theta$ is located in $S_i$, that is,\n",
    "\n",
    "$$\n",
    " P(H_i|D) = P(\\theta\\in S_i|D) = \\int_{S_i}p(\\theta|D)d\\theta.\n",
    "$$\n",
    "\n",
    "Competing hypotheses can be compared by the <font color=red>Bayes factor</font>, which is defined as\n",
    "\n",
    "$$\n",
    " \\text{Bayes factor} = \\mathrm{B}_{ij}\n",
    " = \\frac{P(H_i|D)}{P(H_j|D)}\\div\\frac{P(H_i)}{P(H_j)}\n",
    " = \\frac{\\text{Posterior odds ratio}}{\\text{Prior odds ratio}}.\n",
    "$$\n",
    "\n",
    "| Rank | &nbsp;&nbsp;&nbsp;&nbsp;&nbsp;&nbsp;&nbsp;&nbsp;&nbsp;&nbsp; Bayes factor $\\mathrm{B}_{ij}$ &nbsp;&nbsp;&nbsp;&nbsp;&nbsp;&nbsp;&nbsp;&nbsp;&nbsp;&nbsp;&nbsp; | Support for $H_j$ |\n",
    "|:----:|:---------------------------------------------:|:-----------------------:|\n",
    "|    0 | $0 < \\log_{10}(\\mathrm{B}_{ij})$              | Rejected                |\n",
    "|    1 | $-\\frac12 < \\log_{10}(\\mathrm{B}_{ij}) < 0$   | Barely worth mentioning |\n",
    "|    2 | $ -1 < \\log_{10}(\\mathrm{B}_{ij}) < -\\frac12$ | Substantial             |\n",
    "|    3 | $-\\frac32< \\log_{10}(\\mathrm{B}_{ij}) < -1$   | Strong                  |\n",
    "|    4 | $-2 < \\log_{10}(\\mathrm{B}_{ij}) < -\\frac32$  | Very strong             |\n",
    "|    5 | $\\log_{10}(\\mathrm{B}_{ij}) < -2$             | Decisive                |"
   ]
  },
  {
   "cell_type": "markdown",
   "metadata": {},
   "source": [
    "We want to check whether the true value of $\\theta$ is more than 50% or not, i.e.,\n",
    "\n",
    "$$\n",
    " \\begin{cases}\n",
    " H_0:\\ & \\theta \\leqq 0.5; \\\\\n",
    " H_1:\\ & \\theta > 0.5.\n",
    " \\end{cases}\n",
    "$$\n",
    "\n",
    "When $\\theta$ is the true vote share of a candidate, supporting $H_1$ implies that this candidate won the election.\n",
    "\n",
    "Suppose the true $\\theta$ is 60% and we generate 500 observations from the Bernoulli distribution with $\\theta=60\\%$."
   ]
  },
  {
   "cell_type": "code",
   "execution_count": 25,
   "metadata": {},
   "outputs": [
    {
     "name": "stdout",
     "output_type": "stream",
     "text": [
      "[0.0, -4.230616486332101, -4.230616486332101]\n"
     ]
    }
   ],
   "source": [
    "p = 0.6\n",
    "n = 500\n",
    "a0 = 1.0\n",
    "b0 = 1.0\n",
    "data = st.bernoulli.rvs(p, size=n, random_state=rng)\n",
    "y = np.sum(data)\n",
    "a_star = y + a0\n",
    "b_star = n - y + b0\n",
    "Prior_odds = st.beta.cdf(0.5, a0, b0) / (1.0 - st.beta.cdf(0.5, a0, b0))\n",
    "Posterior_odds = st.beta.cdf(0.5, a_star, b_star) / (1.0 - st.beta.cdf(0.5, a_star, b_star))\n",
    "Bayes_factor = Posterior_odds / Prior_odds\n",
    "print([np.log10(Prior_odds), np.log10(Posterior_odds), np.log10(Bayes_factor)])"
   ]
  },
  {
   "cell_type": "markdown",
   "metadata": {},
   "source": [
    "In this example, the prior odds ratio is 1. So the Bayes factor is identital to the posterior odds ratio. The Bayes factor suggests that $H_1$ is decisively supported by the evidence. Thus we can safely call the election for this candidate.\n",
    "\n",
    "## Savage-Dickey Density Ratio\n",
    "---\n",
    "\n",
    "The <font color=red>Savage-Dickey density ratio</font> (<font color=red>SDDR</font>) is the Bayes factor specifically designed for \n",
    "\n",
    "$$\n",
    " \\begin{cases}\n",
    " H_0:\\ & \\theta = \\theta_0; \\\\\n",
    " H_1:\\ & \\theta \\ne \\theta_0.\n",
    " \\end{cases}\n",
    "$$\n",
    "\n",
    "The SDDR is based on the spike-and-slab prior:\n",
    "\n",
    "$$\n",
    " p(\\theta) = p_0 \\delta(\\theta-\\theta_0) + (1-p_0)f(\\theta),\\quad 0 < p_0 < 1,\n",
    "$$\n",
    "\n",
    "where the choice of $p_0$ is arbitrary. The SDDR is given by\n",
    "\n",
    "$$\n",
    " \\mathrm{B}_{01} = \\frac{f(\\theta_0|D)}{f(\\theta_0)},\n",
    "$$\n",
    "\n",
    "where $f(\\theta|D)$ is the posterior distribution when $\\theta\\ne\\theta_0$, i.e.,\n",
    "\n",
    "$$\n",
    " f(\\theta|D)= \\frac{p(D|\\theta)f(\\theta)}{\\int_{\\Theta}p(D|\\theta)f(\\theta)d\\theta}.\n",
    "$$\n",
    "\n",
    "As an illustration, we test the following hypotheses \n",
    "\n",
    "$$\n",
    " \\begin{cases}\n",
    " H_0:\\ & \\theta = 0.5; \\\\\n",
    " H_1:\\ & \\theta \\ne 0.5.\n",
    " \\end{cases}\n",
    "$$\n",
    "\n",
    "with the SDDR. We use $\\text{Beta}(1,1)$ (the uniform distribution between 0 and 1) as $f$ in the spike-and-slab prior."
   ]
  },
  {
   "cell_type": "code",
   "execution_count": 26,
   "metadata": {},
   "outputs": [
    {
     "name": "stdout",
     "output_type": "stream",
     "text": [
      "-1.969482100003755\n"
     ]
    }
   ],
   "source": [
    "SDDR = st.beta.pdf(0.5, a_star, b_star)\n",
    "print(np.log10(SDDR))"
   ]
  },
  {
   "cell_type": "markdown",
   "metadata": {},
   "source": [
    "The SDDR suggests that $H_1$ is strongly supported. So we may conclude that the true value of $\\theta$ is not equal to 50%."
   ]
  }
 ],
 "metadata": {
  "kernelspec": {
   "display_name": "Python (Bayes)",
   "language": "python",
   "name": "bayes"
  },
  "language_info": {
   "codemirror_mode": {
    "name": "ipython",
    "version": 3
   },
   "file_extension": ".py",
   "mimetype": "text/x-python",
   "name": "python",
   "nbconvert_exporter": "python",
   "pygments_lexer": "ipython3",
   "version": "3.12.3"
  }
 },
 "nbformat": 4,
 "nbformat_minor": 4
}
