{
 "cells": [
  {
   "cell_type": "markdown",
   "metadata": {},
   "source": [
    "### Example: Cholera Pandemic in London\n",
    "---\n",
    "\n",
    "#### Source\n",
    "\n",
    "https://vincentarelbundock.github.io/Rdatasets/doc/HistData/Cholera.html\n",
    "\n",
    "#### Background\n",
    "\n",
    "1846-1860 Cholera Pandemic (Wikipedia https://en.wikipedia.org/wiki/1846%E2%80%931860_cholera_pandemic)\n",
    "\n",
    "In 1855, John Snow discovered that cholera was mainly transmitted through contaminated water supply by examining the cases of cholera in London. Brigham et al. (2004) re-examined Snow's study by using a more advanced statistical method, logistic regression. \n",
    "\n",
    "#### List of variables\n",
    "\n",
    "+ `district` - name of the district in London, a character vector\n",
    "+ `cholera_drate` - deaths from cholera in 1849 per 10,000 inhabitants, a numeric vector\n",
    "+ `cholera_deaths` - number of deaths registered from cohlera in 1849, a numeric vector\n",
    "+ `popn` - population, in the middle of 1849, a numeric vector\n",
    "+ `elevation` - elevation, in feet above the high water mark, a numeric vector\n",
    "+ `region` - a grouping of the London districts, a factor with levels West North Central South Kent\n",
    "+ `water` - water supply region, a factor with levels Battersea New River Kew; see Details\n",
    "+ `annual_deaths` - annual deaths from all causes, 1838-1844, a numeric vector\n",
    "+ `pop_dens` - population density (persons per acre), a numeric vector\n",
    "+ `persons_house` - persons per inhabited house, a numeric vector\n",
    "+ `house_valpp` - average annual value of house, per person (pounds), a numeric vector\n",
    "+ `poor_rate` - poor rate precept per pound of howse value, a numeric vector\n",
    "+ `area` - district area, a numeric vector\n",
    "+ `houses` - number of houses, a numeric vector\n",
    "+ `house_val` - total house values, a numeric vector\n",
    "\n",
    "*Details:*\n",
    "\n",
    "The supply of water was classified as “Thames, between Battersea and Waterloo Bridges” (central London), “New River, Rivers Lea and Ravensbourne”, and “Thames, at Kew and Hammersmith” (western London). The factor levels use abbreviations for these. The data frame is sorted by increasing elevation above the high water mark.\n",
    "\n",
    "\n",
    "#### Reference\n",
    "\n",
    "Bingham P., Verlander, N. Q., and Cheal, M. J. (2004). \"John Snow, William Farr and the 1849 outbreak of cholera that affected London: a reworking of the data highlights the importance of the water supply.\" *Public Health*, 118(6), 387-394, https://doi.org/10.1016/j.puhe.2004.05.007\n",
    "\n",
    "The following cell loads the cholera data from a CSV file 'Cholera.csv'. Download this file from the keio.jp website and put it and this Jupyter notebook in the same folder."
   ]
  },
  {
   "cell_type": "code",
   "execution_count": null,
   "metadata": {},
   "outputs": [],
   "source": [
    "import numpy as np\n",
    "import scipy.stats as st\n",
    "import scipy.optimize as opt\n",
    "import pandas as pd\n",
    "from IPython.display import display\n",
    "from bokeh.io import show, output_notebook\n",
    "from bokeh.layouts import column, row\n",
    "from bokeh.models import ColumnDataSource, HoverTool, Slider, Span\n",
    "from bokeh.plotting import figure\n",
    "output_notebook()"
   ]
  },
  {
   "cell_type": "code",
   "execution_count": null,
   "metadata": {},
   "outputs": [],
   "source": [
    "def beta_hpdi(ci0, alpha, beta, prob):\n",
    "    def hpdi_conditions(v, a, b, p):\n",
    "        eq1 = st.beta.cdf(v[1], a, b) - st.beta.cdf(v[0], a, b) - p\n",
    "        eq2 = st.beta.pdf(v[1], a, b) - st.beta.pdf(v[0], a, b)\n",
    "        return np.hstack((eq1, eq2))\n",
    "    return opt.root(hpdi_conditions, ci0, args=(alpha, beta, prob)).x"
   ]
  },
  {
   "cell_type": "code",
   "execution_count": null,
   "metadata": {},
   "outputs": [],
   "source": [
    "def bernoulli_stats(y, n, a0, b0, prob):\n",
    "    \"\"\"\n",
    "        y: the sum of all observations\n",
    "        n: the number of observations\n",
    "        a0, b0: the hyperparameters in the beta prior, Beta(a0, b0)\n",
    "        prob: posterior probability for CI and HPDI\n",
    "    \"\"\"\n",
    "    a = y + a0\n",
    "    b = n - y + b0\n",
    "    mean_pi = st.beta.mean(a, b)\n",
    "    median_pi = st.beta.median(a, b)\n",
    "    mode_pi = (a - 1.0) / (a + b - 2.0)\n",
    "    sd_pi = st.beta.std(a, b)\n",
    "    ci_pi = st.beta.interval(prob, a, b)\n",
    "    hpdi_pi = beta_hpdi(ci_pi, a, b, prob)\n",
    "    stats = np.hstack((mean_pi, median_pi, mode_pi, sd_pi, ci_pi, hpdi_pi))\n",
    "    stats = stats.reshape((1, 8))\n",
    "    stats_string = ['mean', 'median', 'mode', 'sd', 'ci (lower)', 'ci (upper)', 'hpdi (lower)', 'hpdi (upper)']\n",
    "    param_string = ['$\\\\theta$']\n",
    "    results = pd.DataFrame(stats, index=param_string, columns=stats_string)\n",
    "    return results, a, b"
   ]
  },
  {
   "cell_type": "code",
   "execution_count": null,
   "metadata": {},
   "outputs": [],
   "source": [
    "cholera = pd.read_csv('Cholera.csv', index_col=0) # Pandas dataframe\n",
    "display(cholera)"
   ]
  },
  {
   "cell_type": "markdown",
   "metadata": {},
   "source": [
    "Suppose each death from cholera independently occurs with probability $\\theta$. In this context, $\\theta$ is interpreted as the true death rate from cholera. We use the uniform prior for $\\theta$."
   ]
  },
  {
   "cell_type": "code",
   "execution_count": null,
   "metadata": {},
   "outputs": [],
   "source": [
    "a0 = 1.0\n",
    "b0 = 1.0"
   ]
  },
  {
   "cell_type": "markdown",
   "metadata": {},
   "source": [
    "The parameters in the posterior distribution $\\alpha_\\star$ and $\\beta_\\star$ are "
   ]
  },
  {
   "cell_type": "code",
   "execution_count": null,
   "metadata": {},
   "outputs": [],
   "source": [
    "y = cholera['cholera_deaths'].sum()\n",
    "n = cholera['popn'].sum()\n",
    "a_star = y + a0\n",
    "b_star = n - y + b0"
   ]
  },
  {
   "cell_type": "markdown",
   "metadata": {},
   "source": [
    "Then we draw the posterior distribution of the death rate."
   ]
  },
  {
   "cell_type": "code",
   "execution_count": null,
   "metadata": {},
   "outputs": [],
   "source": [
    "q = np.linspace(0.004, 0.008, 1001)\n",
    "source = ColumnDataSource(\n",
    "    data=dict(\n",
    "        q = q,\n",
    "        prior_pdf = st.beta.pdf(q, a0, b0),\n",
    "        posterior_pdf = st.beta.pdf(q, a_star, b_star)\n",
    "    )\n",
    ")\n",
    "hover = HoverTool(\n",
    "    tooltips=[\n",
    "        ('\\u03B8', '@q{0.0000}'), \n",
    "        ('prior', '@prior_pdf{0.0000}'),\n",
    "        ('posterior', '@posterior_pdf{0.0000}')\n",
    "    ]\n",
    ")\n",
    "p = figure(width=400, height=300, \n",
    "           tools=[hover], toolbar_location=None, title='Posterior Distribution')\n",
    "p.line('q', 'posterior_pdf', source=source, line_color='navy', line_width=2,\n",
    "       legend_label='Posterior distribution')\n",
    "p.line('q', 'prior_pdf', source=source, line_color='firebrick', line_width=2, line_dash='dashed',\n",
    "       legend_label='Prior distribution')\n",
    "p.xaxis.axis_label = '\\u03B8'\n",
    "p.yaxis.axis_label = 'Probability density'\n",
    "p.legend.location = 'top_left'\n",
    "p.legend.click_policy = 'hide'\n",
    "p.legend.border_line_color = p.xgrid.grid_line_color = p.ygrid.grid_line_color = p.outline_line_color = None\n",
    "show(p)"
   ]
  },
  {
   "cell_type": "markdown",
   "metadata": {},
   "source": [
    "Using the function `bernoulli_stats()` we alread defined, we compute the posterior statistics on $\\theta$."
   ]
  },
  {
   "cell_type": "code",
   "execution_count": null,
   "metadata": {},
   "outputs": [],
   "source": [
    "prob = 0.95\n",
    "results = bernoulli_stats(y, n, a0, b0, prob)[0]\n",
    "display(results)"
   ]
  },
  {
   "cell_type": "markdown",
   "metadata": {},
   "source": [
    "Next, we compute the posterior statistics of $\\theta$ in each district."
   ]
  },
  {
   "cell_type": "code",
   "execution_count": null,
   "metadata": {
    "scrolled": true
   },
   "outputs": [],
   "source": [
    "cholera_results = pd.DataFrame( \\\n",
    "    np.vstack([bernoulli_stats(x.cholera_deaths, x.popn, a0, b0, prob)[0].values for x in cholera.itertuples()]),\n",
    "    columns = ['mean', 'median', 'mode', 'sd', 'ci (lower)', 'ci (upper)', 'hpdi (lower)', 'hpdi (upper)'],\n",
    "    index = cholera['district'].values)\n",
    "display(cholera_results)"
   ]
  }
 ],
 "metadata": {
  "kernelspec": {
   "display_name": "Python (Bayes)",
   "language": "python",
   "name": "bayes"
  },
  "language_info": {
   "codemirror_mode": {
    "name": "ipython",
    "version": 3
   },
   "file_extension": ".py",
   "mimetype": "text/x-python",
   "name": "python",
   "nbconvert_exporter": "python",
   "pygments_lexer": "ipython3",
   "version": "3.10.10"
  }
 },
 "nbformat": 4,
 "nbformat_minor": 4
}
